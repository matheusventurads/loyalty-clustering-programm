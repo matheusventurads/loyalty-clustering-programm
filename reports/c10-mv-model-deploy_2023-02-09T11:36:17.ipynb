{
 "cells": [
  {
   "cell_type": "markdown",
   "id": "92fd61b8",
   "metadata": {
    "heading_collapsed": true,
    "papermill": {
     "duration": 0.015941,
     "end_time": "2023-02-09T14:36:20.481164",
     "exception": false,
     "start_time": "2023-02-09T14:36:20.465223",
     "status": "completed"
    },
    "tags": []
   },
   "source": [
    "# High Value Customer Identification (Insiders)"
   ]
  },
  {
   "cell_type": "code",
   "execution_count": 1,
   "id": "30ca7ed8",
   "metadata": {
    "ExecuteTime": {
     "end_time": "2023-02-09T13:57:44.974054Z",
     "start_time": "2023-02-09T13:57:44.967349Z"
    },
    "execution": {
     "iopub.execute_input": "2023-02-09T14:36:20.544115Z",
     "iopub.status.busy": "2023-02-09T14:36:20.543089Z",
     "iopub.status.idle": "2023-02-09T14:36:22.465963Z",
     "shell.execute_reply": "2023-02-09T14:36:22.464847Z"
    },
    "hidden": true,
    "papermill": {
     "duration": 1.945538,
     "end_time": "2023-02-09T14:36:22.469057",
     "exception": false,
     "start_time": "2023-02-09T14:36:20.523519",
     "status": "completed"
    },
    "tags": []
   },
   "outputs": [],
   "source": [
    "import re\n",
    "import sqlite3\n",
    "import pandas     as pd\n",
    "import numpy      as np\n",
    "import seaborn    as sns\n",
    "\n",
    "from sqlalchemy import create_engine, text\n",
    "\n",
    "from sklearn    import cluster       as c\n",
    "from sklearn    import metrics       as m\n",
    "from matplotlib import pyplot        as plt\n",
    "from sklearn    import preprocessing as pp"
   ]
  },
  {
   "cell_type": "markdown",
   "id": "036bc4bb",
   "metadata": {
    "heading_collapsed": true,
    "hidden": true,
    "papermill": {
     "duration": 0.041727,
     "end_time": "2023-02-09T14:36:22.529869",
     "exception": false,
     "start_time": "2023-02-09T14:36:22.488142",
     "status": "completed"
    },
    "tags": []
   },
   "source": [
    "## 0.1 Helper Functions"
   ]
  },
  {
   "cell_type": "code",
   "execution_count": 2,
   "id": "37969e88",
   "metadata": {
    "ExecuteTime": {
     "end_time": "2023-02-09T13:57:45.026640Z",
     "start_time": "2023-02-09T13:57:44.979812Z"
    },
    "execution": {
     "iopub.execute_input": "2023-02-09T14:36:22.561480Z",
     "iopub.status.busy": "2023-02-09T14:36:22.560621Z",
     "iopub.status.idle": "2023-02-09T14:36:22.572513Z",
     "shell.execute_reply": "2023-02-09T14:36:22.571038Z"
    },
    "hidden": true,
    "papermill": {
     "duration": 0.031226,
     "end_time": "2023-02-09T14:36:22.576027",
     "exception": false,
     "start_time": "2023-02-09T14:36:22.544801",
     "status": "completed"
    },
    "tags": []
   },
   "outputs": [],
   "source": [
    "def descriptive_analysis(num_attributes):\n",
    "    # Tendência Central - média, mediana\n",
    "    ct1 = pd.DataFrame(num_attributes.apply(np.mean)).T\n",
    "    ct2 = pd.DataFrame(num_attributes.apply(np.median)).T\n",
    "\n",
    "    # Dispersão - std, min, max, range, skew, kurtosis\n",
    "    d1 = pd.DataFrame(num_attributes.apply(np.std)).T\n",
    "    d2 = pd.DataFrame(num_attributes.apply(min)).T\n",
    "    d3 = pd.DataFrame(num_attributes.apply(max)).T\n",
    "    d4 = pd.DataFrame(num_attributes.apply(lambda x: x.max() - x.min())).T\n",
    "    d5 = pd.DataFrame(num_attributes.apply(lambda x: x.skew())).T\n",
    "    d6 = pd.DataFrame(num_attributes.apply(lambda x: x.kurtosis())).T\n",
    "\n",
    "    # Concate\n",
    "    m = pd.concat([d2, d3, d4, ct1, ct2, d1, d5, d6]).T.reset_index()\n",
    "    m.columns = (['attributes', 'min', 'max', 'range', 'mean', 'median', 'std', 'skew', 'kurtosis'])\n",
    "    \n",
    "    return m"
   ]
  },
  {
   "cell_type": "markdown",
   "id": "fecb3197",
   "metadata": {
    "hidden": true,
    "papermill": {
     "duration": 0.012479,
     "end_time": "2023-02-09T14:36:22.604944",
     "exception": false,
     "start_time": "2023-02-09T14:36:22.592465",
     "status": "completed"
    },
    "tags": []
   },
   "source": [
    "## 0.2 Load Dataset"
   ]
  },
  {
   "cell_type": "code",
   "execution_count": 3,
   "id": "e7d07b6e",
   "metadata": {
    "ExecuteTime": {
     "end_time": "2023-02-09T14:01:05.939170Z",
     "start_time": "2023-02-09T14:01:04.817347Z"
    },
    "execution": {
     "iopub.execute_input": "2023-02-09T14:36:22.652119Z",
     "iopub.status.busy": "2023-02-09T14:36:22.651311Z",
     "iopub.status.idle": "2023-02-09T14:36:23.615751Z",
     "shell.execute_reply": "2023-02-09T14:36:23.614654Z"
    },
    "hidden": true,
    "papermill": {
     "duration": 0.986033,
     "end_time": "2023-02-09T14:36:23.618084",
     "exception": false,
     "start_time": "2023-02-09T14:36:22.632051",
     "status": "completed"
    },
    "tags": []
   },
   "outputs": [],
   "source": [
    "path = '/home/matheus/repos/loyalty-clustering-programm'\n",
    "\n",
    "data_raw = pd.read_csv(path + '/data/raw/Ecommerce.csv', encoding='unicode_escape')\n",
    "data_raw = data_raw.drop(columns=['Unnamed: 8'])"
   ]
  },
  {
   "cell_type": "markdown",
   "id": "3826b637",
   "metadata": {
    "heading_collapsed": true,
    "papermill": {
     "duration": 0.042687,
     "end_time": "2023-02-09T14:36:23.679972",
     "exception": false,
     "start_time": "2023-02-09T14:36:23.637285",
     "status": "completed"
    },
    "tags": []
   },
   "source": [
    "# 1.0 DESCRIÇÃO DOS DADOS"
   ]
  },
  {
   "cell_type": "code",
   "execution_count": 4,
   "id": "27e7b44e",
   "metadata": {
    "ExecuteTime": {
     "end_time": "2023-02-09T13:57:46.127932Z",
     "start_time": "2023-02-09T13:57:46.100998Z"
    },
    "execution": {
     "iopub.execute_input": "2023-02-09T14:36:23.712990Z",
     "iopub.status.busy": "2023-02-09T14:36:23.712413Z",
     "iopub.status.idle": "2023-02-09T14:36:23.717661Z",
     "shell.execute_reply": "2023-02-09T14:36:23.716695Z"
    },
    "hidden": true,
    "papermill": {
     "duration": 0.023652,
     "end_time": "2023-02-09T14:36:23.720192",
     "exception": false,
     "start_time": "2023-02-09T14:36:23.696540",
     "status": "completed"
    },
    "tags": []
   },
   "outputs": [],
   "source": [
    "df1 = data_raw"
   ]
  },
  {
   "cell_type": "markdown",
   "id": "c9b1a3d4",
   "metadata": {
    "heading_collapsed": true,
    "hidden": true,
    "papermill": {
     "duration": 0.016378,
     "end_time": "2023-02-09T14:36:23.751666",
     "exception": false,
     "start_time": "2023-02-09T14:36:23.735288",
     "status": "completed"
    },
    "tags": []
   },
   "source": [
    "## 1.1 Rename columns"
   ]
  },
  {
   "cell_type": "code",
   "execution_count": 5,
   "id": "80d87104",
   "metadata": {
    "ExecuteTime": {
     "end_time": "2023-02-09T13:57:46.146703Z",
     "start_time": "2023-02-09T13:57:46.135317Z"
    },
    "execution": {
     "iopub.execute_input": "2023-02-09T14:36:23.853529Z",
     "iopub.status.busy": "2023-02-09T14:36:23.852642Z",
     "iopub.status.idle": "2023-02-09T14:36:23.860753Z",
     "shell.execute_reply": "2023-02-09T14:36:23.859182Z"
    },
    "hidden": true,
    "papermill": {
     "duration": 0.056831,
     "end_time": "2023-02-09T14:36:23.865520",
     "exception": false,
     "start_time": "2023-02-09T14:36:23.808689",
     "status": "completed"
    },
    "tags": []
   },
   "outputs": [],
   "source": [
    "# Columns names in snake case\n",
    "cols_new = ['invoice_no', 'stock_code', 'description', 'quantity', \n",
    "            'invoice_date', 'unit_price', 'customer_id', 'country']\n",
    "\n",
    "# Renaming columns\n",
    "df1.columns = cols_new"
   ]
  },
  {
   "cell_type": "markdown",
   "id": "5d3f3d6e",
   "metadata": {
    "heading_collapsed": true,
    "hidden": true,
    "papermill": {
     "duration": 0.014874,
     "end_time": "2023-02-09T14:36:23.894666",
     "exception": false,
     "start_time": "2023-02-09T14:36:23.879792",
     "status": "completed"
    },
    "tags": []
   },
   "source": [
    "## 1.2 Data dimensions"
   ]
  },
  {
   "cell_type": "code",
   "execution_count": 6,
   "id": "25a93ccc",
   "metadata": {
    "ExecuteTime": {
     "end_time": "2023-02-09T13:57:46.168056Z",
     "start_time": "2023-02-09T13:57:46.153968Z"
    },
    "execution": {
     "iopub.execute_input": "2023-02-09T14:36:23.928884Z",
     "iopub.status.busy": "2023-02-09T14:36:23.928511Z",
     "iopub.status.idle": "2023-02-09T14:36:23.935005Z",
     "shell.execute_reply": "2023-02-09T14:36:23.933923Z"
    },
    "hidden": true,
    "papermill": {
     "duration": 0.027391,
     "end_time": "2023-02-09T14:36:23.937607",
     "exception": false,
     "start_time": "2023-02-09T14:36:23.910216",
     "status": "completed"
    },
    "tags": []
   },
   "outputs": [
    {
     "name": "stdout",
     "output_type": "stream",
     "text": [
      "Number of lines: 541909\n",
      "Number of columns: 8\n"
     ]
    }
   ],
   "source": [
    "# Information about shape\n",
    "print(f'Number of lines: {df1.shape[0]}')\n",
    "print(f'Number of columns: {df1.shape[1]}')"
   ]
  },
  {
   "cell_type": "markdown",
   "id": "803731e3",
   "metadata": {
    "ExecuteTime": {
     "end_time": "2023-01-04T11:52:34.428845Z",
     "start_time": "2023-01-04T11:52:34.425354Z"
    },
    "heading_collapsed": true,
    "hidden": true,
    "papermill": {
     "duration": 0.01602,
     "end_time": "2023-02-09T14:36:23.970983",
     "exception": false,
     "start_time": "2023-02-09T14:36:23.954963",
     "status": "completed"
    },
    "tags": []
   },
   "source": [
    "## 1.3 Data types"
   ]
  },
  {
   "cell_type": "code",
   "execution_count": 7,
   "id": "a9f88350",
   "metadata": {
    "ExecuteTime": {
     "end_time": "2023-02-09T13:57:46.183778Z",
     "start_time": "2023-02-09T13:57:46.171915Z"
    },
    "execution": {
     "iopub.execute_input": "2023-02-09T14:36:24.008848Z",
     "iopub.status.busy": "2023-02-09T14:36:24.008039Z",
     "iopub.status.idle": "2023-02-09T14:36:24.020087Z",
     "shell.execute_reply": "2023-02-09T14:36:24.018576Z"
    },
    "hidden": true,
    "papermill": {
     "duration": 0.032579,
     "end_time": "2023-02-09T14:36:24.023105",
     "exception": false,
     "start_time": "2023-02-09T14:36:23.990526",
     "status": "completed"
    },
    "tags": []
   },
   "outputs": [
    {
     "data": {
      "text/plain": [
       "invoice_no       object\n",
       "stock_code       object\n",
       "description      object\n",
       "quantity          int64\n",
       "invoice_date     object\n",
       "unit_price      float64\n",
       "customer_id     float64\n",
       "country          object\n",
       "dtype: object"
      ]
     },
     "execution_count": 7,
     "metadata": {},
     "output_type": "execute_result"
    }
   ],
   "source": [
    "df1.dtypes"
   ]
  },
  {
   "cell_type": "markdown",
   "id": "6b68d321",
   "metadata": {
    "heading_collapsed": true,
    "hidden": true,
    "papermill": {
     "duration": 0.013971,
     "end_time": "2023-02-09T14:36:24.054938",
     "exception": false,
     "start_time": "2023-02-09T14:36:24.040967",
     "status": "completed"
    },
    "tags": []
   },
   "source": [
    "## 1.4 Check NA"
   ]
  },
  {
   "cell_type": "code",
   "execution_count": 8,
   "id": "c5e83522",
   "metadata": {
    "ExecuteTime": {
     "end_time": "2023-02-09T13:57:46.666702Z",
     "start_time": "2023-02-09T13:57:46.187223Z"
    },
    "execution": {
     "iopub.execute_input": "2023-02-09T14:36:24.095810Z",
     "iopub.status.busy": "2023-02-09T14:36:24.095020Z",
     "iopub.status.idle": "2023-02-09T14:36:24.603752Z",
     "shell.execute_reply": "2023-02-09T14:36:24.602498Z"
    },
    "hidden": true,
    "papermill": {
     "duration": 0.536345,
     "end_time": "2023-02-09T14:36:24.607271",
     "exception": false,
     "start_time": "2023-02-09T14:36:24.070926",
     "status": "completed"
    },
    "tags": []
   },
   "outputs": [
    {
     "data": {
      "text/plain": [
       "invoice_no           0\n",
       "stock_code           0\n",
       "description       1454\n",
       "quantity             0\n",
       "invoice_date         0\n",
       "unit_price           0\n",
       "customer_id     135080\n",
       "country              0\n",
       "dtype: int64"
      ]
     },
     "execution_count": 8,
     "metadata": {},
     "output_type": "execute_result"
    }
   ],
   "source": [
    "# Sum of null values\n",
    "df1.isna().sum()"
   ]
  },
  {
   "cell_type": "markdown",
   "id": "c44fdca4",
   "metadata": {
    "heading_collapsed": true,
    "hidden": true,
    "papermill": {
     "duration": 0.042469,
     "end_time": "2023-02-09T14:36:24.665516",
     "exception": false,
     "start_time": "2023-02-09T14:36:24.623047",
     "status": "completed"
    },
    "tags": []
   },
   "source": [
    "## 1.5 Replace NA"
   ]
  },
  {
   "cell_type": "code",
   "execution_count": 9,
   "id": "0542f735",
   "metadata": {
    "ExecuteTime": {
     "end_time": "2023-02-09T13:57:46.762643Z",
     "start_time": "2023-02-09T13:57:46.682252Z"
    },
    "execution": {
     "iopub.execute_input": "2023-02-09T14:36:24.703927Z",
     "iopub.status.busy": "2023-02-09T14:36:24.703520Z",
     "iopub.status.idle": "2023-02-09T14:36:24.771262Z",
     "shell.execute_reply": "2023-02-09T14:36:24.769908Z"
    },
    "hidden": true,
    "papermill": {
     "duration": 0.09211,
     "end_time": "2023-02-09T14:36:24.773709",
     "exception": false,
     "start_time": "2023-02-09T14:36:24.681599",
     "status": "completed"
    },
    "tags": []
   },
   "outputs": [],
   "source": [
    "# Separating null values for customer id\n",
    "df_missing = df1.loc[df1['customer_id'].isna(), :]\n",
    "df_not_missing = df1.loc[~df1['customer_id'].isna(), :]"
   ]
  },
  {
   "cell_type": "markdown",
   "id": "4539832d",
   "metadata": {
    "heading_collapsed": true,
    "hidden": true,
    "papermill": {
     "duration": 0.042549,
     "end_time": "2023-02-09T14:36:24.831658",
     "exception": false,
     "start_time": "2023-02-09T14:36:24.789109",
     "status": "completed"
    },
    "tags": []
   },
   "source": [
    "### Creating Customer ID"
   ]
  },
  {
   "cell_type": "code",
   "execution_count": 10,
   "id": "5f53888e",
   "metadata": {
    "ExecuteTime": {
     "end_time": "2023-02-09T13:57:47.549330Z",
     "start_time": "2023-02-09T13:57:46.765435Z"
    },
    "execution": {
     "iopub.execute_input": "2023-02-09T14:36:24.866411Z",
     "iopub.status.busy": "2023-02-09T14:36:24.865751Z",
     "iopub.status.idle": "2023-02-09T14:36:25.637178Z",
     "shell.execute_reply": "2023-02-09T14:36:25.635978Z"
    },
    "hidden": true,
    "papermill": {
     "duration": 0.792318,
     "end_time": "2023-02-09T14:36:25.639545",
     "exception": false,
     "start_time": "2023-02-09T14:36:24.847227",
     "status": "completed"
    },
    "tags": []
   },
   "outputs": [
    {
     "data": {
      "text/plain": [
       "invoice_no         0\n",
       "stock_code         0\n",
       "description     1454\n",
       "quantity           0\n",
       "invoice_date       0\n",
       "unit_price         0\n",
       "country            0\n",
       "customer_id        0\n",
       "dtype: int64"
      ]
     },
     "execution_count": 10,
     "metadata": {},
     "output_type": "execute_result"
    }
   ],
   "source": [
    "# Creating reference\n",
    "df_backup = pd.DataFrame(df_missing['invoice_no'].drop_duplicates())\n",
    "df_backup['customer_id'] = np.arange(19000, 19000+len(df_backup),1)\n",
    "\n",
    "# Merging dataframes\n",
    "df1 = pd.merge(df1, df_backup, on='invoice_no', how='left')\n",
    "\n",
    "# Coalesce\n",
    "df1['customer_id'] = df1['customer_id_x'].combine_first(df1['customer_id_y'])\n",
    "\n",
    "df1 = df1.drop(columns=['customer_id_x', 'customer_id_y'], axis=1)\n",
    "\n",
    "df1.isna().sum()"
   ]
  },
  {
   "cell_type": "markdown",
   "id": "fd1b7aac",
   "metadata": {
    "heading_collapsed": true,
    "hidden": true,
    "papermill": {
     "duration": 0.042716,
     "end_time": "2023-02-09T14:36:25.701393",
     "exception": false,
     "start_time": "2023-02-09T14:36:25.658677",
     "status": "completed"
    },
    "tags": []
   },
   "source": [
    "## 1.6 Change dtypes"
   ]
  },
  {
   "cell_type": "code",
   "execution_count": 11,
   "id": "64c88b0e",
   "metadata": {
    "ExecuteTime": {
     "end_time": "2023-02-09T13:57:47.648090Z",
     "start_time": "2023-02-09T13:57:47.554121Z"
    },
    "execution": {
     "iopub.execute_input": "2023-02-09T14:36:25.747575Z",
     "iopub.status.busy": "2023-02-09T14:36:25.747063Z",
     "iopub.status.idle": "2023-02-09T14:36:25.825037Z",
     "shell.execute_reply": "2023-02-09T14:36:25.823982Z"
    },
    "hidden": true,
    "papermill": {
     "duration": 0.100252,
     "end_time": "2023-02-09T14:36:25.827449",
     "exception": false,
     "start_time": "2023-02-09T14:36:25.727197",
     "status": "completed"
    },
    "tags": []
   },
   "outputs": [],
   "source": [
    "# Changing date time\n",
    "df1['invoice_date'] = pd.to_datetime(df1['invoice_date'], format='%d-%b-%y')\n",
    "\n",
    "# Changing customer id to integer\n",
    "df1['customer_id'] = df1['customer_id'].astype(int)"
   ]
  },
  {
   "cell_type": "markdown",
   "id": "f26653a6",
   "metadata": {
    "heading_collapsed": true,
    "hidden": true,
    "papermill": {
     "duration": 0.042956,
     "end_time": "2023-02-09T14:36:25.886995",
     "exception": false,
     "start_time": "2023-02-09T14:36:25.844039",
     "status": "completed"
    },
    "tags": []
   },
   "source": [
    "## 1.7 Descripte Statistics"
   ]
  },
  {
   "cell_type": "code",
   "execution_count": 12,
   "id": "b827def5",
   "metadata": {
    "ExecuteTime": {
     "end_time": "2023-02-09T13:57:47.740695Z",
     "start_time": "2023-02-09T13:57:47.651168Z"
    },
    "execution": {
     "iopub.execute_input": "2023-02-09T14:36:25.924421Z",
     "iopub.status.busy": "2023-02-09T14:36:25.924049Z",
     "iopub.status.idle": "2023-02-09T14:36:26.016033Z",
     "shell.execute_reply": "2023-02-09T14:36:26.015106Z"
    },
    "hidden": true,
    "papermill": {
     "duration": 0.11695,
     "end_time": "2023-02-09T14:36:26.018822",
     "exception": false,
     "start_time": "2023-02-09T14:36:25.901872",
     "status": "completed"
    },
    "tags": []
   },
   "outputs": [],
   "source": [
    "# Separating numerical and categorical attributes\n",
    "num_attributes = df1.select_dtypes(include=['int64', 'float64'])\n",
    "cat_attributes = df1.select_dtypes(exclude=['int64', 'float64', 'datetime64[ns]'])"
   ]
  },
  {
   "cell_type": "markdown",
   "id": "8b12cfb3",
   "metadata": {
    "heading_collapsed": true,
    "hidden": true,
    "papermill": {
     "duration": 0.042669,
     "end_time": "2023-02-09T14:36:26.076088",
     "exception": false,
     "start_time": "2023-02-09T14:36:26.033419",
     "status": "completed"
    },
    "tags": []
   },
   "source": [
    "### 1.7.1 Numerical Attributes"
   ]
  },
  {
   "cell_type": "code",
   "execution_count": 13,
   "id": "0d31a86b",
   "metadata": {
    "ExecuteTime": {
     "end_time": "2023-02-09T13:57:48.265515Z",
     "start_time": "2023-02-09T13:57:47.743486Z"
    },
    "execution": {
     "iopub.execute_input": "2023-02-09T14:36:26.117432Z",
     "iopub.status.busy": "2023-02-09T14:36:26.116866Z",
     "iopub.status.idle": "2023-02-09T14:36:26.703690Z",
     "shell.execute_reply": "2023-02-09T14:36:26.702541Z"
    },
    "hidden": true,
    "papermill": {
     "duration": 0.614897,
     "end_time": "2023-02-09T14:36:26.707138",
     "exception": false,
     "start_time": "2023-02-09T14:36:26.092241",
     "status": "completed"
    },
    "tags": []
   },
   "outputs": [
    {
     "data": {
      "text/html": [
       "<div>\n",
       "<style scoped>\n",
       "    .dataframe tbody tr th:only-of-type {\n",
       "        vertical-align: middle;\n",
       "    }\n",
       "\n",
       "    .dataframe tbody tr th {\n",
       "        vertical-align: top;\n",
       "    }\n",
       "\n",
       "    .dataframe thead th {\n",
       "        text-align: right;\n",
       "    }\n",
       "</style>\n",
       "<table border=\"1\" class=\"dataframe\">\n",
       "  <thead>\n",
       "    <tr style=\"text-align: right;\">\n",
       "      <th></th>\n",
       "      <th>attributes</th>\n",
       "      <th>min</th>\n",
       "      <th>max</th>\n",
       "      <th>range</th>\n",
       "      <th>mean</th>\n",
       "      <th>median</th>\n",
       "      <th>std</th>\n",
       "      <th>skew</th>\n",
       "      <th>kurtosis</th>\n",
       "    </tr>\n",
       "  </thead>\n",
       "  <tbody>\n",
       "    <tr>\n",
       "      <th>0</th>\n",
       "      <td>quantity</td>\n",
       "      <td>-80995.00</td>\n",
       "      <td>80995.0</td>\n",
       "      <td>161990.00</td>\n",
       "      <td>9.552250</td>\n",
       "      <td>3.00</td>\n",
       "      <td>218.080957</td>\n",
       "      <td>-0.264076</td>\n",
       "      <td>119769.160031</td>\n",
       "    </tr>\n",
       "    <tr>\n",
       "      <th>1</th>\n",
       "      <td>unit_price</td>\n",
       "      <td>-11062.06</td>\n",
       "      <td>38970.0</td>\n",
       "      <td>50032.06</td>\n",
       "      <td>4.611114</td>\n",
       "      <td>2.08</td>\n",
       "      <td>96.759764</td>\n",
       "      <td>186.506972</td>\n",
       "      <td>59005.719097</td>\n",
       "    </tr>\n",
       "    <tr>\n",
       "      <th>2</th>\n",
       "      <td>customer_id</td>\n",
       "      <td>12346.00</td>\n",
       "      <td>22709.0</td>\n",
       "      <td>10363.00</td>\n",
       "      <td>16688.840453</td>\n",
       "      <td>16249.00</td>\n",
       "      <td>2911.408666</td>\n",
       "      <td>0.487449</td>\n",
       "      <td>-0.804287</td>\n",
       "    </tr>\n",
       "  </tbody>\n",
       "</table>\n",
       "</div>"
      ],
      "text/plain": [
       "    attributes       min      max      range          mean    median  \\\n",
       "0     quantity -80995.00  80995.0  161990.00      9.552250      3.00   \n",
       "1   unit_price -11062.06  38970.0   50032.06      4.611114      2.08   \n",
       "2  customer_id  12346.00  22709.0   10363.00  16688.840453  16249.00   \n",
       "\n",
       "           std        skew       kurtosis  \n",
       "0   218.080957   -0.264076  119769.160031  \n",
       "1    96.759764  186.506972   59005.719097  \n",
       "2  2911.408666    0.487449      -0.804287  "
      ]
     },
     "execution_count": 13,
     "metadata": {},
     "output_type": "execute_result"
    }
   ],
   "source": [
    "descriptive_analysis(num_attributes)"
   ]
  },
  {
   "cell_type": "code",
   "execution_count": 14,
   "id": "f1fafc73",
   "metadata": {
    "ExecuteTime": {
     "end_time": "2023-02-09T13:57:48.316841Z",
     "start_time": "2023-02-09T13:57:48.271281Z"
    },
    "execution": {
     "iopub.execute_input": "2023-02-09T14:36:26.770597Z",
     "iopub.status.busy": "2023-02-09T14:36:26.769878Z",
     "iopub.status.idle": "2023-02-09T14:36:26.808593Z",
     "shell.execute_reply": "2023-02-09T14:36:26.807652Z"
    },
    "hidden": true,
    "papermill": {
     "duration": 0.086243,
     "end_time": "2023-02-09T14:36:26.810798",
     "exception": false,
     "start_time": "2023-02-09T14:36:26.724555",
     "status": "completed"
    },
    "tags": []
   },
   "outputs": [
    {
     "data": {
      "text/html": [
       "<div>\n",
       "<style scoped>\n",
       "    .dataframe tbody tr th:only-of-type {\n",
       "        vertical-align: middle;\n",
       "    }\n",
       "\n",
       "    .dataframe tbody tr th {\n",
       "        vertical-align: top;\n",
       "    }\n",
       "\n",
       "    .dataframe thead th {\n",
       "        text-align: right;\n",
       "    }\n",
       "</style>\n",
       "<table border=\"1\" class=\"dataframe\">\n",
       "  <thead>\n",
       "    <tr style=\"text-align: right;\">\n",
       "      <th></th>\n",
       "      <th>invoice_no</th>\n",
       "      <th>stock_code</th>\n",
       "      <th>description</th>\n",
       "      <th>country</th>\n",
       "    </tr>\n",
       "  </thead>\n",
       "  <tbody>\n",
       "    <tr>\n",
       "      <th>121614</th>\n",
       "      <td>546774</td>\n",
       "      <td>22907</td>\n",
       "      <td>PACK OF 20 NAPKINS PANTRY DESIGN</td>\n",
       "      <td>United Kingdom</td>\n",
       "    </tr>\n",
       "    <tr>\n",
       "      <th>321287</th>\n",
       "      <td>565142</td>\n",
       "      <td>84947</td>\n",
       "      <td>ANTIQUE SILVER TEA GLASS ENGRAVED</td>\n",
       "      <td>United Kingdom</td>\n",
       "    </tr>\n",
       "    <tr>\n",
       "      <th>249064</th>\n",
       "      <td>558881</td>\n",
       "      <td>23284</td>\n",
       "      <td>DOORMAT KEEP CALM AND COME IN</td>\n",
       "      <td>Germany</td>\n",
       "    </tr>\n",
       "    <tr>\n",
       "      <th>176920</th>\n",
       "      <td>552039</td>\n",
       "      <td>23163</td>\n",
       "      <td>REGENCY SUGAR TONGS</td>\n",
       "      <td>United Kingdom</td>\n",
       "    </tr>\n",
       "    <tr>\n",
       "      <th>515976</th>\n",
       "      <td>579832</td>\n",
       "      <td>21485</td>\n",
       "      <td>RETROSPOT HEART HOT WATER BOTTLE</td>\n",
       "      <td>United Kingdom</td>\n",
       "    </tr>\n",
       "    <tr>\n",
       "      <th>348319</th>\n",
       "      <td>567423</td>\n",
       "      <td>23113</td>\n",
       "      <td>PANTRY CHOPPING BOARD</td>\n",
       "      <td>United Kingdom</td>\n",
       "    </tr>\n",
       "    <tr>\n",
       "      <th>47926</th>\n",
       "      <td>540458</td>\n",
       "      <td>15056BL</td>\n",
       "      <td>EDWARDIAN PARASOL BLACK</td>\n",
       "      <td>Germany</td>\n",
       "    </tr>\n",
       "    <tr>\n",
       "      <th>306251</th>\n",
       "      <td>563745</td>\n",
       "      <td>22608</td>\n",
       "      <td>PENS ASSORTED FUNKY JEWELED</td>\n",
       "      <td>United Kingdom</td>\n",
       "    </tr>\n",
       "    <tr>\n",
       "      <th>342339</th>\n",
       "      <td>566851</td>\n",
       "      <td>22722</td>\n",
       "      <td>SET OF 6 SPICE TINS PANTRY DESIGN</td>\n",
       "      <td>United Kingdom</td>\n",
       "    </tr>\n",
       "    <tr>\n",
       "      <th>234773</th>\n",
       "      <td>557602</td>\n",
       "      <td>20726</td>\n",
       "      <td>LUNCH BAG WOODLAND</td>\n",
       "      <td>United Kingdom</td>\n",
       "    </tr>\n",
       "  </tbody>\n",
       "</table>\n",
       "</div>"
      ],
      "text/plain": [
       "       invoice_no stock_code                        description  \\\n",
       "121614     546774      22907   PACK OF 20 NAPKINS PANTRY DESIGN   \n",
       "321287     565142      84947  ANTIQUE SILVER TEA GLASS ENGRAVED   \n",
       "249064     558881      23284      DOORMAT KEEP CALM AND COME IN   \n",
       "176920     552039      23163                REGENCY SUGAR TONGS   \n",
       "515976     579832      21485   RETROSPOT HEART HOT WATER BOTTLE   \n",
       "348319     567423      23113              PANTRY CHOPPING BOARD   \n",
       "47926      540458    15056BL            EDWARDIAN PARASOL BLACK   \n",
       "306251     563745      22608       PENS ASSORTED FUNKY JEWELED    \n",
       "342339     566851      22722  SET OF 6 SPICE TINS PANTRY DESIGN   \n",
       "234773     557602      20726                 LUNCH BAG WOODLAND   \n",
       "\n",
       "               country  \n",
       "121614  United Kingdom  \n",
       "321287  United Kingdom  \n",
       "249064         Germany  \n",
       "176920  United Kingdom  \n",
       "515976  United Kingdom  \n",
       "348319  United Kingdom  \n",
       "47926          Germany  \n",
       "306251  United Kingdom  \n",
       "342339  United Kingdom  \n",
       "234773  United Kingdom  "
      ]
     },
     "execution_count": 14,
     "metadata": {},
     "output_type": "execute_result"
    }
   ],
   "source": [
    "cat_attributes.sample(10)"
   ]
  },
  {
   "cell_type": "markdown",
   "id": "56587e05",
   "metadata": {
    "heading_collapsed": true,
    "hidden": true,
    "papermill": {
     "duration": 0.042742,
     "end_time": "2023-02-09T14:36:26.870202",
     "exception": false,
     "start_time": "2023-02-09T14:36:26.827460",
     "status": "completed"
    },
    "tags": []
   },
   "source": [
    "### Country"
   ]
  },
  {
   "cell_type": "code",
   "execution_count": 15,
   "id": "3aa433be",
   "metadata": {
    "ExecuteTime": {
     "end_time": "2023-02-09T13:57:48.400062Z",
     "start_time": "2023-02-09T13:57:48.321007Z"
    },
    "execution": {
     "iopub.execute_input": "2023-02-09T14:36:26.911307Z",
     "iopub.status.busy": "2023-02-09T14:36:26.910597Z",
     "iopub.status.idle": "2023-02-09T14:36:26.950414Z",
     "shell.execute_reply": "2023-02-09T14:36:26.949227Z"
    },
    "hidden": true,
    "papermill": {
     "duration": 0.067332,
     "end_time": "2023-02-09T14:36:26.954783",
     "exception": false,
     "start_time": "2023-02-09T14:36:26.887451",
     "status": "completed"
    },
    "tags": []
   },
   "outputs": [
    {
     "data": {
      "text/plain": [
       "array(['United Kingdom', 'France', 'Australia', 'Netherlands', 'Germany',\n",
       "       'Norway', 'EIRE', 'Switzerland', 'Spain', 'Poland', 'Portugal',\n",
       "       'Italy', 'Belgium', 'Lithuania', 'Japan', 'Iceland',\n",
       "       'Channel Islands', 'Denmark', 'Cyprus', 'Sweden', 'Austria',\n",
       "       'Israel', 'Finland', 'Bahrain', 'Greece', 'Hong Kong', 'Singapore',\n",
       "       'Lebanon', 'United Arab Emirates', 'Saudi Arabia',\n",
       "       'Czech Republic', 'Canada', 'Unspecified', 'Brazil', 'USA',\n",
       "       'European Community', 'Malta', 'RSA'], dtype=object)"
      ]
     },
     "execution_count": 15,
     "metadata": {},
     "output_type": "execute_result"
    }
   ],
   "source": [
    "cat_attributes['country'].unique()"
   ]
  },
  {
   "cell_type": "code",
   "execution_count": 16,
   "id": "ca0aa646",
   "metadata": {
    "ExecuteTime": {
     "end_time": "2023-02-09T13:57:48.558478Z",
     "start_time": "2023-02-09T13:57:48.410933Z"
    },
    "execution": {
     "iopub.execute_input": "2023-02-09T14:36:27.022871Z",
     "iopub.status.busy": "2023-02-09T14:36:27.022071Z",
     "iopub.status.idle": "2023-02-09T14:36:27.162950Z",
     "shell.execute_reply": "2023-02-09T14:36:27.161702Z"
    },
    "hidden": true,
    "papermill": {
     "duration": 0.19081,
     "end_time": "2023-02-09T14:36:27.165268",
     "exception": false,
     "start_time": "2023-02-09T14:36:26.974458",
     "status": "completed"
    },
    "tags": []
   },
   "outputs": [
    {
     "data": {
      "text/html": [
       "<div>\n",
       "<style scoped>\n",
       "    .dataframe tbody tr th:only-of-type {\n",
       "        vertical-align: middle;\n",
       "    }\n",
       "\n",
       "    .dataframe tbody tr th {\n",
       "        vertical-align: top;\n",
       "    }\n",
       "\n",
       "    .dataframe thead th {\n",
       "        text-align: right;\n",
       "    }\n",
       "</style>\n",
       "<table border=\"1\" class=\"dataframe\">\n",
       "  <thead>\n",
       "    <tr style=\"text-align: right;\">\n",
       "      <th></th>\n",
       "      <th>country</th>\n",
       "      <th>customer_id</th>\n",
       "    </tr>\n",
       "  </thead>\n",
       "  <tbody>\n",
       "    <tr>\n",
       "      <th>36</th>\n",
       "      <td>United Kingdom</td>\n",
       "      <td>7587</td>\n",
       "    </tr>\n",
       "    <tr>\n",
       "      <th>14</th>\n",
       "      <td>Germany</td>\n",
       "      <td>95</td>\n",
       "    </tr>\n",
       "    <tr>\n",
       "      <th>13</th>\n",
       "      <td>France</td>\n",
       "      <td>90</td>\n",
       "    </tr>\n",
       "    <tr>\n",
       "      <th>10</th>\n",
       "      <td>EIRE</td>\n",
       "      <td>44</td>\n",
       "    </tr>\n",
       "    <tr>\n",
       "      <th>31</th>\n",
       "      <td>Spain</td>\n",
       "      <td>31</td>\n",
       "    </tr>\n",
       "  </tbody>\n",
       "</table>\n",
       "</div>"
      ],
      "text/plain": [
       "           country  customer_id\n",
       "36  United Kingdom         7587\n",
       "14         Germany           95\n",
       "13          France           90\n",
       "10            EIRE           44\n",
       "31           Spain           31"
      ]
     },
     "execution_count": 16,
     "metadata": {},
     "output_type": "execute_result"
    }
   ],
   "source": [
    "df1[['customer_id', 'country']].drop_duplicates().groupby('country').count().reset_index().sort_values('customer_id', ascending=False).head()"
   ]
  },
  {
   "cell_type": "markdown",
   "id": "b2628a9f",
   "metadata": {
    "heading_collapsed": true,
    "papermill": {
     "duration": 0.042863,
     "end_time": "2023-02-09T14:36:27.223118",
     "exception": false,
     "start_time": "2023-02-09T14:36:27.180255",
     "status": "completed"
    },
    "tags": []
   },
   "source": [
    "# 2.0 FILTRAGEM DAS VARIÁVEIS"
   ]
  },
  {
   "cell_type": "code",
   "execution_count": 17,
   "id": "7379a26b",
   "metadata": {
    "ExecuteTime": {
     "end_time": "2023-02-09T13:57:48.583048Z",
     "start_time": "2023-02-09T13:57:48.562483Z"
    },
    "execution": {
     "iopub.execute_input": "2023-02-09T14:36:27.258765Z",
     "iopub.status.busy": "2023-02-09T14:36:27.258306Z",
     "iopub.status.idle": "2023-02-09T14:36:27.277877Z",
     "shell.execute_reply": "2023-02-09T14:36:27.276862Z"
    },
    "hidden": true,
    "papermill": {
     "duration": 0.041997,
     "end_time": "2023-02-09T14:36:27.280719",
     "exception": false,
     "start_time": "2023-02-09T14:36:27.238722",
     "status": "completed"
    },
    "tags": []
   },
   "outputs": [],
   "source": [
    "df2 = df1.copy()"
   ]
  },
  {
   "cell_type": "code",
   "execution_count": 18,
   "id": "676a965d",
   "metadata": {
    "ExecuteTime": {
     "end_time": "2023-02-09T13:57:48.896626Z",
     "start_time": "2023-02-09T13:57:48.587310Z"
    },
    "execution": {
     "iopub.execute_input": "2023-02-09T14:36:27.328864Z",
     "iopub.status.busy": "2023-02-09T14:36:27.327899Z",
     "iopub.status.idle": "2023-02-09T14:36:27.620221Z",
     "shell.execute_reply": "2023-02-09T14:36:27.619240Z"
    },
    "hidden": true,
    "papermill": {
     "duration": 0.317615,
     "end_time": "2023-02-09T14:36:27.622868",
     "exception": false,
     "start_time": "2023-02-09T14:36:27.305253",
     "status": "completed"
    },
    "tags": []
   },
   "outputs": [],
   "source": [
    "# unit_price\n",
    "df2 = df2[df2['unit_price'] > 0.04]\n",
    "\n",
    "# stock_code\n",
    "df2 = df2[~df2['stock_code'].isin(['POST', 'D', 'DOT', 'M', 'S', 'AMAZONFEE', 'm', 'DCGSSBOY',\n",
    "                                   'DCGSSGIRL', 'PADS', 'B', 'CRUK'])]\n",
    "\n",
    "# description\n",
    "df2 = df2.drop(columns='description', axis=1)\n",
    "\n",
    "# country\n",
    "df2 = df2[~df2['country'].isin(['European Community', 'Unspecified'])]\n",
    "\n",
    "# quantity\n",
    "df2_returns = df2[df2['quantity'] < 0]\n",
    "df2_purchases = df2[df2['quantity'] >= 0]\n",
    "\n",
    "# Removing bad users\n",
    "df2 = df2[~df2['customer_id'].isin([16446])]"
   ]
  },
  {
   "cell_type": "markdown",
   "id": "a541bee7",
   "metadata": {
    "heading_collapsed": true,
    "papermill": {
     "duration": 0.043125,
     "end_time": "2023-02-09T14:36:27.690816",
     "exception": false,
     "start_time": "2023-02-09T14:36:27.647691",
     "status": "completed"
    },
    "tags": []
   },
   "source": [
    "# 3.0 FEATURE ENGINEERING"
   ]
  },
  {
   "cell_type": "code",
   "execution_count": 19,
   "id": "01392f68",
   "metadata": {
    "ExecuteTime": {
     "end_time": "2023-02-09T13:57:48.925611Z",
     "start_time": "2023-02-09T13:57:48.899141Z"
    },
    "execution": {
     "iopub.execute_input": "2023-02-09T14:36:27.724731Z",
     "iopub.status.busy": "2023-02-09T14:36:27.724048Z",
     "iopub.status.idle": "2023-02-09T14:36:27.739700Z",
     "shell.execute_reply": "2023-02-09T14:36:27.738418Z"
    },
    "hidden": true,
    "papermill": {
     "duration": 0.034841,
     "end_time": "2023-02-09T14:36:27.742325",
     "exception": false,
     "start_time": "2023-02-09T14:36:27.707484",
     "status": "completed"
    },
    "tags": []
   },
   "outputs": [],
   "source": [
    "df3 = df2.copy()"
   ]
  },
  {
   "cell_type": "markdown",
   "id": "da3f590b",
   "metadata": {
    "ExecuteTime": {
     "end_time": "2023-01-09T15:02:42.152928Z",
     "start_time": "2023-01-09T15:02:42.115497Z"
    },
    "heading_collapsed": true,
    "hidden": true,
    "papermill": {
     "duration": 0.025073,
     "end_time": "2023-02-09T14:36:27.785440",
     "exception": false,
     "start_time": "2023-02-09T14:36:27.760367",
     "status": "completed"
    },
    "tags": []
   },
   "source": [
    "## 3.1 Feature Creation"
   ]
  },
  {
   "cell_type": "code",
   "execution_count": 20,
   "id": "b7657863",
   "metadata": {
    "ExecuteTime": {
     "end_time": "2023-02-09T13:57:48.975439Z",
     "start_time": "2023-02-09T13:57:48.929263Z"
    },
    "execution": {
     "iopub.execute_input": "2023-02-09T14:36:27.825021Z",
     "iopub.status.busy": "2023-02-09T14:36:27.824383Z",
     "iopub.status.idle": "2023-02-09T14:36:27.842550Z",
     "shell.execute_reply": "2023-02-09T14:36:27.841556Z"
    },
    "hidden": true,
    "papermill": {
     "duration": 0.03945,
     "end_time": "2023-02-09T14:36:27.844841",
     "exception": false,
     "start_time": "2023-02-09T14:36:27.805391",
     "status": "completed"
    },
    "tags": []
   },
   "outputs": [],
   "source": [
    "# Creating a dataframe with unique customer ids\n",
    "df_ref = pd.DataFrame({'customer_id': df3['customer_id']}).drop_duplicates(ignore_index=True)"
   ]
  },
  {
   "cell_type": "markdown",
   "id": "b097b77f",
   "metadata": {
    "heading_collapsed": true,
    "hidden": true,
    "papermill": {
     "duration": 0.016982,
     "end_time": "2023-02-09T14:36:27.879883",
     "exception": false,
     "start_time": "2023-02-09T14:36:27.862901",
     "status": "completed"
    },
    "tags": []
   },
   "source": [
    "### 3.1.1 Gross Revenue"
   ]
  },
  {
   "cell_type": "code",
   "execution_count": 21,
   "id": "bbd3a482",
   "metadata": {
    "ExecuteTime": {
     "end_time": "2023-02-09T13:57:49.043876Z",
     "start_time": "2023-02-09T13:57:48.978697Z"
    },
    "execution": {
     "iopub.execute_input": "2023-02-09T14:36:27.921059Z",
     "iopub.status.busy": "2023-02-09T14:36:27.920401Z",
     "iopub.status.idle": "2023-02-09T14:36:27.964736Z",
     "shell.execute_reply": "2023-02-09T14:36:27.963495Z"
    },
    "hidden": true,
    "papermill": {
     "duration": 0.070952,
     "end_time": "2023-02-09T14:36:27.969365",
     "exception": false,
     "start_time": "2023-02-09T14:36:27.898413",
     "status": "completed"
    },
    "tags": []
   },
   "outputs": [
    {
     "data": {
      "text/plain": [
       "customer_id       0\n",
       "gross_revenue    91\n",
       "dtype: int64"
      ]
     },
     "execution_count": 21,
     "metadata": {},
     "output_type": "execute_result"
    }
   ],
   "source": [
    "# Creating RFM features\n",
    "# Gross Revenue (quantity * unity price)\n",
    "df2_purchases['gross_revenue'] = df2_purchases['quantity']*df2_purchases['unit_price']\n",
    "\n",
    "# Monetary\n",
    "df_monetary = df2_purchases.loc[:, ['customer_id', 'gross_revenue']].groupby('customer_id').sum().reset_index()\n",
    "\n",
    "# Merging dataframes\n",
    "df_ref = pd.merge(df_ref, df_monetary, on='customer_id', how='left')\n",
    "df_ref.isna().sum()"
   ]
  },
  {
   "cell_type": "markdown",
   "id": "b1a32d91",
   "metadata": {
    "heading_collapsed": true,
    "hidden": true,
    "papermill": {
     "duration": 0.04289,
     "end_time": "2023-02-09T14:36:28.030162",
     "exception": false,
     "start_time": "2023-02-09T14:36:27.987272",
     "status": "completed"
    },
    "tags": []
   },
   "source": [
    "### 3.1.2 Recency - Day From Last Purchase"
   ]
  },
  {
   "cell_type": "code",
   "execution_count": 22,
   "id": "bb316513",
   "metadata": {
    "ExecuteTime": {
     "end_time": "2023-02-09T13:57:49.116058Z",
     "start_time": "2023-02-09T13:57:49.047402Z"
    },
    "execution": {
     "iopub.execute_input": "2023-02-09T14:36:28.069117Z",
     "iopub.status.busy": "2023-02-09T14:36:28.067900Z",
     "iopub.status.idle": "2023-02-09T14:36:28.113637Z",
     "shell.execute_reply": "2023-02-09T14:36:28.112641Z"
    },
    "hidden": true,
    "papermill": {
     "duration": 0.070782,
     "end_time": "2023-02-09T14:36:28.117838",
     "exception": false,
     "start_time": "2023-02-09T14:36:28.047056",
     "status": "completed"
    },
    "tags": []
   },
   "outputs": [
    {
     "data": {
      "text/plain": [
       "customer_id       0\n",
       "gross_revenue    91\n",
       "recency_days     91\n",
       "dtype: int64"
      ]
     },
     "execution_count": 22,
     "metadata": {},
     "output_type": "execute_result"
    }
   ],
   "source": [
    "# Recency - Last Day Purchase for each customer\n",
    "df_recency = df2_purchases[['customer_id', 'invoice_date']].groupby('customer_id').max().reset_index()\n",
    "\n",
    "# Calculating number of days since last purchase\n",
    "df_recency['recency_days'] = (df2_purchases['invoice_date'].max() - df_recency['invoice_date']).dt.days\n",
    "df_recency = df_recency[['customer_id', 'recency_days']]\n",
    "\n",
    "# Merging dataframes\n",
    "df_ref = pd.merge(df_ref, df_recency, on='customer_id', how='left')\n",
    "df_ref.isna().sum()"
   ]
  },
  {
   "cell_type": "markdown",
   "id": "6185ea10",
   "metadata": {
    "heading_collapsed": true,
    "hidden": true,
    "papermill": {
     "duration": 0.042793,
     "end_time": "2023-02-09T14:36:28.177051",
     "exception": false,
     "start_time": "2023-02-09T14:36:28.134258",
     "status": "completed"
    },
    "tags": []
   },
   "source": [
    "### 3.1.4 Quantity of Products Purchased"
   ]
  },
  {
   "cell_type": "code",
   "execution_count": 23,
   "id": "45528e3f",
   "metadata": {
    "ExecuteTime": {
     "end_time": "2023-02-09T13:57:49.311865Z",
     "start_time": "2023-02-09T13:57:49.120936Z"
    },
    "execution": {
     "iopub.execute_input": "2023-02-09T14:36:28.221926Z",
     "iopub.status.busy": "2023-02-09T14:36:28.221062Z",
     "iopub.status.idle": "2023-02-09T14:36:28.360251Z",
     "shell.execute_reply": "2023-02-09T14:36:28.358238Z"
    },
    "hidden": true,
    "papermill": {
     "duration": 0.166279,
     "end_time": "2023-02-09T14:36:28.363237",
     "exception": false,
     "start_time": "2023-02-09T14:36:28.196958",
     "status": "completed"
    },
    "tags": []
   },
   "outputs": [
    {
     "data": {
      "text/plain": [
       "customer_id       0\n",
       "gross_revenue    91\n",
       "recency_days     91\n",
       "qty_products     91\n",
       "dtype: int64"
      ]
     },
     "execution_count": 23,
     "metadata": {},
     "output_type": "execute_result"
    }
   ],
   "source": [
    "# Number of products purchased\n",
    "# Creating dataframe with number of purchases for each customer\n",
    "df_freq = df2_purchases[['customer_id',\n",
    "                         'stock_code']].groupby('customer_id').count().reset_index().rename(columns={'stock_code': 'qty_products'})\n",
    "\n",
    "# Merging dataframes\n",
    "df_ref = pd.merge(df_ref, df_freq, on='customer_id', how='left')\n",
    "df_ref.isna().sum()"
   ]
  },
  {
   "cell_type": "markdown",
   "id": "987f34c0",
   "metadata": {
    "heading_collapsed": true,
    "hidden": true,
    "papermill": {
     "duration": 0.01817,
     "end_time": "2023-02-09T14:36:28.428424",
     "exception": false,
     "start_time": "2023-02-09T14:36:28.410254",
     "status": "completed"
    },
    "tags": []
   },
   "source": [
    "### 3.1.8 Frequency"
   ]
  },
  {
   "cell_type": "code",
   "execution_count": 24,
   "id": "47a6b1bf",
   "metadata": {
    "ExecuteTime": {
     "end_time": "2023-02-09T13:57:51.086565Z",
     "start_time": "2023-02-09T13:57:49.328034Z"
    },
    "execution": {
     "iopub.execute_input": "2023-02-09T14:36:28.472735Z",
     "iopub.status.busy": "2023-02-09T14:36:28.471263Z",
     "iopub.status.idle": "2023-02-09T14:36:30.562259Z",
     "shell.execute_reply": "2023-02-09T14:36:30.561094Z"
    },
    "hidden": true,
    "papermill": {
     "duration": 2.115442,
     "end_time": "2023-02-09T14:36:30.564650",
     "exception": false,
     "start_time": "2023-02-09T14:36:28.449208",
     "status": "completed"
    },
    "tags": []
   },
   "outputs": [
    {
     "data": {
      "text/plain": [
       "customer_id       0\n",
       "gross_revenue    91\n",
       "recency_days     91\n",
       "qty_products     91\n",
       "frequency        91\n",
       "dtype: int64"
      ]
     },
     "execution_count": 24,
     "metadata": {},
     "output_type": "execute_result"
    }
   ],
   "source": [
    "# Aggregating max, min, number of days and number of purchases\n",
    "df_aux = df2_purchases[['customer_id',\n",
    "                        'invoice_no',\n",
    "                        'invoice_date']].drop_duplicates().groupby('customer_id').agg(max_ = ('invoice_date', 'max'),\n",
    "                                                                                      min_ = ('invoice_date', 'min'),\n",
    "                                                                                      days_ = ('invoice_date', \n",
    "                                                                                               lambda x: ((x.max() - x.min()).days)+1),\n",
    "                                                                                      buy_ = ('invoice_no', 'count')\n",
    "                                                                                      ).reset_index()\n",
    "\n",
    "# Frequency\n",
    "df_aux['frequency'] = df_aux[['buy_', 'days_']].apply(lambda x: (x['buy_']/x['days_'])\n",
    "                                                      if x['days_'] != 0 else 0, axis=1)\n",
    "\n",
    "# Merging\n",
    "df_ref = pd.merge(df_ref, df_aux[['customer_id', 'frequency']], on='customer_id', how='left')\n",
    "df_ref.isna().sum()"
   ]
  },
  {
   "cell_type": "markdown",
   "id": "a7af372b",
   "metadata": {
    "heading_collapsed": true,
    "hidden": true,
    "papermill": {
     "duration": 0.023994,
     "end_time": "2023-02-09T14:36:30.608175",
     "exception": false,
     "start_time": "2023-02-09T14:36:30.584181",
     "status": "completed"
    },
    "tags": []
   },
   "source": [
    "### 3.1.9 Number of Returns"
   ]
  },
  {
   "cell_type": "code",
   "execution_count": 25,
   "id": "07cc1376",
   "metadata": {
    "ExecuteTime": {
     "end_time": "2023-02-09T13:57:51.127545Z",
     "start_time": "2023-02-09T13:57:51.090574Z"
    },
    "execution": {
     "iopub.execute_input": "2023-02-09T14:36:30.661522Z",
     "iopub.status.busy": "2023-02-09T14:36:30.660490Z",
     "iopub.status.idle": "2023-02-09T14:36:30.687653Z",
     "shell.execute_reply": "2023-02-09T14:36:30.685477Z"
    },
    "hidden": true,
    "papermill": {
     "duration": 0.056482,
     "end_time": "2023-02-09T14:36:30.689913",
     "exception": false,
     "start_time": "2023-02-09T14:36:30.633431",
     "status": "completed"
    },
    "tags": []
   },
   "outputs": [
    {
     "data": {
      "text/plain": [
       "customer_id       0\n",
       "gross_revenue    91\n",
       "recency_days     91\n",
       "qty_products     91\n",
       "frequency        91\n",
       "qty_returns       0\n",
       "dtype: int64"
      ]
     },
     "execution_count": 25,
     "metadata": {},
     "output_type": "execute_result"
    }
   ],
   "source": [
    "# Number of Returns\n",
    "df_returns = df2_returns[['customer_id', 'quantity']].groupby('customer_id').sum().reset_index().rename(columns={'quantity': \n",
    "                                                                                                                 'qty_returns'})\n",
    "\n",
    "df_returns['qty_returns'] = df_returns['qty_returns']*-1\n",
    "\n",
    "# Merging dataframes\n",
    "df_ref = pd.merge(df_ref, df_returns, on='customer_id', how='left')\n",
    "df_ref.loc[df_ref['qty_returns'].isna(), 'qty_returns'] = 0\n",
    "df_ref.isna().sum()"
   ]
  },
  {
   "cell_type": "markdown",
   "id": "31bd5aa7",
   "metadata": {
    "heading_collapsed": true,
    "papermill": {
     "duration": 0.017037,
     "end_time": "2023-02-09T14:36:30.724587",
     "exception": false,
     "start_time": "2023-02-09T14:36:30.707550",
     "status": "completed"
    },
    "tags": []
   },
   "source": [
    "# 4.0 ANÁLISE EXPLORATÓRIA DOS DADOS (EDA)"
   ]
  },
  {
   "cell_type": "code",
   "execution_count": 26,
   "id": "a1fead84",
   "metadata": {
    "ExecuteTime": {
     "end_time": "2023-02-09T13:57:51.149764Z",
     "start_time": "2023-02-09T13:57:51.131234Z"
    },
    "execution": {
     "iopub.execute_input": "2023-02-09T14:36:30.767669Z",
     "iopub.status.busy": "2023-02-09T14:36:30.767056Z",
     "iopub.status.idle": "2023-02-09T14:36:30.775375Z",
     "shell.execute_reply": "2023-02-09T14:36:30.774218Z"
    },
    "hidden": true,
    "papermill": {
     "duration": 0.028819,
     "end_time": "2023-02-09T14:36:30.777615",
     "exception": false,
     "start_time": "2023-02-09T14:36:30.748796",
     "status": "completed"
    },
    "tags": []
   },
   "outputs": [],
   "source": [
    "df4 = df_ref.dropna().copy()"
   ]
  },
  {
   "cell_type": "markdown",
   "id": "5300e76e",
   "metadata": {
    "ExecuteTime": {
     "end_time": "2023-01-03T13:37:26.887504Z",
     "start_time": "2023-01-03T13:37:26.882112Z"
    },
    "heading_collapsed": true,
    "papermill": {
     "duration": 0.02106,
     "end_time": "2023-02-09T14:36:30.820597",
     "exception": false,
     "start_time": "2023-02-09T14:36:30.799537",
     "status": "completed"
    },
    "tags": []
   },
   "source": [
    "# 5.0 DATA PREPARATION"
   ]
  },
  {
   "cell_type": "code",
   "execution_count": 27,
   "id": "1ad3a518",
   "metadata": {
    "ExecuteTime": {
     "end_time": "2023-02-09T13:57:51.163621Z",
     "start_time": "2023-02-09T13:57:51.153792Z"
    },
    "execution": {
     "iopub.execute_input": "2023-02-09T14:36:30.860918Z",
     "iopub.status.busy": "2023-02-09T14:36:30.860494Z",
     "iopub.status.idle": "2023-02-09T14:36:30.872159Z",
     "shell.execute_reply": "2023-02-09T14:36:30.870530Z"
    },
    "hidden": true,
    "papermill": {
     "duration": 0.035557,
     "end_time": "2023-02-09T14:36:30.874726",
     "exception": false,
     "start_time": "2023-02-09T14:36:30.839169",
     "status": "completed"
    },
    "tags": []
   },
   "outputs": [],
   "source": [
    "cols_selected = ['customer_id', 'gross_revenue', 'recency_days', 'qty_products', 'frequency', 'qty_returns']\n",
    "df5 = df_ref[cols_selected].dropna().copy()"
   ]
  },
  {
   "cell_type": "code",
   "execution_count": 28,
   "id": "a17116d3",
   "metadata": {
    "ExecuteTime": {
     "end_time": "2023-02-09T13:57:51.205263Z",
     "start_time": "2023-02-09T13:57:51.169674Z"
    },
    "execution": {
     "iopub.execute_input": "2023-02-09T14:36:30.915682Z",
     "iopub.status.busy": "2023-02-09T14:36:30.914922Z",
     "iopub.status.idle": "2023-02-09T14:36:30.953961Z",
     "shell.execute_reply": "2023-02-09T14:36:30.952853Z"
    },
    "hidden": true,
    "papermill": {
     "duration": 0.065398,
     "end_time": "2023-02-09T14:36:30.956492",
     "exception": false,
     "start_time": "2023-02-09T14:36:30.891094",
     "status": "completed"
    },
    "tags": []
   },
   "outputs": [],
   "source": [
    "# Encoding features with Min Max Scaler\n",
    "mm = pp.MinMaxScaler()\n",
    "\n",
    "df5['gross_revenue'] = mm.fit_transform(df5[['gross_revenue']])\n",
    "df5['recency_days']  = mm.fit_transform(df5[['recency_days']])\n",
    "df5['qty_products']  = mm.fit_transform(df5[['qty_products']])\n",
    "df5['frequency']     = mm.fit_transform(df5[['frequency']])\n",
    "df5['qty_returns']   = mm.fit_transform(df5[['qty_returns']])"
   ]
  },
  {
   "cell_type": "code",
   "execution_count": 29,
   "id": "6b5b4bdd",
   "metadata": {
    "ExecuteTime": {
     "end_time": "2023-02-09T13:57:51.292669Z",
     "start_time": "2023-02-09T13:57:51.209128Z"
    },
    "execution": {
     "iopub.execute_input": "2023-02-09T14:36:31.022620Z",
     "iopub.status.busy": "2023-02-09T14:36:31.021639Z",
     "iopub.status.idle": "2023-02-09T14:36:31.092758Z",
     "shell.execute_reply": "2023-02-09T14:36:31.091741Z"
    },
    "hidden": true,
    "papermill": {
     "duration": 0.12071,
     "end_time": "2023-02-09T14:36:31.097644",
     "exception": false,
     "start_time": "2023-02-09T14:36:30.976934",
     "status": "completed"
    },
    "tags": []
   },
   "outputs": [],
   "source": [
    "df5.to_csv(path + '/src/data/data_scaled.csv', index=False)"
   ]
  },
  {
   "cell_type": "markdown",
   "id": "fc8cecf4",
   "metadata": {
    "heading_collapsed": true,
    "papermill": {
     "duration": 0.030919,
     "end_time": "2023-02-09T14:36:31.145987",
     "exception": false,
     "start_time": "2023-02-09T14:36:31.115068",
     "status": "completed"
    },
    "tags": []
   },
   "source": [
    "# 7.0 HYPERPARAMETER FINE-TUNNING "
   ]
  },
  {
   "cell_type": "code",
   "execution_count": 30,
   "id": "cf725d61",
   "metadata": {
    "ExecuteTime": {
     "end_time": "2023-02-09T13:57:51.305140Z",
     "start_time": "2023-02-09T13:57:51.296337Z"
    },
    "execution": {
     "iopub.execute_input": "2023-02-09T14:36:31.190719Z",
     "iopub.status.busy": "2023-02-09T14:36:31.190340Z",
     "iopub.status.idle": "2023-02-09T14:36:31.198363Z",
     "shell.execute_reply": "2023-02-09T14:36:31.196621Z"
    },
    "hidden": true,
    "papermill": {
     "duration": 0.030491,
     "end_time": "2023-02-09T14:36:31.201094",
     "exception": false,
     "start_time": "2023-02-09T14:36:31.170603",
     "status": "completed"
    },
    "tags": []
   },
   "outputs": [],
   "source": [
    "df7 = df5.drop(columns=['customer_id']).copy()"
   ]
  },
  {
   "cell_type": "markdown",
   "id": "1d44b10b",
   "metadata": {
    "heading_collapsed": true,
    "papermill": {
     "duration": 0.017494,
     "end_time": "2023-02-09T14:36:31.236468",
     "exception": false,
     "start_time": "2023-02-09T14:36:31.218974",
     "status": "completed"
    },
    "tags": []
   },
   "source": [
    "# 8.0 MODEL TRAINING"
   ]
  },
  {
   "cell_type": "code",
   "execution_count": 31,
   "id": "33e6ed62",
   "metadata": {
    "ExecuteTime": {
     "end_time": "2023-02-09T13:57:51.345463Z",
     "start_time": "2023-02-09T13:57:51.309512Z"
    },
    "execution": {
     "iopub.execute_input": "2023-02-09T14:36:31.278463Z",
     "iopub.status.busy": "2023-02-09T14:36:31.277273Z",
     "iopub.status.idle": "2023-02-09T14:36:31.283648Z",
     "shell.execute_reply": "2023-02-09T14:36:31.282371Z"
    },
    "hidden": true,
    "papermill": {
     "duration": 0.029795,
     "end_time": "2023-02-09T14:36:31.286735",
     "exception": false,
     "start_time": "2023-02-09T14:36:31.256940",
     "status": "completed"
    },
    "tags": []
   },
   "outputs": [],
   "source": [
    "df8 = df7.copy()"
   ]
  },
  {
   "cell_type": "markdown",
   "id": "ec83b734",
   "metadata": {
    "hidden": true,
    "papermill": {
     "duration": 0.023803,
     "end_time": "2023-02-09T14:36:31.330775",
     "exception": false,
     "start_time": "2023-02-09T14:36:31.306972",
     "status": "completed"
    },
    "tags": []
   },
   "source": [
    "## 8.1 Final Model"
   ]
  },
  {
   "cell_type": "code",
   "execution_count": 32,
   "id": "96b3eb7b",
   "metadata": {
    "ExecuteTime": {
     "end_time": "2023-02-09T13:57:54.319133Z",
     "start_time": "2023-02-09T13:57:51.349587Z"
    },
    "execution": {
     "iopub.execute_input": "2023-02-09T14:36:31.371948Z",
     "iopub.status.busy": "2023-02-09T14:36:31.370866Z",
     "iopub.status.idle": "2023-02-09T14:36:37.211962Z",
     "shell.execute_reply": "2023-02-09T14:36:37.210662Z"
    },
    "hidden": true,
    "hide_input": false,
    "papermill": {
     "duration": 5.864514,
     "end_time": "2023-02-09T14:36:37.214887",
     "exception": false,
     "start_time": "2023-02-09T14:36:31.350373",
     "status": "completed"
    },
    "tags": []
   },
   "outputs": [],
   "source": [
    "# Model definition\n",
    "k = 7\n",
    "kmeans = c.KMeans(init='random', n_clusters=k, n_init=300, max_iter=300, random_state=42)\n",
    "\n",
    "# Model training\n",
    "kmeans.fit(df8)\n",
    "\n",
    "# Clustering\n",
    "labels = kmeans.labels_"
   ]
  },
  {
   "cell_type": "markdown",
   "id": "b8988097",
   "metadata": {
    "hidden": true,
    "papermill": {
     "duration": 0.019305,
     "end_time": "2023-02-09T14:36:37.252814",
     "exception": false,
     "start_time": "2023-02-09T14:36:37.233509",
     "status": "completed"
    },
    "tags": []
   },
   "source": [
    "## 8.2 Cluster Validation"
   ]
  },
  {
   "cell_type": "code",
   "execution_count": 33,
   "id": "5acaf0b8",
   "metadata": {
    "ExecuteTime": {
     "end_time": "2023-02-09T13:57:55.359171Z",
     "start_time": "2023-02-09T13:57:54.321667Z"
    },
    "execution": {
     "iopub.execute_input": "2023-02-09T14:36:37.296998Z",
     "iopub.status.busy": "2023-02-09T14:36:37.296400Z",
     "iopub.status.idle": "2023-02-09T14:36:38.306156Z",
     "shell.execute_reply": "2023-02-09T14:36:38.305099Z"
    },
    "hidden": true,
    "hide_input": false,
    "papermill": {
     "duration": 1.037034,
     "end_time": "2023-02-09T14:36:38.309711",
     "exception": false,
     "start_time": "2023-02-09T14:36:37.272677",
     "status": "completed"
    },
    "tags": []
   },
   "outputs": [
    {
     "name": "stdout",
     "output_type": "stream",
     "text": [
      "WSS value: 21.30378878530814\n"
     ]
    },
    {
     "name": "stdout",
     "output_type": "stream",
     "text": [
      "Silhouette Score: 0.49730354526511994\n"
     ]
    }
   ],
   "source": [
    "# WSS (Within-Cluster Sum of Squares)\n",
    "print(f'WSS value: {kmeans.inertia_}')\n",
    "\n",
    "# SS (Silhouette Score)\n",
    "print('Silhouette Score: {}'.format(m.silhouette_score(df8, labels, metric='euclidean')))"
   ]
  },
  {
   "cell_type": "markdown",
   "id": "e9f435f6",
   "metadata": {
    "hide_input": false,
    "papermill": {
     "duration": 0.044042,
     "end_time": "2023-02-09T14:36:38.371555",
     "exception": false,
     "start_time": "2023-02-09T14:36:38.327513",
     "status": "completed"
    },
    "tags": []
   },
   "source": [
    "# 9.0 CLUSTER ANALYSIS"
   ]
  },
  {
   "cell_type": "code",
   "execution_count": 34,
   "id": "30887f02",
   "metadata": {
    "ExecuteTime": {
     "end_time": "2023-02-09T13:57:55.386807Z",
     "start_time": "2023-02-09T13:57:55.363417Z"
    },
    "execution": {
     "iopub.execute_input": "2023-02-09T14:36:38.421412Z",
     "iopub.status.busy": "2023-02-09T14:36:38.419837Z",
     "iopub.status.idle": "2023-02-09T14:36:38.436753Z",
     "shell.execute_reply": "2023-02-09T14:36:38.432239Z"
    },
    "papermill": {
     "duration": 0.0404,
     "end_time": "2023-02-09T14:36:38.439446",
     "exception": false,
     "start_time": "2023-02-09T14:36:38.399046",
     "status": "completed"
    },
    "tags": []
   },
   "outputs": [],
   "source": [
    "df9 = df_ref[cols_selected].dropna().copy()\n",
    "df9['cluster'] = labels\n",
    "\n",
    "# change dtypes\n",
    "df9['recency_days'] = df9['recency_days'].astype(int)\n",
    "df9['qty_products'] = df9['qty_products'].astype(int)\n",
    "df9['qty_returns'] = df9['qty_returns'].astype(int)"
   ]
  },
  {
   "cell_type": "code",
   "execution_count": 35,
   "id": "dffa61af",
   "metadata": {
    "ExecuteTime": {
     "end_time": "2023-02-09T13:57:55.503445Z",
     "start_time": "2023-02-09T13:57:55.391311Z"
    },
    "cell_style": "center",
    "execution": {
     "iopub.execute_input": "2023-02-09T14:36:38.518459Z",
     "iopub.status.busy": "2023-02-09T14:36:38.517503Z",
     "iopub.status.idle": "2023-02-09T14:36:38.603429Z",
     "shell.execute_reply": "2023-02-09T14:36:38.602283Z"
    },
    "papermill": {
     "duration": 0.136076,
     "end_time": "2023-02-09T14:36:38.607105",
     "exception": false,
     "start_time": "2023-02-09T14:36:38.471029",
     "status": "completed"
    },
    "scrolled": true,
    "tags": []
   },
   "outputs": [
    {
     "data": {
      "text/html": [
       "<div>\n",
       "<style scoped>\n",
       "    .dataframe tbody tr th:only-of-type {\n",
       "        vertical-align: middle;\n",
       "    }\n",
       "\n",
       "    .dataframe tbody tr th {\n",
       "        vertical-align: top;\n",
       "    }\n",
       "\n",
       "    .dataframe thead th {\n",
       "        text-align: right;\n",
       "    }\n",
       "</style>\n",
       "<table border=\"1\" class=\"dataframe\">\n",
       "  <thead>\n",
       "    <tr style=\"text-align: right;\">\n",
       "      <th></th>\n",
       "      <th>cluster</th>\n",
       "      <th>customer_id</th>\n",
       "      <th>perc_customer</th>\n",
       "      <th>gross_revenue</th>\n",
       "      <th>recency_days</th>\n",
       "      <th>qty_products</th>\n",
       "      <th>frequency</th>\n",
       "      <th>qty_returns</th>\n",
       "    </tr>\n",
       "  </thead>\n",
       "  <tbody>\n",
       "    <tr>\n",
       "      <th>1</th>\n",
       "      <td>1</td>\n",
       "      <td>12</td>\n",
       "      <td>0.210711</td>\n",
       "      <td>121075.380833</td>\n",
       "      <td>4.333333</td>\n",
       "      <td>2773.250000</td>\n",
       "      <td>0.240823</td>\n",
       "      <td>824.000000</td>\n",
       "    </tr>\n",
       "    <tr>\n",
       "      <th>2</th>\n",
       "      <td>2</td>\n",
       "      <td>2089</td>\n",
       "      <td>36.681299</td>\n",
       "      <td>2658.026438</td>\n",
       "      <td>16.576831</td>\n",
       "      <td>138.081379</td>\n",
       "      <td>0.254557</td>\n",
       "      <td>31.580182</td>\n",
       "    </tr>\n",
       "    <tr>\n",
       "      <th>4</th>\n",
       "      <td>4</td>\n",
       "      <td>1167</td>\n",
       "      <td>20.491659</td>\n",
       "      <td>1053.075561</td>\n",
       "      <td>64.710368</td>\n",
       "      <td>63.405313</td>\n",
       "      <td>0.507442</td>\n",
       "      <td>8.130249</td>\n",
       "    </tr>\n",
       "    <tr>\n",
       "      <th>5</th>\n",
       "      <td>5</td>\n",
       "      <td>529</td>\n",
       "      <td>9.288850</td>\n",
       "      <td>956.755350</td>\n",
       "      <td>342.926276</td>\n",
       "      <td>67.996219</td>\n",
       "      <td>0.987029</td>\n",
       "      <td>142.345936</td>\n",
       "    </tr>\n",
       "    <tr>\n",
       "      <th>6</th>\n",
       "      <td>6</td>\n",
       "      <td>619</td>\n",
       "      <td>10.869183</td>\n",
       "      <td>865.318045</td>\n",
       "      <td>130.050081</td>\n",
       "      <td>62.550889</td>\n",
       "      <td>0.639263</td>\n",
       "      <td>3.568659</td>\n",
       "    </tr>\n",
       "    <tr>\n",
       "      <th>3</th>\n",
       "      <td>3</td>\n",
       "      <td>641</td>\n",
       "      <td>11.255487</td>\n",
       "      <td>657.559984</td>\n",
       "      <td>193.840874</td>\n",
       "      <td>45.485179</td>\n",
       "      <td>0.772596</td>\n",
       "      <td>4.659906</td>\n",
       "    </tr>\n",
       "    <tr>\n",
       "      <th>0</th>\n",
       "      <td>0</td>\n",
       "      <td>638</td>\n",
       "      <td>11.202809</td>\n",
       "      <td>637.307163</td>\n",
       "      <td>265.747649</td>\n",
       "      <td>43.534483</td>\n",
       "      <td>0.904259</td>\n",
       "      <td>19.167712</td>\n",
       "    </tr>\n",
       "  </tbody>\n",
       "</table>\n",
       "</div>"
      ],
      "text/plain": [
       "   cluster  customer_id  perc_customer  gross_revenue  recency_days  \\\n",
       "1        1           12       0.210711  121075.380833      4.333333   \n",
       "2        2         2089      36.681299    2658.026438     16.576831   \n",
       "4        4         1167      20.491659    1053.075561     64.710368   \n",
       "5        5          529       9.288850     956.755350    342.926276   \n",
       "6        6          619      10.869183     865.318045    130.050081   \n",
       "3        3          641      11.255487     657.559984    193.840874   \n",
       "0        0          638      11.202809     637.307163    265.747649   \n",
       "\n",
       "   qty_products  frequency  qty_returns  \n",
       "1   2773.250000   0.240823   824.000000  \n",
       "2    138.081379   0.254557    31.580182  \n",
       "4     63.405313   0.507442     8.130249  \n",
       "5     67.996219   0.987029   142.345936  \n",
       "6     62.550889   0.639263     3.568659  \n",
       "3     45.485179   0.772596     4.659906  \n",
       "0     43.534483   0.904259    19.167712  "
      ]
     },
     "execution_count": 35,
     "metadata": {},
     "output_type": "execute_result"
    }
   ],
   "source": [
    "# Number of customers\n",
    "df_cluster = df9[['customer_id', 'cluster']].groupby('cluster').count().reset_index()\n",
    "df_cluster['perc_customer'] = df_cluster['customer_id']/df_cluster['customer_id'].sum()*100\n",
    "\n",
    "# Avg Gross Revenue\n",
    "df_avg_gross_revenue = df9[['gross_revenue', 'cluster']].groupby('cluster').mean().reset_index()\n",
    "df_cluster = pd.merge(df_cluster, df_avg_gross_revenue, how='inner', on='cluster')\n",
    "\n",
    "# Avg Recency Days\n",
    "df_avg_recency_days= df9[['recency_days', 'cluster']].groupby('cluster').mean().reset_index()\n",
    "df_cluster = pd.merge(df_cluster, df_avg_recency_days, how='inner', on='cluster')\n",
    "\n",
    "# Avg Products quantity\n",
    "df_avg_qty_products = df9[['qty_products', 'cluster']].groupby('cluster').mean().reset_index()\n",
    "df_cluster = pd.merge(df_cluster, df_avg_qty_products, how='inner', on='cluster')\n",
    "\n",
    "# Frequency\n",
    "df_avg_frequency = df9[['frequency', 'cluster']].groupby('cluster').mean().reset_index()\n",
    "df_cluster = pd.merge(df_cluster, df_avg_frequency, how='inner', on='cluster')\n",
    "\n",
    "# Returns\n",
    "df_avg_qty_returns = df9[['qty_returns', 'cluster']].groupby('cluster').mean().reset_index()\n",
    "df_cluster = pd.merge(df_cluster, df_avg_qty_returns, how='inner', on='cluster')\n",
    "\n",
    "df_cluster.sort_values('gross_revenue', ascending=False)"
   ]
  },
  {
   "cell_type": "markdown",
   "id": "6875a0e6",
   "metadata": {
    "papermill": {
     "duration": 0.028562,
     "end_time": "2023-02-09T14:36:38.654931",
     "exception": false,
     "start_time": "2023-02-09T14:36:38.626369",
     "status": "completed"
    },
    "tags": []
   },
   "source": [
    "## Clusters"
   ]
  },
  {
   "cell_type": "markdown",
   "id": "cdf18bd1",
   "metadata": {
    "cell_style": "center",
    "papermill": {
     "duration": 0.018087,
     "end_time": "2023-02-09T14:36:38.692320",
     "exception": false,
     "start_time": "2023-02-09T14:36:38.674233",
     "status": "completed"
    },
    "tags": []
   },
   "source": [
    "* **Cluster 1:** Insiders\n",
    "    - Número de customers: 12 (0,21% dos costumers)\n",
    "    - Receita: 12.1075,38\n",
    "    - Recência em média: 4 dias\n",
    "    - Quantidade média de produtos comprados: 2773\n",
    "    - Frequência de compra: 0,24\n",
    "    - Quantidade média de produtos retornados: 824\n",
    "\n",
    "\n",
    "* **Cluster 2:**\n",
    "    - Número de customers: 2089 (36,68% dos costumers)\n",
    "    - Receita: 2658,03\n",
    "    - Recência em média: 17 dias\n",
    "    - Quantidade média de produtos comprados: 138\n",
    "    - Frequência de compra: 0,25\n",
    "    - Quantidade média de produtos retornados: 32\n",
    "\n",
    "\n",
    "* **Cluster 4:**\n",
    "    - Número de customers: 1167 (20,49% dos costumers)\n",
    "    - Receita: 1053,08\n",
    "    - Recência em média: 65 dias\n",
    "    - Quantidade média de produtos comprados: 63\n",
    "    - Frequência de compra: 0,51\n",
    "    - Quantidade média de produtos retornados: 8\n",
    "    \n",
    "\n",
    "* **Cluster 5:**\n",
    "    - Número de customers: 529 (9,29% dos costumers)\n",
    "    - Receita: 956,76\n",
    "    - Recência em média: 342 dias\n",
    "    - Quantidade média de produtos comprados: 68\n",
    "    - Frequência de compra: 0,98\n",
    "    - Quantidade média de produtos retornados: 142\n",
    "    \n",
    "    \n",
    "* **Cluster 6:**\n",
    "    - Número de customers: 619 (10,87% dos costumers)\n",
    "    - Receita: 865,32\n",
    "    - Recência em média: 130 dias\n",
    "    - Quantidade média de produtos comprados: 63\n",
    "    - Frequência de compra: 0,64\n",
    "    - Quantidade média de produtos retornados: 4\n",
    "    \n",
    "    \n",
    "* **Cluster 3:**\n",
    "    - Número de customers: 641 (11,26% dos costumers)\n",
    "    - Receita: 657,56\n",
    "    - Recência em média: 194 dias\n",
    "    - Quantidade média de produtos comprados: 45\n",
    "    - Frequência de compra: 0,77\n",
    "    - Quantidade média de produtos retornados: 5\n",
    "    \n",
    "    \n",
    "* **Cluster 0:**\n",
    "    - Número de customers: 638 (11,2% dos costumers)\n",
    "    - Receita: 637,31\n",
    "    - Recência em média: 266 dias\n",
    "    - Quantidade média de produtos comprados: 44\n",
    "    - Frequência de compra: 0,9\n",
    "    - Quantidade média de produtos retornados: 19"
   ]
  },
  {
   "cell_type": "markdown",
   "id": "efad2670",
   "metadata": {
    "papermill": {
     "duration": 0.018202,
     "end_time": "2023-02-09T14:36:38.730190",
     "exception": false,
     "start_time": "2023-02-09T14:36:38.711988",
     "status": "completed"
    },
    "tags": []
   },
   "source": [
    "# 11.0 DEPLOY TO PRODUCTION"
   ]
  },
  {
   "cell_type": "code",
   "execution_count": 36,
   "id": "260eb516",
   "metadata": {
    "ExecuteTime": {
     "end_time": "2023-02-09T13:57:55.521568Z",
     "start_time": "2023-02-09T13:57:55.507586Z"
    },
    "execution": {
     "iopub.execute_input": "2023-02-09T14:36:38.772617Z",
     "iopub.status.busy": "2023-02-09T14:36:38.771830Z",
     "iopub.status.idle": "2023-02-09T14:36:38.781500Z",
     "shell.execute_reply": "2023-02-09T14:36:38.780505Z"
    },
    "papermill": {
     "duration": 0.033886,
     "end_time": "2023-02-09T14:36:38.785111",
     "exception": false,
     "start_time": "2023-02-09T14:36:38.751225",
     "status": "completed"
    },
    "tags": []
   },
   "outputs": [
    {
     "data": {
      "text/plain": [
       "customer_id        int64\n",
       "gross_revenue    float64\n",
       "recency_days       int64\n",
       "qty_products       int64\n",
       "frequency        float64\n",
       "qty_returns        int64\n",
       "cluster            int32\n",
       "dtype: object"
      ]
     },
     "execution_count": 36,
     "metadata": {},
     "output_type": "execute_result"
    }
   ],
   "source": [
    "df9.dtypes"
   ]
  },
  {
   "cell_type": "markdown",
   "id": "d3e48bd2",
   "metadata": {
    "papermill": {
     "duration": 0.016644,
     "end_time": "2023-02-09T14:36:38.821939",
     "exception": false,
     "start_time": "2023-02-09T14:36:38.805295",
     "status": "completed"
    },
    "tags": []
   },
   "source": [
    "## 11.1 Insert into SQLite"
   ]
  },
  {
   "cell_type": "code",
   "execution_count": 37,
   "id": "bf15d791",
   "metadata": {
    "ExecuteTime": {
     "end_time": "2023-02-09T13:57:55.572438Z",
     "start_time": "2023-02-09T13:57:55.526066Z"
    },
    "execution": {
     "iopub.execute_input": "2023-02-09T14:36:38.868606Z",
     "iopub.status.busy": "2023-02-09T14:36:38.867814Z",
     "iopub.status.idle": "2023-02-09T14:36:38.872888Z",
     "shell.execute_reply": "2023-02-09T14:36:38.871963Z"
    },
    "papermill": {
     "duration": 0.029722,
     "end_time": "2023-02-09T14:36:38.876219",
     "exception": false,
     "start_time": "2023-02-09T14:36:38.846497",
     "status": "completed"
    },
    "tags": []
   },
   "outputs": [],
   "source": [
    "# # Create Table\n",
    "# query_create_table_insiders = \"\"\"\n",
    "#     CREATE TABLE insiders(\n",
    "#         customer_id   INTEGER,\n",
    "#         gross_revenue REAL,\n",
    "#         recency_days  INTEGER,\n",
    "#         qty_products  INTEGER,\n",
    "#         frequency     REAL,\n",
    "#         qty_returns   INTEGER,\n",
    "#         cluster       INTEGER\n",
    "#     )      \n",
    "# \"\"\"\n",
    "\n",
    "# conn = sqlite3.connect('insiders_db.sqlite')\n",
    "# conn.execute(query_create_table_insiders)\n",
    "# conn.commit()\n",
    "# conn.close()\n",
    "\n",
    "# # Insert Data\n",
    "# conn = create_engine('sqlite:///insiders_db.sqlite')\n",
    "\n",
    "# df9.to_sql('insiders', con=conn, if_exists='append', index=False)"
   ]
  },
  {
   "cell_type": "code",
   "execution_count": 38,
   "id": "b200570e",
   "metadata": {
    "ExecuteTime": {
     "end_time": "2023-02-09T13:57:55.822253Z",
     "start_time": "2023-02-09T13:57:55.580380Z"
    },
    "execution": {
     "iopub.execute_input": "2023-02-09T14:36:38.918620Z",
     "iopub.status.busy": "2023-02-09T14:36:38.918175Z",
     "iopub.status.idle": "2023-02-09T14:36:38.924189Z",
     "shell.execute_reply": "2023-02-09T14:36:38.921877Z"
    },
    "papermill": {
     "duration": 0.033828,
     "end_time": "2023-02-09T14:36:38.927453",
     "exception": false,
     "start_time": "2023-02-09T14:36:38.893625",
     "status": "completed"
    },
    "tags": []
   },
   "outputs": [],
   "source": [
    "# # Consulting Database\n",
    "# query = \"\"\"\n",
    "#     SELECT * FROM insiders\n",
    "# \"\"\"\n",
    "\n",
    "# conn = create_engine('sqlite:///insiders_db.sqlite')\n",
    "\n",
    "# df =pd.read_sql_query(con=conn.connect(), sql=text(query))"
   ]
  },
  {
   "cell_type": "code",
   "execution_count": 39,
   "id": "7662a655",
   "metadata": {
    "ExecuteTime": {
     "end_time": "2023-02-09T13:57:55.852909Z",
     "start_time": "2023-02-09T13:57:55.826443Z"
    },
    "execution": {
     "iopub.execute_input": "2023-02-09T14:36:38.977062Z",
     "iopub.status.busy": "2023-02-09T14:36:38.976578Z",
     "iopub.status.idle": "2023-02-09T14:36:38.981528Z",
     "shell.execute_reply": "2023-02-09T14:36:38.980381Z"
    },
    "papermill": {
     "duration": 0.033591,
     "end_time": "2023-02-09T14:36:38.984186",
     "exception": false,
     "start_time": "2023-02-09T14:36:38.950595",
     "status": "completed"
    },
    "tags": []
   },
   "outputs": [],
   "source": [
    "# df"
   ]
  },
  {
   "cell_type": "code",
   "execution_count": null,
   "id": "9edd31d4",
   "metadata": {
    "papermill": {
     "duration": 0.022992,
     "end_time": "2023-02-09T14:36:39.031377",
     "exception": false,
     "start_time": "2023-02-09T14:36:39.008385",
     "status": "completed"
    },
    "tags": []
   },
   "outputs": [],
   "source": []
  }
 ],
 "metadata": {
  "kernelspec": {
   "display_name": "Python 3 (ipykernel)",
   "language": "python",
   "name": "python3"
  },
  "language_info": {
   "codemirror_mode": {
    "name": "ipython",
    "version": 3
   },
   "file_extension": ".py",
   "mimetype": "text/x-python",
   "name": "python",
   "nbconvert_exporter": "python",
   "pygments_lexer": "ipython3",
   "version": "3.8.12"
  },
  "papermill": {
   "default_parameters": {},
   "duration": 21.168761,
   "end_time": "2023-02-09T14:36:39.672607",
   "environment_variables": {},
   "exception": null,
   "input_path": "/home/matheus/repos/loyalty-clustering-programm/src/model/c10-mv-model-deploy.ipynb",
   "output_path": "/home/matheus/repos/loyalty-clustering-programm/reports/c10-mv-model-deploy_2023-02-09T11:36:17.ipynb",
   "parameters": {},
   "start_time": "2023-02-09T14:36:18.503846",
   "version": "2.4.0"
  }
 },
 "nbformat": 4,
 "nbformat_minor": 5
}