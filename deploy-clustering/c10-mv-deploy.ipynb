{
 "cells": [
  {
   "cell_type": "markdown",
   "id": "92fd61b8",
   "metadata": {
    "heading_collapsed": true
   },
   "source": [
    "# High Value Customer Identification (Insiders)"
   ]
  },
  {
   "cell_type": "markdown",
   "id": "424a5f41",
   "metadata": {},
   "source": [
    "# 0.0 Planejamento da Solução (IOT)"
   ]
  },
  {
   "cell_type": "markdown",
   "id": "97c4c34f",
   "metadata": {},
   "source": [
    "# 0.0 IMPORTS"
   ]
  },
  {
   "cell_type": "code",
   "execution_count": 4,
   "id": "30ca7ed8",
   "metadata": {
    "ExecuteTime": {
     "end_time": "2023-02-16T20:09:56.030246Z",
     "start_time": "2023-02-16T20:09:56.016135Z"
    }
   },
   "outputs": [],
   "source": [
    "import re\n",
    "import os\n",
    "import pickle\n",
    "import pandas     as pd\n",
    "import numpy      as np\n",
    "import umap.umap_ as umap\n",
    "\n",
    "from sklearn    import cluster       as c\n",
    "from sklearn    import metrics       as m\n",
    "from matplotlib import pyplot        as plt\n",
    "from sklearn    import preprocessing as pp\n",
    "from sklearn    import decomposition as dc\n",
    "from sklearn    import ensemble      as en\n",
    "\n",
    "from sqlalchemy import create_engine"
   ]
  },
  {
   "cell_type": "markdown",
   "id": "fecb3197",
   "metadata": {},
   "source": [
    "## 0.2 Load Dataset"
   ]
  },
  {
   "cell_type": "code",
   "execution_count": 6,
   "id": "e7d07b6e",
   "metadata": {
    "ExecuteTime": {
     "end_time": "2023-02-16T20:11:22.443668Z",
     "start_time": "2023-02-16T20:09:59.881809Z"
    }
   },
   "outputs": [],
   "source": [
    "#path = '/home/matheus/repos/loyalty-clustering-programm'\n",
    "path_s3 = 's3://insiders-dataset-mv/'\n",
    "\n",
    "AWS_ACCESS_KEY_ID = os.getenv(\"AWS_ACCESS_KEY_ID\")\n",
    "AWS_SECRET_ACCESS_KEY = os.getenv(\"AWS_SECRET_ACCESS_KEY\")\n",
    "\n",
    "data_raw = pd.read_csv(path_s3 + 'Ecommerce.csv',\n",
    "                       encoding='iso-8859-1',\n",
    "                       storage_options={'key': AWS_ACCESS_KEY_ID,\n",
    "                                        'secret': AWS_SECRET_ACCESS_KEY})\n",
    "\n",
    "data_raw = data_raw.drop(columns=['Unnamed: 8'])"
   ]
  },
  {
   "cell_type": "code",
   "execution_count": 7,
   "id": "949ae0b6",
   "metadata": {
    "ExecuteTime": {
     "end_time": "2023-02-16T20:11:22.499644Z",
     "start_time": "2023-02-16T20:11:22.451652Z"
    }
   },
   "outputs": [
    {
     "data": {
      "text/html": [
       "<div>\n",
       "<style scoped>\n",
       "    .dataframe tbody tr th:only-of-type {\n",
       "        vertical-align: middle;\n",
       "    }\n",
       "\n",
       "    .dataframe tbody tr th {\n",
       "        vertical-align: top;\n",
       "    }\n",
       "\n",
       "    .dataframe thead th {\n",
       "        text-align: right;\n",
       "    }\n",
       "</style>\n",
       "<table border=\"1\" class=\"dataframe\">\n",
       "  <thead>\n",
       "    <tr style=\"text-align: right;\">\n",
       "      <th></th>\n",
       "      <th>InvoiceNo</th>\n",
       "      <th>StockCode</th>\n",
       "      <th>Description</th>\n",
       "      <th>Quantity</th>\n",
       "      <th>InvoiceDate</th>\n",
       "      <th>UnitPrice</th>\n",
       "      <th>CustomerID</th>\n",
       "      <th>Country</th>\n",
       "    </tr>\n",
       "  </thead>\n",
       "  <tbody>\n",
       "    <tr>\n",
       "      <th>0</th>\n",
       "      <td>536365</td>\n",
       "      <td>85123A</td>\n",
       "      <td>WHITE HANGING HEART T-LIGHT HOLDER</td>\n",
       "      <td>6</td>\n",
       "      <td>29-Nov-16</td>\n",
       "      <td>2.55</td>\n",
       "      <td>17850.0</td>\n",
       "      <td>United Kingdom</td>\n",
       "    </tr>\n",
       "    <tr>\n",
       "      <th>1</th>\n",
       "      <td>536365</td>\n",
       "      <td>71053</td>\n",
       "      <td>WHITE METAL LANTERN</td>\n",
       "      <td>6</td>\n",
       "      <td>29-Nov-16</td>\n",
       "      <td>3.39</td>\n",
       "      <td>17850.0</td>\n",
       "      <td>United Kingdom</td>\n",
       "    </tr>\n",
       "    <tr>\n",
       "      <th>2</th>\n",
       "      <td>536365</td>\n",
       "      <td>84406B</td>\n",
       "      <td>CREAM CUPID HEARTS COAT HANGER</td>\n",
       "      <td>8</td>\n",
       "      <td>29-Nov-16</td>\n",
       "      <td>2.75</td>\n",
       "      <td>17850.0</td>\n",
       "      <td>United Kingdom</td>\n",
       "    </tr>\n",
       "    <tr>\n",
       "      <th>3</th>\n",
       "      <td>536365</td>\n",
       "      <td>84029G</td>\n",
       "      <td>KNITTED UNION FLAG HOT WATER BOTTLE</td>\n",
       "      <td>6</td>\n",
       "      <td>29-Nov-16</td>\n",
       "      <td>3.39</td>\n",
       "      <td>17850.0</td>\n",
       "      <td>United Kingdom</td>\n",
       "    </tr>\n",
       "    <tr>\n",
       "      <th>4</th>\n",
       "      <td>536365</td>\n",
       "      <td>84029E</td>\n",
       "      <td>RED WOOLLY HOTTIE WHITE HEART.</td>\n",
       "      <td>6</td>\n",
       "      <td>29-Nov-16</td>\n",
       "      <td>3.39</td>\n",
       "      <td>17850.0</td>\n",
       "      <td>United Kingdom</td>\n",
       "    </tr>\n",
       "  </tbody>\n",
       "</table>\n",
       "</div>"
      ],
      "text/plain": [
       "  InvoiceNo StockCode                          Description  Quantity  \\\n",
       "0    536365    85123A   WHITE HANGING HEART T-LIGHT HOLDER         6   \n",
       "1    536365     71053                  WHITE METAL LANTERN         6   \n",
       "2    536365    84406B       CREAM CUPID HEARTS COAT HANGER         8   \n",
       "3    536365    84029G  KNITTED UNION FLAG HOT WATER BOTTLE         6   \n",
       "4    536365    84029E       RED WOOLLY HOTTIE WHITE HEART.         6   \n",
       "\n",
       "  InvoiceDate  UnitPrice  CustomerID         Country  \n",
       "0   29-Nov-16       2.55     17850.0  United Kingdom  \n",
       "1   29-Nov-16       3.39     17850.0  United Kingdom  \n",
       "2   29-Nov-16       2.75     17850.0  United Kingdom  \n",
       "3   29-Nov-16       3.39     17850.0  United Kingdom  \n",
       "4   29-Nov-16       3.39     17850.0  United Kingdom  "
      ]
     },
     "execution_count": 7,
     "metadata": {},
     "output_type": "execute_result"
    }
   ],
   "source": [
    "data_raw.head()"
   ]
  },
  {
   "cell_type": "markdown",
   "id": "3826b637",
   "metadata": {},
   "source": [
    "# 1.0 DESCRIÇÃO DOS DADOS"
   ]
  },
  {
   "cell_type": "code",
   "execution_count": 8,
   "id": "27e7b44e",
   "metadata": {
    "ExecuteTime": {
     "end_time": "2023-02-16T20:12:53.500745Z",
     "start_time": "2023-02-16T20:12:53.495639Z"
    }
   },
   "outputs": [],
   "source": [
    "df1 = data_raw"
   ]
  },
  {
   "cell_type": "markdown",
   "id": "c9b1a3d4",
   "metadata": {},
   "source": [
    "## 1.1 Rename columns"
   ]
  },
  {
   "cell_type": "code",
   "execution_count": 9,
   "id": "80d87104",
   "metadata": {
    "ExecuteTime": {
     "end_time": "2023-02-16T20:12:54.526814Z",
     "start_time": "2023-02-16T20:12:54.520157Z"
    }
   },
   "outputs": [],
   "source": [
    "# Columns names in snake case\n",
    "cols_new = ['invoice_no', 'stock_code', 'description', 'quantity', \n",
    "            'invoice_date', 'unit_price', 'customer_id', 'country']\n",
    "\n",
    "# Renaming columns\n",
    "df1.columns = cols_new"
   ]
  },
  {
   "cell_type": "markdown",
   "id": "5d3f3d6e",
   "metadata": {},
   "source": [
    "## 1.2 Data dimensions"
   ]
  },
  {
   "cell_type": "code",
   "execution_count": 10,
   "id": "25a93ccc",
   "metadata": {
    "ExecuteTime": {
     "end_time": "2023-02-16T20:12:55.460138Z",
     "start_time": "2023-02-16T20:12:55.447956Z"
    }
   },
   "outputs": [
    {
     "name": "stdout",
     "output_type": "stream",
     "text": [
      "Number of lines: 541909\n",
      "Number of columns: 8\n"
     ]
    }
   ],
   "source": [
    "# Information about shape\n",
    "print(f'Number of lines: {df1.shape[0]}')\n",
    "print(f'Number of columns: {df1.shape[1]}')"
   ]
  },
  {
   "cell_type": "markdown",
   "id": "803731e3",
   "metadata": {
    "ExecuteTime": {
     "end_time": "2023-01-04T11:52:34.428845Z",
     "start_time": "2023-01-04T11:52:34.425354Z"
    }
   },
   "source": [
    "## 1.3 Data types"
   ]
  },
  {
   "cell_type": "code",
   "execution_count": 11,
   "id": "a9f88350",
   "metadata": {
    "ExecuteTime": {
     "end_time": "2023-02-16T20:12:56.409807Z",
     "start_time": "2023-02-16T20:12:56.399938Z"
    }
   },
   "outputs": [
    {
     "data": {
      "text/plain": [
       "invoice_no       object\n",
       "stock_code       object\n",
       "description      object\n",
       "quantity          int64\n",
       "invoice_date     object\n",
       "unit_price      float64\n",
       "customer_id     float64\n",
       "country          object\n",
       "dtype: object"
      ]
     },
     "execution_count": 11,
     "metadata": {},
     "output_type": "execute_result"
    }
   ],
   "source": [
    "df1.dtypes"
   ]
  },
  {
   "cell_type": "markdown",
   "id": "6b68d321",
   "metadata": {},
   "source": [
    "## 1.4 Check NA"
   ]
  },
  {
   "cell_type": "code",
   "execution_count": 12,
   "id": "c5e83522",
   "metadata": {
    "ExecuteTime": {
     "end_time": "2023-02-16T20:12:57.937447Z",
     "start_time": "2023-02-16T20:12:57.018495Z"
    }
   },
   "outputs": [
    {
     "data": {
      "text/plain": [
       "invoice_no           0\n",
       "stock_code           0\n",
       "description       1454\n",
       "quantity             0\n",
       "invoice_date         0\n",
       "unit_price           0\n",
       "customer_id     135080\n",
       "country              0\n",
       "dtype: int64"
      ]
     },
     "execution_count": 12,
     "metadata": {},
     "output_type": "execute_result"
    }
   ],
   "source": [
    "# Sum of null values\n",
    "df1.isna().sum()"
   ]
  },
  {
   "cell_type": "markdown",
   "id": "c44fdca4",
   "metadata": {},
   "source": [
    "## 1.5 Replace NA"
   ]
  },
  {
   "cell_type": "code",
   "execution_count": 13,
   "id": "0542f735",
   "metadata": {
    "ExecuteTime": {
     "end_time": "2023-02-16T20:12:58.031144Z",
     "start_time": "2023-02-16T20:12:57.942719Z"
    }
   },
   "outputs": [],
   "source": [
    "# Separating null values for customer id\n",
    "df_missing = df1.loc[df1['customer_id'].isna(), :]\n",
    "df_not_missing = df1.loc[~df1['customer_id'].isna(), :]"
   ]
  },
  {
   "cell_type": "code",
   "execution_count": 14,
   "id": "01f939b1",
   "metadata": {
    "ExecuteTime": {
     "end_time": "2023-02-16T20:12:58.098531Z",
     "start_time": "2023-02-16T20:12:58.034508Z"
    }
   },
   "outputs": [
    {
     "data": {
      "text/html": [
       "<div>\n",
       "<style scoped>\n",
       "    .dataframe tbody tr th:only-of-type {\n",
       "        vertical-align: middle;\n",
       "    }\n",
       "\n",
       "    .dataframe tbody tr th {\n",
       "        vertical-align: top;\n",
       "    }\n",
       "\n",
       "    .dataframe thead th {\n",
       "        text-align: right;\n",
       "    }\n",
       "</style>\n",
       "<table border=\"1\" class=\"dataframe\">\n",
       "  <thead>\n",
       "    <tr style=\"text-align: right;\">\n",
       "      <th></th>\n",
       "      <th>invoice_no</th>\n",
       "      <th>stock_code</th>\n",
       "      <th>description</th>\n",
       "      <th>quantity</th>\n",
       "      <th>invoice_date</th>\n",
       "      <th>unit_price</th>\n",
       "      <th>customer_id</th>\n",
       "      <th>country</th>\n",
       "    </tr>\n",
       "  </thead>\n",
       "  <tbody>\n",
       "  </tbody>\n",
       "</table>\n",
       "</div>"
      ],
      "text/plain": [
       "Empty DataFrame\n",
       "Columns: [invoice_no, stock_code, description, quantity, invoice_date, unit_price, customer_id, country]\n",
       "Index: []"
      ]
     },
     "execution_count": 14,
     "metadata": {},
     "output_type": "execute_result"
    }
   ],
   "source": [
    "# Search for corresponding customer ids through invoice number\n",
    "missing_invoice = df_missing['invoice_no'].drop_duplicates().tolist()\n",
    "df_not_missing.loc[df_not_missing['invoice_no'].isin(missing_invoice), :]"
   ]
  },
  {
   "cell_type": "markdown",
   "id": "4539832d",
   "metadata": {},
   "source": [
    "### Creating Customer ID"
   ]
  },
  {
   "cell_type": "code",
   "execution_count": 15,
   "id": "5f53888e",
   "metadata": {
    "ExecuteTime": {
     "end_time": "2023-02-16T20:12:59.177495Z",
     "start_time": "2023-02-16T20:12:58.106598Z"
    }
   },
   "outputs": [
    {
     "data": {
      "text/plain": [
       "invoice_no         0\n",
       "stock_code         0\n",
       "description     1454\n",
       "quantity           0\n",
       "invoice_date       0\n",
       "unit_price         0\n",
       "country            0\n",
       "customer_id        0\n",
       "dtype: int64"
      ]
     },
     "execution_count": 15,
     "metadata": {},
     "output_type": "execute_result"
    }
   ],
   "source": [
    "# Creating reference\n",
    "df_backup = pd.DataFrame(df_missing['invoice_no'].drop_duplicates())\n",
    "df_backup['customer_id'] = np.arange(19000, 19000+len(df_backup),1)\n",
    "\n",
    "# Merging dataframes\n",
    "df1 = pd.merge(df1, df_backup, on='invoice_no', how='left')\n",
    "\n",
    "# Coalesce\n",
    "df1['customer_id'] = df1['customer_id_x'].combine_first(df1['customer_id_y'])\n",
    "\n",
    "df1 = df1.drop(columns=['customer_id_x', 'customer_id_y'], axis=1)\n",
    "\n",
    "df1.isna().sum()"
   ]
  },
  {
   "cell_type": "markdown",
   "id": "fd1b7aac",
   "metadata": {},
   "source": [
    "## 1.6 Change dtypes"
   ]
  },
  {
   "cell_type": "code",
   "execution_count": 16,
   "id": "64c88b0e",
   "metadata": {
    "ExecuteTime": {
     "end_time": "2023-02-16T20:13:02.097906Z",
     "start_time": "2023-02-16T20:13:01.986789Z"
    }
   },
   "outputs": [],
   "source": [
    "# Changing date time\n",
    "df1['invoice_date'] = pd.to_datetime(df1['invoice_date'], format='%d-%b-%y')\n",
    "\n",
    "# Changing customer id to integer\n",
    "df1['customer_id'] = df1['customer_id'].astype(int)"
   ]
  },
  {
   "cell_type": "markdown",
   "id": "b2628a9f",
   "metadata": {
    "heading_collapsed": true
   },
   "source": [
    "# 2.0 FILTRAGEM DAS VARIÁVEIS"
   ]
  },
  {
   "cell_type": "code",
   "execution_count": 22,
   "id": "7379a26b",
   "metadata": {
    "ExecuteTime": {
     "end_time": "2023-02-16T20:13:51.783973Z",
     "start_time": "2023-02-16T20:13:51.657105Z"
    },
    "hidden": true
   },
   "outputs": [],
   "source": [
    "df2 = df1.copy()"
   ]
  },
  {
   "cell_type": "code",
   "execution_count": 23,
   "id": "676a965d",
   "metadata": {
    "ExecuteTime": {
     "end_time": "2023-02-16T20:13:53.120978Z",
     "start_time": "2023-02-16T20:13:52.687026Z"
    },
    "hidden": true
   },
   "outputs": [],
   "source": [
    "# unit_price\n",
    "df2 = df2[df2['unit_price'] > 0.04]\n",
    "\n",
    "# stock_code\n",
    "df2 = df2[~df2['stock_code'].isin(['POST', 'D', 'DOT', 'M', 'S', 'AMAZONFEE', 'm', 'DCGSSBOY',\n",
    "                                   'DCGSSGIRL', 'PADS', 'B', 'CRUK'])]\n",
    "\n",
    "# description\n",
    "df2 = df2.drop(columns='description', axis=1)\n",
    "\n",
    "# country\n",
    "df2 = df2[~df2['country'].isin(['European Community', 'Unspecified'])]\n",
    "\n",
    "# quantity\n",
    "df2_returns = df2[df2['quantity'] < 0]\n",
    "df2_purchases = df2[df2['quantity'] >= 0]\n",
    "\n",
    "# Removing bad users\n",
    "df2 = df2[~df2['customer_id'].isin([16446])]"
   ]
  },
  {
   "cell_type": "markdown",
   "id": "a541bee7",
   "metadata": {},
   "source": [
    "# 3.0 FEATURE ENGINEERING"
   ]
  },
  {
   "cell_type": "code",
   "execution_count": 24,
   "id": "01392f68",
   "metadata": {
    "ExecuteTime": {
     "end_time": "2023-02-16T20:13:54.285680Z",
     "start_time": "2023-02-16T20:13:54.269795Z"
    }
   },
   "outputs": [],
   "source": [
    "df3 = df2.copy()"
   ]
  },
  {
   "cell_type": "markdown",
   "id": "da3f590b",
   "metadata": {
    "ExecuteTime": {
     "end_time": "2023-01-09T15:02:42.152928Z",
     "start_time": "2023-01-09T15:02:42.115497Z"
    }
   },
   "source": [
    "## 3.1 Feature Creation"
   ]
  },
  {
   "cell_type": "code",
   "execution_count": 25,
   "id": "b7657863",
   "metadata": {
    "ExecuteTime": {
     "end_time": "2023-02-16T20:14:01.447116Z",
     "start_time": "2023-02-16T20:14:01.427843Z"
    }
   },
   "outputs": [],
   "source": [
    "# Creating a dataframe with unique customer ids\n",
    "df_ref = pd.DataFrame({'customer_id': df3['customer_id']}).drop_duplicates(ignore_index=True)"
   ]
  },
  {
   "cell_type": "markdown",
   "id": "b097b77f",
   "metadata": {},
   "source": [
    "### 3.1.1 Gross Revenue"
   ]
  },
  {
   "cell_type": "code",
   "execution_count": 26,
   "id": "bbd3a482",
   "metadata": {
    "ExecuteTime": {
     "end_time": "2023-02-16T20:14:02.351052Z",
     "start_time": "2023-02-16T20:14:02.261029Z"
    }
   },
   "outputs": [
    {
     "data": {
      "text/plain": [
       "customer_id       0\n",
       "gross_revenue    91\n",
       "dtype: int64"
      ]
     },
     "execution_count": 26,
     "metadata": {},
     "output_type": "execute_result"
    }
   ],
   "source": [
    "# Creating RFM features\n",
    "# Gross Revenue (quantity * unity price)\n",
    "df2_purchases['gross_revenue'] = df2_purchases['quantity']*df2_purchases['unit_price']\n",
    "\n",
    "# Monetary\n",
    "df_monetary = df2_purchases.loc[:, ['customer_id', 'gross_revenue']].groupby('customer_id').sum().reset_index()\n",
    "\n",
    "# Merging dataframes\n",
    "df_ref = pd.merge(df_ref, df_monetary, on='customer_id', how='left')\n",
    "df_ref.isna().sum()"
   ]
  },
  {
   "cell_type": "markdown",
   "id": "b1a32d91",
   "metadata": {},
   "source": [
    "### 3.1.2 Recency - Day From Last Purchase"
   ]
  },
  {
   "cell_type": "code",
   "execution_count": 27,
   "id": "bb316513",
   "metadata": {
    "ExecuteTime": {
     "end_time": "2023-02-16T20:14:02.816997Z",
     "start_time": "2023-02-16T20:14:02.752987Z"
    }
   },
   "outputs": [
    {
     "data": {
      "text/plain": [
       "customer_id       0\n",
       "gross_revenue    91\n",
       "recency_days     91\n",
       "dtype: int64"
      ]
     },
     "execution_count": 27,
     "metadata": {},
     "output_type": "execute_result"
    }
   ],
   "source": [
    "# Recency - Last Day Purchase for each customer\n",
    "df_recency = df2_purchases[['customer_id', 'invoice_date']].groupby('customer_id').max().reset_index()\n",
    "\n",
    "# Calculating number of days since last purchase\n",
    "df_recency['recency_days'] = (df2_purchases['invoice_date'].max() - df_recency['invoice_date']).dt.days\n",
    "df_recency = df_recency[['customer_id', 'recency_days']]\n",
    "\n",
    "# Merging dataframes\n",
    "df_ref = pd.merge(df_ref, df_recency, on='customer_id', how='left')\n",
    "df_ref.isna().sum()"
   ]
  },
  {
   "cell_type": "markdown",
   "id": "46ad18a8",
   "metadata": {},
   "source": [
    "### 3.1.3 Quantity of Purchases"
   ]
  },
  {
   "cell_type": "code",
   "execution_count": 28,
   "id": "84fa0fc2",
   "metadata": {
    "ExecuteTime": {
     "end_time": "2023-02-16T20:14:03.281793Z",
     "start_time": "2023-02-16T20:14:03.137451Z"
    }
   },
   "outputs": [
    {
     "data": {
      "text/plain": [
       "customer_id       0\n",
       "gross_revenue    91\n",
       "recency_days     91\n",
       "qty_invoices     91\n",
       "dtype: int64"
      ]
     },
     "execution_count": 28,
     "metadata": {},
     "output_type": "execute_result"
    }
   ],
   "source": [
    "# Number of purchases\n",
    "# Creating dataframe with number of purchases for each customer\n",
    "df_freq = df2_purchases[['customer_id',\n",
    "                         'invoice_no']].drop_duplicates().groupby('customer_id').count().reset_index().rename(columns={'invoice_no':\n",
    "                                                                                                                       'qty_invoices'})\n",
    "\n",
    "# Merging dataframes\n",
    "df_ref = pd.merge(df_ref, df_freq, on='customer_id', how='left')\n",
    "df_ref.isna().sum()"
   ]
  },
  {
   "cell_type": "markdown",
   "id": "a842d974",
   "metadata": {},
   "source": [
    "### 3.1.5 Quantity of Items Purchased"
   ]
  },
  {
   "cell_type": "code",
   "execution_count": 30,
   "id": "6cea6681",
   "metadata": {
    "ExecuteTime": {
     "end_time": "2023-02-16T20:14:04.534161Z",
     "start_time": "2023-02-16T20:14:04.458421Z"
    }
   },
   "outputs": [
    {
     "data": {
      "text/plain": [
       "customer_id       0\n",
       "gross_revenue    91\n",
       "recency_days     91\n",
       "qty_invoices     91\n",
       "qty_products     91\n",
       "qty_items        91\n",
       "dtype: int64"
      ]
     },
     "execution_count": 30,
     "metadata": {},
     "output_type": "execute_result"
    }
   ],
   "source": [
    "# Number of items purchased\n",
    "# Creating dataframe with number of purchases for each customer\n",
    "df_freq = df2_purchases[['customer_id',\n",
    "                         'quantity']].groupby('customer_id').sum().reset_index().rename(columns={'quantity': 'qty_items'})\n",
    "\n",
    "# Merging dataframes\n",
    "df_ref = pd.merge(df_ref, df_freq, on='customer_id', how='left')\n",
    "df_ref.isna().sum()"
   ]
  },
  {
   "cell_type": "markdown",
   "id": "987f34c0",
   "metadata": {},
   "source": [
    "### 3.1.8 Frequency"
   ]
  },
  {
   "cell_type": "code",
   "execution_count": 33,
   "id": "47a6b1bf",
   "metadata": {
    "ExecuteTime": {
     "end_time": "2023-02-16T20:14:12.340300Z",
     "start_time": "2023-02-16T20:14:08.578504Z"
    }
   },
   "outputs": [
    {
     "data": {
      "text/plain": [
       "customer_id       0\n",
       "gross_revenue    91\n",
       "recency_days     91\n",
       "qty_invoices     91\n",
       "qty_products     91\n",
       "qty_items        91\n",
       "avg_ticket       91\n",
       "frequency        91\n",
       "dtype: int64"
      ]
     },
     "execution_count": 33,
     "metadata": {},
     "output_type": "execute_result"
    }
   ],
   "source": [
    "# Aggregating max, min, number of days and number of purchases\n",
    "df_aux = df2_purchases[['customer_id',\n",
    "                        'invoice_no',\n",
    "                        'invoice_date']].drop_duplicates().groupby('customer_id').agg(max_ = ('invoice_date', 'max'),\n",
    "                                                                                      min_ = ('invoice_date', 'min'),\n",
    "                                                                                      days_ = ('invoice_date', \n",
    "                                                                                               lambda x: ((x.max() - x.min()).days)+1),\n",
    "                                                                                      buy_ = ('invoice_no', 'count')\n",
    "                                                                                      ).reset_index()\n",
    "\n",
    "# Frequency\n",
    "df_aux['frequency'] = df_aux[['buy_', 'days_']].apply(lambda x: (x['buy_']/x['days_'])\n",
    "                                                      if x['days_'] != 0 else 0, axis=1)\n",
    "\n",
    "# Merging\n",
    "df_ref = pd.merge(df_ref, df_aux[['customer_id', 'frequency']], on='customer_id', how='left')\n",
    "df_ref.isna().sum()"
   ]
  },
  {
   "cell_type": "markdown",
   "id": "a7af372b",
   "metadata": {},
   "source": [
    "### 3.1.9 Number of Returns"
   ]
  },
  {
   "cell_type": "code",
   "execution_count": 34,
   "id": "07cc1376",
   "metadata": {
    "ExecuteTime": {
     "end_time": "2023-02-16T20:14:12.395891Z",
     "start_time": "2023-02-16T20:14:12.345749Z"
    }
   },
   "outputs": [
    {
     "data": {
      "text/plain": [
       "customer_id       0\n",
       "gross_revenue    91\n",
       "recency_days     91\n",
       "qty_invoices     91\n",
       "qty_products     91\n",
       "qty_items        91\n",
       "avg_ticket       91\n",
       "frequency        91\n",
       "qty_returns       0\n",
       "dtype: int64"
      ]
     },
     "execution_count": 34,
     "metadata": {},
     "output_type": "execute_result"
    }
   ],
   "source": [
    "# Number of Returns\n",
    "df_returns = df2_returns[['customer_id', 'quantity']].groupby('customer_id').sum().reset_index().rename(columns={'quantity': \n",
    "                                                                                                                 'qty_returns'})\n",
    "\n",
    "df_returns['qty_returns'] = df_returns['qty_returns']*-1\n",
    "\n",
    "# Merging dataframes\n",
    "df_ref = pd.merge(df_ref, df_returns, on='customer_id', how='left')\n",
    "df_ref.loc[df_ref['qty_returns'].isna(), 'qty_returns'] = 0\n",
    "df_ref.isna().sum()"
   ]
  },
  {
   "cell_type": "markdown",
   "id": "31bd5aa7",
   "metadata": {},
   "source": [
    "# 4.0 ANÁLISE EXPLORATÓRIA DOS DADOS (EDA)"
   ]
  },
  {
   "cell_type": "code",
   "execution_count": 38,
   "id": "a1fead84",
   "metadata": {
    "ExecuteTime": {
     "end_time": "2023-02-16T20:14:35.393231Z",
     "start_time": "2023-02-16T20:14:35.385467Z"
    }
   },
   "outputs": [],
   "source": [
    "df4 = df_ref.dropna().copy()"
   ]
  },
  {
   "cell_type": "markdown",
   "id": "2d5990a6",
   "metadata": {},
   "source": [
    "## 4.3 Estudo do Espaço"
   ]
  },
  {
   "cell_type": "code",
   "execution_count": 39,
   "id": "d4f315b3",
   "metadata": {
    "ExecuteTime": {
     "end_time": "2023-02-16T20:15:20.842423Z",
     "start_time": "2023-02-16T20:15:20.825553Z"
    }
   },
   "outputs": [],
   "source": [
    "cols_selected = ['customer_id', 'gross_revenue', 'qty_invoices', 'recency_days', 'qty_items', 'frequency', 'qty_returns']\n",
    "\n",
    "df43 = df_ref[cols_selected].dropna().copy()"
   ]
  },
  {
   "cell_type": "markdown",
   "id": "827e8b0a",
   "metadata": {},
   "source": [
    "### Encoding"
   ]
  },
  {
   "cell_type": "code",
   "execution_count": 40,
   "id": "7215c567",
   "metadata": {
    "ExecuteTime": {
     "end_time": "2023-02-16T20:15:24.959660Z",
     "start_time": "2023-02-16T20:15:24.908544Z"
    }
   },
   "outputs": [],
   "source": [
    "# Encoding features with Min Max Scaler\n",
    "mm = pp.MinMaxScaler()\n",
    "\n",
    "df43['gross_revenue'] = np.log1p(df43[['gross_revenue']])\n",
    "\n",
    "recency_days_scaler = pickle.load(open('../features/recency_days_scaler.pkl', 'rb'))\n",
    "df43['recency_days'] = recency_days_scaler.transform(df43[['recency_days']])\n",
    "\n",
    "qty_invoices_scaler = pickle.load(open('../features/qty_invoices_scaler.pkl', 'rb'))\n",
    "df43['qty_invoices'] = qty_invoices_scaler.transform(df43[['qty_invoices']])\n",
    "\n",
    "qty_items_scaler = pickle.load(open('../features/qty_items_scaler.pkl', 'rb'))\n",
    "df43['qty_items'] = qty_items_scaler.transform(df43[['qty_items']])\n",
    "\n",
    "frequency_scaler = pickle.load(open('../features/frequency_scaler.pkl', 'rb'))\n",
    "df43['frequency'] = frequency_scaler.transform(df43[['frequency']])\n",
    "\n",
    "qty_returns_scaler = pickle.load(open('../features/qty_returns_scaler.pkl', 'rb'))\n",
    "df43['qty_returns'] = qty_returns_scaler.transform(df43[['qty_returns']])\n",
    "\n",
    "X = df43.copy()"
   ]
  },
  {
   "cell_type": "markdown",
   "id": "e463c35d",
   "metadata": {},
   "source": [
    "### 4.3.4 Tree-Based Embedding"
   ]
  },
  {
   "cell_type": "code",
   "execution_count": 41,
   "id": "15fe3083",
   "metadata": {
    "ExecuteTime": {
     "end_time": "2023-02-16T20:15:37.868902Z",
     "start_time": "2023-02-16T20:15:37.336428Z"
    }
   },
   "outputs": [],
   "source": [
    "# Decision Tree doesn't require Scalers\n",
    "X = df43.drop(columns=['customer_id', 'gross_revenue'], axis=1)\n",
    "\n",
    "# Defining Gross Revenue as target\n",
    "y = df43['gross_revenue']\n",
    "\n",
    "# Model definition\n",
    "rf_model = pickle.load(open('rf_model.pkl', 'rb'))\n",
    "\n",
    "# Leafs\n",
    "df_leaf = pd.DataFrame(rf_model.apply(X))"
   ]
  },
  {
   "cell_type": "code",
   "execution_count": 42,
   "id": "ee734f1a",
   "metadata": {
    "ExecuteTime": {
     "end_time": "2023-02-16T20:15:48.446655Z",
     "start_time": "2023-02-16T20:15:41.703496Z"
    }
   },
   "outputs": [
    {
     "data": {
      "text/plain": [
       "<AxesSubplot: xlabel='embedding_x', ylabel='embedding_y'>"
      ]
     },
     "execution_count": 42,
     "metadata": {},
     "output_type": "execute_result"
    },
    {
     "data": {
      "image/png": "[encoded data removed]",
      "text/plain": [
       "<Figure size 640x480 with 1 Axes>"
      ]
     },
     "metadata": {},
     "output_type": "display_data"
    }
   ],
   "source": [
    "# with UMAP\n",
    "reducer = pickle.load(open('../features/umap_reducer.pkl', 'rb'))\n",
    "\n",
    "embedding = reducer.transform(df_leaf)\n",
    "\n",
    "# Embedding\n",
    "df_tree = pd.DataFrame()\n",
    "df_tree['embedding_x'] = embedding[:, 0]\n",
    "df_tree['embedding_y'] = embedding[:, 1]"
   ]
  },
  {
   "cell_type": "markdown",
   "id": "fc8cecf4",
   "metadata": {},
   "source": [
    "# 7.0 HYPERPARAMETER FINE-TUNNING "
   ]
  },
  {
   "cell_type": "code",
   "execution_count": 43,
   "id": "cf725d61",
   "metadata": {
    "ExecuteTime": {
     "end_time": "2023-02-16T20:16:24.342384Z",
     "start_time": "2023-02-16T20:16:24.336090Z"
    }
   },
   "outputs": [],
   "source": [
    "# embedded dataset\n",
    "df7 = df_tree.copy()"
   ]
  },
  {
   "cell_type": "markdown",
   "id": "1d44b10b",
   "metadata": {},
   "source": [
    "# 8.0 MODEL TRAINING"
   ]
  },
  {
   "cell_type": "code",
   "execution_count": 44,
   "id": "33e6ed62",
   "metadata": {
    "ExecuteTime": {
     "end_time": "2023-02-16T20:16:59.353250Z",
     "start_time": "2023-02-16T20:16:59.344360Z"
    }
   },
   "outputs": [],
   "source": [
    "df8 = df7.copy()"
   ]
  },
  {
   "cell_type": "markdown",
   "id": "ec83b734",
   "metadata": {},
   "source": [
    "## 8.1 K-Means"
   ]
  },
  {
   "cell_type": "code",
   "execution_count": 47,
   "id": "96b3eb7b",
   "metadata": {
    "ExecuteTime": {
     "end_time": "2023-02-16T20:26:40.021326Z",
     "start_time": "2023-02-16T20:26:40.005100Z"
    },
    "hide_input": false
   },
   "outputs": [],
   "source": [
    "# Model definition\n",
    "kmeans = pickle.load(open('kmeans_model.pkl', 'rb'))\n",
    "\n",
    "# Model training\n",
    "kmeans.predict(df8)\n",
    "\n",
    "# Clustering\n",
    "labels = kmeans.labels_"
   ]
  },
  {
   "cell_type": "markdown",
   "id": "b8988097",
   "metadata": {},
   "source": [
    "## 8.2 Cluster Validation"
   ]
  },
  {
   "cell_type": "code",
   "execution_count": 48,
   "id": "5acaf0b8",
   "metadata": {
    "ExecuteTime": {
     "end_time": "2023-02-16T20:26:47.486168Z",
     "start_time": "2023-02-16T20:26:46.460061Z"
    },
    "hide_input": false
   },
   "outputs": [
    {
     "name": "stdout",
     "output_type": "stream",
     "text": [
      "WSS value: 33372.0703125\n",
      "Silhouette Score: 0.585281252861023\n"
     ]
    }
   ],
   "source": [
    "# WSS (Within-Cluster Sum of Squares)\n",
    "print(f'WSS value: {kmeans.inertia_}')\n",
    "\n",
    "# SS (Silhouette Score)\n",
    "print('Silhouette Score: {}'.format(m.silhouette_score(df8, labels, metric='euclidean')))"
   ]
  },
  {
   "cell_type": "markdown",
   "id": "e9f435f6",
   "metadata": {
    "hide_input": false
   },
   "source": [
    "# 9.0 CLUSTER ANALYSIS"
   ]
  },
  {
   "cell_type": "code",
   "execution_count": 49,
   "id": "30887f02",
   "metadata": {
    "ExecuteTime": {
     "end_time": "2023-02-16T20:26:53.237238Z",
     "start_time": "2023-02-16T20:26:53.202017Z"
    }
   },
   "outputs": [
    {
     "data": {
      "text/html": [
       "<div>\n",
       "<style scoped>\n",
       "    .dataframe tbody tr th:only-of-type {\n",
       "        vertical-align: middle;\n",
       "    }\n",
       "\n",
       "    .dataframe tbody tr th {\n",
       "        vertical-align: top;\n",
       "    }\n",
       "\n",
       "    .dataframe thead th {\n",
       "        text-align: right;\n",
       "    }\n",
       "</style>\n",
       "<table border=\"1\" class=\"dataframe\">\n",
       "  <thead>\n",
       "    <tr style=\"text-align: right;\">\n",
       "      <th></th>\n",
       "      <th>customer_id</th>\n",
       "      <th>gross_revenue</th>\n",
       "      <th>qty_invoices</th>\n",
       "      <th>recency_days</th>\n",
       "      <th>qty_items</th>\n",
       "      <th>frequency</th>\n",
       "      <th>qty_returns</th>\n",
       "      <th>cluster</th>\n",
       "    </tr>\n",
       "  </thead>\n",
       "  <tbody>\n",
       "    <tr>\n",
       "      <th>0</th>\n",
       "      <td>17850</td>\n",
       "      <td>5391.21</td>\n",
       "      <td>34.0</td>\n",
       "      <td>372.0</td>\n",
       "      <td>1733.0</td>\n",
       "      <td>17.000000</td>\n",
       "      <td>40.0</td>\n",
       "      <td>7</td>\n",
       "    </tr>\n",
       "    <tr>\n",
       "      <th>1</th>\n",
       "      <td>13047</td>\n",
       "      <td>3232.59</td>\n",
       "      <td>9.0</td>\n",
       "      <td>56.0</td>\n",
       "      <td>1390.0</td>\n",
       "      <td>0.028302</td>\n",
       "      <td>35.0</td>\n",
       "      <td>7</td>\n",
       "    </tr>\n",
       "    <tr>\n",
       "      <th>2</th>\n",
       "      <td>12583</td>\n",
       "      <td>6705.38</td>\n",
       "      <td>15.0</td>\n",
       "      <td>2.0</td>\n",
       "      <td>5028.0</td>\n",
       "      <td>0.040323</td>\n",
       "      <td>50.0</td>\n",
       "      <td>2</td>\n",
       "    </tr>\n",
       "    <tr>\n",
       "      <th>3</th>\n",
       "      <td>13748</td>\n",
       "      <td>948.25</td>\n",
       "      <td>5.0</td>\n",
       "      <td>95.0</td>\n",
       "      <td>439.0</td>\n",
       "      <td>0.017921</td>\n",
       "      <td>0.0</td>\n",
       "      <td>8</td>\n",
       "    </tr>\n",
       "    <tr>\n",
       "      <th>4</th>\n",
       "      <td>15100</td>\n",
       "      <td>876.00</td>\n",
       "      <td>3.0</td>\n",
       "      <td>333.0</td>\n",
       "      <td>80.0</td>\n",
       "      <td>0.073171</td>\n",
       "      <td>22.0</td>\n",
       "      <td>6</td>\n",
       "    </tr>\n",
       "  </tbody>\n",
       "</table>\n",
       "</div>"
      ],
      "text/plain": [
       "   customer_id  gross_revenue  qty_invoices  recency_days  qty_items  \\\n",
       "0        17850        5391.21          34.0         372.0     1733.0   \n",
       "1        13047        3232.59           9.0          56.0     1390.0   \n",
       "2        12583        6705.38          15.0           2.0     5028.0   \n",
       "3        13748         948.25           5.0          95.0      439.0   \n",
       "4        15100         876.00           3.0         333.0       80.0   \n",
       "\n",
       "   frequency  qty_returns  cluster  \n",
       "0  17.000000         40.0        7  \n",
       "1   0.028302         35.0        7  \n",
       "2   0.040323         50.0        2  \n",
       "3   0.017921          0.0        8  \n",
       "4   0.073171         22.0        6  "
      ]
     },
     "execution_count": 49,
     "metadata": {},
     "output_type": "execute_result"
    }
   ],
   "source": [
    "df9 = df_ref[cols_selected].dropna().copy()\n",
    "df9['cluster'] = labels"
   ]
  },
  {
   "cell_type": "markdown",
   "id": "efad2670",
   "metadata": {},
   "source": [
    "# 10.0 DEPLOY TO PRODUCTION"
   ]
  },
  {
   "cell_type": "code",
   "execution_count": null,
   "id": "76985a6a",
   "metadata": {
    "ExecuteTime": {
     "end_time": "2023-02-15T23:41:33.676045Z",
     "start_time": "2023-02-15T23:41:33.670355Z"
    }
   },
   "outputs": [],
   "source": [
    "df10 = df9.copy()"
   ]
  },
  {
   "cell_type": "code",
   "execution_count": null,
   "id": "260eb516",
   "metadata": {
    "ExecuteTime": {
     "end_time": "2023-02-15T23:41:34.807335Z",
     "start_time": "2023-02-15T23:41:34.795940Z"
    }
   },
   "outputs": [],
   "source": [
    "# Label for each cluster\n",
    "df10['cluster_name'] = df10['cluster'].apply(lambda x: 'Insiders' if x == 2 \n",
    "                                                    else 'Leais' if x == 7\n",
    "                                                    else 'Potenciais' if x == 0\n",
    "                                                    else 'Novos' if x == 8\n",
    "                                                    else 'Acompanhar' if x == 3\n",
    "                                                    else 'Promissor' if x == 5\n",
    "                                                    else 'Prestes a perder' if x == 6\n",
    "                                                    else 'Perdendo' if x == 4\n",
    "                                                    else 'Hibernando')\n"
   ]
  },
  {
   "cell_type": "markdown",
   "id": "d3e48bd2",
   "metadata": {},
   "source": [
    "## 11.1 Insert into Postgres"
   ]
  },
  {
   "cell_type": "code",
   "execution_count": null,
   "id": "bf15d791",
   "metadata": {
    "ExecuteTime": {
     "end_time": "2023-02-15T23:44:24.928112Z",
     "start_time": "2023-02-15T23:44:24.709501Z"
    }
   },
   "outputs": [],
   "source": [
    "# database connection\n",
    "\n",
    "POSTGRES_PWD = os.getenv(\"POSTGRES_PWD\")\n",
    "\n",
    "endpoint = 'postgresql://matheus:+' POSTGRES_PWD + '@database-insiders.czzhco95lj75.us-east-1.rds.amazonaws.com:5432/postgres'\n",
    "\n",
    "engine = create_engine(endpoint)\n",
    "\n",
    "# Inserting data to database\n",
    "with engine.connect() as connection:\n",
    "    df10.to_sql('insiders', con=connection, if_exists='append', index=False)"
   ]
  },
  {
   "cell_type": "code",
   "execution_count": null,
   "id": "1e4c1ec9",
   "metadata": {},
   "outputs": [],
   "source": []
  }
 ],
 "metadata": {
  "kernelspec": {
   "display_name": "Python 3 (ipykernel)",
   "language": "python",
   "name": "python3"
  },
  "language_info": {
   "codemirror_mode": {
    "name": "ipython",
    "version": 3
   },
   "file_extension": ".py",
   "mimetype": "text/x-python",
   "name": "python",
   "nbconvert_exporter": "python",
   "pygments_lexer": "ipython3",
   "version": "3.8.12"
  }
 },
 "nbformat": 4,
 "nbformat_minor": 5
}
