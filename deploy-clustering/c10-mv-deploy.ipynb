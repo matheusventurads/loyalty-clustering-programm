{
 "cells": [
  {
   "cell_type": "markdown",
   "id": "92fd61b8",
   "metadata": {
    "heading_collapsed": true
   },
   "source": [
    "# High Value Customer Identification (Insiders)"
   ]
  },
  {
   "cell_type": "markdown",
   "id": "424a5f41",
   "metadata": {},
   "source": [
    "# 0.0 Planejamento da Solução (IOT)"
   ]
  },
  {
   "cell_type": "markdown",
   "id": "97c4c34f",
   "metadata": {},
   "source": [
    "# 0.0 IMPORTS"
   ]
  },
  {
   "cell_type": "code",
   "execution_count": 1,
   "id": "30ca7ed8",
   "metadata": {
    "ExecuteTime": {
     "end_time": "2023-02-16T21:53:58.021707Z",
     "start_time": "2023-02-16T21:53:49.813119Z"
    }
   },
   "outputs": [
    {
     "name": "stderr",
     "output_type": "stream",
     "text": [
      "/home/matheus/.pyenv/versions/3.8.12/envs/pa005/lib/python3.8/site-packages/tqdm/auto.py:22: TqdmWarning: IProgress not found. Please update jupyter and ipywidgets. See https://ipywidgets.readthedocs.io/en/stable/user_install.html\n",
      "  from .autonotebook import tqdm as notebook_tqdm\n"
     ]
    }
   ],
   "source": [
    "import re\n",
    "import os\n",
    "import pickle\n",
    "import s3fs\n",
    "import pandas     as pd\n",
    "import numpy      as np\n",
    "import umap.umap_ as umap\n",
    "\n",
    "from sklearn    import cluster       as c\n",
    "from sklearn    import metrics       as m\n",
    "from sklearn    import preprocessing as pp\n",
    "from sklearn    import decomposition as dc\n",
    "from sklearn    import ensemble      as en\n",
    "\n",
    "from sqlalchemy import create_engine"
   ]
  },
  {
   "cell_type": "markdown",
   "id": "fecb3197",
   "metadata": {},
   "source": [
    "## 0.2 Load Dataset"
   ]
  },
  {
   "cell_type": "code",
   "execution_count": 2,
   "id": "41979223",
   "metadata": {
    "ExecuteTime": {
     "end_time": "2023-02-16T22:18:45.975066Z",
     "start_time": "2023-02-16T22:18:45.969239Z"
    }
   },
   "outputs": [],
   "source": [
    "path_s3 = 's3://insiders-dataset-mv/'\n",
    "\n",
    "AWS_ACCESS_KEY_ID = os.getenv(\"AWS_ACCESS_KEY_ID\")\n",
    "AWS_SECRET_ACCESS_KEY = os.getenv(\"AWS_SECRET_ACCESS_KEY\")"
   ]
  },
  {
   "cell_type": "code",
   "execution_count": 3,
   "id": "e7d07b6e",
   "metadata": {
    "ExecuteTime": {
     "end_time": "2023-02-16T22:21:10.348772Z",
     "start_time": "2023-02-16T22:18:47.579843Z"
    }
   },
   "outputs": [],
   "source": [
    "data_raw = pd.read_csv(path_s3 + 'Ecommerce.csv',\n",
    "                       encoding='iso-8859-1',\n",
    "                       storage_options={'key': AWS_ACCESS_KEY_ID,\n",
    "                                        'secret': AWS_SECRET_ACCESS_KEY})\n",
    "\n",
    "data_raw = data_raw.drop(columns=['Unnamed: 8'])"
   ]
  },
  {
   "cell_type": "code",
   "execution_count": 4,
   "id": "949ae0b6",
   "metadata": {
    "ExecuteTime": {
     "end_time": "2023-02-16T22:21:10.394305Z",
     "start_time": "2023-02-16T22:21:10.355703Z"
    }
   },
   "outputs": [
    {
     "data": {
      "text/html": [
       "<div>\n",
       "<style scoped>\n",
       "    .dataframe tbody tr th:only-of-type {\n",
       "        vertical-align: middle;\n",
       "    }\n",
       "\n",
       "    .dataframe tbody tr th {\n",
       "        vertical-align: top;\n",
       "    }\n",
       "\n",
       "    .dataframe thead th {\n",
       "        text-align: right;\n",
       "    }\n",
       "</style>\n",
       "<table border=\"1\" class=\"dataframe\">\n",
       "  <thead>\n",
       "    <tr style=\"text-align: right;\">\n",
       "      <th></th>\n",
       "      <th>InvoiceNo</th>\n",
       "      <th>StockCode</th>\n",
       "      <th>Description</th>\n",
       "      <th>Quantity</th>\n",
       "      <th>InvoiceDate</th>\n",
       "      <th>UnitPrice</th>\n",
       "      <th>CustomerID</th>\n",
       "      <th>Country</th>\n",
       "    </tr>\n",
       "  </thead>\n",
       "  <tbody>\n",
       "    <tr>\n",
       "      <th>0</th>\n",
       "      <td>536365</td>\n",
       "      <td>85123A</td>\n",
       "      <td>WHITE HANGING HEART T-LIGHT HOLDER</td>\n",
       "      <td>6</td>\n",
       "      <td>29-Nov-16</td>\n",
       "      <td>2.55</td>\n",
       "      <td>17850.0</td>\n",
       "      <td>United Kingdom</td>\n",
       "    </tr>\n",
       "    <tr>\n",
       "      <th>1</th>\n",
       "      <td>536365</td>\n",
       "      <td>71053</td>\n",
       "      <td>WHITE METAL LANTERN</td>\n",
       "      <td>6</td>\n",
       "      <td>29-Nov-16</td>\n",
       "      <td>3.39</td>\n",
       "      <td>17850.0</td>\n",
       "      <td>United Kingdom</td>\n",
       "    </tr>\n",
       "    <tr>\n",
       "      <th>2</th>\n",
       "      <td>536365</td>\n",
       "      <td>84406B</td>\n",
       "      <td>CREAM CUPID HEARTS COAT HANGER</td>\n",
       "      <td>8</td>\n",
       "      <td>29-Nov-16</td>\n",
       "      <td>2.75</td>\n",
       "      <td>17850.0</td>\n",
       "      <td>United Kingdom</td>\n",
       "    </tr>\n",
       "    <tr>\n",
       "      <th>3</th>\n",
       "      <td>536365</td>\n",
       "      <td>84029G</td>\n",
       "      <td>KNITTED UNION FLAG HOT WATER BOTTLE</td>\n",
       "      <td>6</td>\n",
       "      <td>29-Nov-16</td>\n",
       "      <td>3.39</td>\n",
       "      <td>17850.0</td>\n",
       "      <td>United Kingdom</td>\n",
       "    </tr>\n",
       "    <tr>\n",
       "      <th>4</th>\n",
       "      <td>536365</td>\n",
       "      <td>84029E</td>\n",
       "      <td>RED WOOLLY HOTTIE WHITE HEART.</td>\n",
       "      <td>6</td>\n",
       "      <td>29-Nov-16</td>\n",
       "      <td>3.39</td>\n",
       "      <td>17850.0</td>\n",
       "      <td>United Kingdom</td>\n",
       "    </tr>\n",
       "  </tbody>\n",
       "</table>\n",
       "</div>"
      ],
      "text/plain": [
       "  InvoiceNo StockCode                          Description  Quantity  \\\n",
       "0    536365    85123A   WHITE HANGING HEART T-LIGHT HOLDER         6   \n",
       "1    536365     71053                  WHITE METAL LANTERN         6   \n",
       "2    536365    84406B       CREAM CUPID HEARTS COAT HANGER         8   \n",
       "3    536365    84029G  KNITTED UNION FLAG HOT WATER BOTTLE         6   \n",
       "4    536365    84029E       RED WOOLLY HOTTIE WHITE HEART.         6   \n",
       "\n",
       "  InvoiceDate  UnitPrice  CustomerID         Country  \n",
       "0   29-Nov-16       2.55     17850.0  United Kingdom  \n",
       "1   29-Nov-16       3.39     17850.0  United Kingdom  \n",
       "2   29-Nov-16       2.75     17850.0  United Kingdom  \n",
       "3   29-Nov-16       3.39     17850.0  United Kingdom  \n",
       "4   29-Nov-16       3.39     17850.0  United Kingdom  "
      ]
     },
     "execution_count": 4,
     "metadata": {},
     "output_type": "execute_result"
    }
   ],
   "source": [
    "data_raw.head()"
   ]
  },
  {
   "cell_type": "markdown",
   "id": "3826b637",
   "metadata": {},
   "source": [
    "# 1.0 DESCRIÇÃO DOS DADOS"
   ]
  },
  {
   "cell_type": "code",
   "execution_count": 5,
   "id": "27e7b44e",
   "metadata": {
    "ExecuteTime": {
     "end_time": "2023-02-16T22:22:12.018949Z",
     "start_time": "2023-02-16T22:22:12.015460Z"
    }
   },
   "outputs": [],
   "source": [
    "df1 = data_raw"
   ]
  },
  {
   "cell_type": "markdown",
   "id": "c9b1a3d4",
   "metadata": {},
   "source": [
    "## 1.1 Rename columns"
   ]
  },
  {
   "cell_type": "code",
   "execution_count": 6,
   "id": "80d87104",
   "metadata": {
    "ExecuteTime": {
     "end_time": "2023-02-16T22:22:13.154223Z",
     "start_time": "2023-02-16T22:22:13.147364Z"
    }
   },
   "outputs": [],
   "source": [
    "# Columns names in snake case\n",
    "cols_new = ['invoice_no', 'stock_code', 'description', 'quantity', \n",
    "            'invoice_date', 'unit_price', 'customer_id', 'country']\n",
    "\n",
    "# Renaming columns\n",
    "df1.columns = cols_new"
   ]
  },
  {
   "cell_type": "markdown",
   "id": "5d3f3d6e",
   "metadata": {},
   "source": [
    "## 1.2 Data dimensions"
   ]
  },
  {
   "cell_type": "code",
   "execution_count": 7,
   "id": "25a93ccc",
   "metadata": {
    "ExecuteTime": {
     "end_time": "2023-02-16T22:22:14.159942Z",
     "start_time": "2023-02-16T22:22:14.153485Z"
    }
   },
   "outputs": [
    {
     "name": "stdout",
     "output_type": "stream",
     "text": [
      "Number of lines: 541909\n",
      "Number of columns: 8\n"
     ]
    }
   ],
   "source": [
    "# Information about shape\n",
    "print(f'Number of lines: {df1.shape[0]}')\n",
    "print(f'Number of columns: {df1.shape[1]}')"
   ]
  },
  {
   "cell_type": "markdown",
   "id": "803731e3",
   "metadata": {
    "ExecuteTime": {
     "end_time": "2023-01-04T11:52:34.428845Z",
     "start_time": "2023-01-04T11:52:34.425354Z"
    }
   },
   "source": [
    "## 1.3 Data types"
   ]
  },
  {
   "cell_type": "code",
   "execution_count": 8,
   "id": "a9f88350",
   "metadata": {
    "ExecuteTime": {
     "end_time": "2023-02-16T22:22:15.098518Z",
     "start_time": "2023-02-16T22:22:15.080898Z"
    }
   },
   "outputs": [
    {
     "data": {
      "text/plain": [
       "invoice_no       object\n",
       "stock_code       object\n",
       "description      object\n",
       "quantity          int64\n",
       "invoice_date     object\n",
       "unit_price      float64\n",
       "customer_id     float64\n",
       "country          object\n",
       "dtype: object"
      ]
     },
     "execution_count": 8,
     "metadata": {},
     "output_type": "execute_result"
    }
   ],
   "source": [
    "df1.dtypes"
   ]
  },
  {
   "cell_type": "markdown",
   "id": "6b68d321",
   "metadata": {},
   "source": [
    "## 1.4 Check NA"
   ]
  },
  {
   "cell_type": "code",
   "execution_count": 9,
   "id": "c5e83522",
   "metadata": {
    "ExecuteTime": {
     "end_time": "2023-02-16T22:22:16.406013Z",
     "start_time": "2023-02-16T22:22:15.716174Z"
    }
   },
   "outputs": [
    {
     "data": {
      "text/plain": [
       "invoice_no           0\n",
       "stock_code           0\n",
       "description       1454\n",
       "quantity             0\n",
       "invoice_date         0\n",
       "unit_price           0\n",
       "customer_id     135080\n",
       "country              0\n",
       "dtype: int64"
      ]
     },
     "execution_count": 9,
     "metadata": {},
     "output_type": "execute_result"
    }
   ],
   "source": [
    "# Sum of null values\n",
    "df1.isna().sum()"
   ]
  },
  {
   "cell_type": "markdown",
   "id": "c44fdca4",
   "metadata": {},
   "source": [
    "## 1.5 Replace NA"
   ]
  },
  {
   "cell_type": "code",
   "execution_count": 10,
   "id": "0542f735",
   "metadata": {
    "ExecuteTime": {
     "end_time": "2023-02-16T22:22:16.531554Z",
     "start_time": "2023-02-16T22:22:16.412508Z"
    }
   },
   "outputs": [],
   "source": [
    "# Separating null values for customer id\n",
    "df_missing = df1.loc[df1['customer_id'].isna(), :]\n",
    "df_not_missing = df1.loc[~df1['customer_id'].isna(), :]"
   ]
  },
  {
   "cell_type": "markdown",
   "id": "4539832d",
   "metadata": {},
   "source": [
    "### Creating Customer ID"
   ]
  },
  {
   "cell_type": "code",
   "execution_count": 12,
   "id": "5f53888e",
   "metadata": {
    "ExecuteTime": {
     "end_time": "2023-02-16T22:22:18.419144Z",
     "start_time": "2023-02-16T22:22:17.506305Z"
    }
   },
   "outputs": [
    {
     "data": {
      "text/plain": [
       "invoice_no         0\n",
       "stock_code         0\n",
       "description     1454\n",
       "quantity           0\n",
       "invoice_date       0\n",
       "unit_price         0\n",
       "country            0\n",
       "customer_id        0\n",
       "dtype: int64"
      ]
     },
     "execution_count": 12,
     "metadata": {},
     "output_type": "execute_result"
    }
   ],
   "source": [
    "# Creating reference\n",
    "df_backup = pd.DataFrame(df_missing['invoice_no'].drop_duplicates())\n",
    "df_backup['customer_id'] = np.arange(19000, 19000+len(df_backup),1)\n",
    "\n",
    "# Merging dataframes\n",
    "df1 = pd.merge(df1, df_backup, on='invoice_no', how='left')\n",
    "\n",
    "# Coalesce\n",
    "df1['customer_id'] = df1['customer_id_x'].combine_first(df1['customer_id_y'])\n",
    "\n",
    "df1 = df1.drop(columns=['customer_id_x', 'customer_id_y'], axis=1)\n",
    "\n",
    "df1.isna().sum()"
   ]
  },
  {
   "cell_type": "markdown",
   "id": "fd1b7aac",
   "metadata": {},
   "source": [
    "## 1.6 Change dtypes"
   ]
  },
  {
   "cell_type": "code",
   "execution_count": 13,
   "id": "64c88b0e",
   "metadata": {
    "ExecuteTime": {
     "end_time": "2023-02-16T22:22:18.572614Z",
     "start_time": "2023-02-16T22:22:18.424332Z"
    }
   },
   "outputs": [],
   "source": [
    "# Changing date time\n",
    "df1['invoice_date'] = pd.to_datetime(df1['invoice_date'], format='%d-%b-%y')\n",
    "\n",
    "# Changing customer id to integer\n",
    "df1['customer_id'] = df1['customer_id'].astype(int)"
   ]
  },
  {
   "cell_type": "markdown",
   "id": "b2628a9f",
   "metadata": {},
   "source": [
    "# 2.0 FILTRAGEM DAS VARIÁVEIS"
   ]
  },
  {
   "cell_type": "code",
   "execution_count": 14,
   "id": "7379a26b",
   "metadata": {
    "ExecuteTime": {
     "end_time": "2023-02-16T22:22:23.142881Z",
     "start_time": "2023-02-16T22:22:23.033088Z"
    }
   },
   "outputs": [],
   "source": [
    "df2 = df1.copy()"
   ]
  },
  {
   "cell_type": "code",
   "execution_count": 15,
   "id": "676a965d",
   "metadata": {
    "ExecuteTime": {
     "end_time": "2023-02-16T22:22:41.830988Z",
     "start_time": "2023-02-16T22:22:41.520345Z"
    }
   },
   "outputs": [],
   "source": [
    "# unit_price\n",
    "df2 = df2[df2['unit_price'] > 0.04]\n",
    "\n",
    "# stock_code\n",
    "df2 = df2[~df2['stock_code'].isin(['POST', 'D', 'DOT', 'M', 'S', 'AMAZONFEE', 'm', 'DCGSSBOY',\n",
    "                                   'DCGSSGIRL', 'PADS', 'B', 'CRUK'])]\n",
    "\n",
    "# description\n",
    "df2 = df2.drop(columns='description', axis=1)\n",
    "\n",
    "# country\n",
    "df2 = df2[~df2['country'].isin(['European Community', 'Unspecified'])]\n",
    "\n",
    "# quantity\n",
    "df2_returns = df2[df2['quantity'] < 0]\n",
    "df2_purchases = df2[df2['quantity'] >= 0]\n",
    "\n",
    "# Removing bad users\n",
    "df2 = df2[~df2['customer_id'].isin([16446])]"
   ]
  },
  {
   "cell_type": "markdown",
   "id": "a541bee7",
   "metadata": {},
   "source": [
    "# 3.0 FEATURE ENGINEERING"
   ]
  },
  {
   "cell_type": "code",
   "execution_count": 16,
   "id": "01392f68",
   "metadata": {
    "ExecuteTime": {
     "end_time": "2023-02-16T22:22:44.556901Z",
     "start_time": "2023-02-16T22:22:44.543721Z"
    }
   },
   "outputs": [],
   "source": [
    "df3 = df2.copy()"
   ]
  },
  {
   "cell_type": "markdown",
   "id": "da3f590b",
   "metadata": {
    "ExecuteTime": {
     "end_time": "2023-01-09T15:02:42.152928Z",
     "start_time": "2023-01-09T15:02:42.115497Z"
    }
   },
   "source": [
    "## 3.1 Feature Creation"
   ]
  },
  {
   "cell_type": "code",
   "execution_count": 17,
   "id": "b7657863",
   "metadata": {
    "ExecuteTime": {
     "end_time": "2023-02-16T22:22:45.633169Z",
     "start_time": "2023-02-16T22:22:45.598557Z"
    }
   },
   "outputs": [],
   "source": [
    "# Creating a dataframe with unique customer ids\n",
    "df_ref = pd.DataFrame({'customer_id': df3['customer_id']}).drop_duplicates(ignore_index=True)"
   ]
  },
  {
   "cell_type": "markdown",
   "id": "b097b77f",
   "metadata": {},
   "source": [
    "### 3.1.1 Gross Revenue"
   ]
  },
  {
   "cell_type": "code",
   "execution_count": 18,
   "id": "bbd3a482",
   "metadata": {
    "ExecuteTime": {
     "end_time": "2023-02-16T22:22:46.836217Z",
     "start_time": "2023-02-16T22:22:46.768122Z"
    }
   },
   "outputs": [
    {
     "data": {
      "text/plain": [
       "customer_id       0\n",
       "gross_revenue    91\n",
       "dtype: int64"
      ]
     },
     "execution_count": 18,
     "metadata": {},
     "output_type": "execute_result"
    }
   ],
   "source": [
    "# Creating RFM features\n",
    "# Gross Revenue (quantity * unity price)\n",
    "df2_purchases['gross_revenue'] = df2_purchases['quantity']*df2_purchases['unit_price']\n",
    "\n",
    "# Monetary\n",
    "df_monetary = df2_purchases.loc[:, ['customer_id', 'gross_revenue']].groupby('customer_id').sum().reset_index()\n",
    "\n",
    "# Merging dataframes\n",
    "df_ref = pd.merge(df_ref, df_monetary, on='customer_id', how='left')\n",
    "df_ref.isna().sum()"
   ]
  },
  {
   "cell_type": "markdown",
   "id": "b1a32d91",
   "metadata": {},
   "source": [
    "### 3.1.2 Recency - Day From Last Purchase"
   ]
  },
  {
   "cell_type": "code",
   "execution_count": 19,
   "id": "bb316513",
   "metadata": {
    "ExecuteTime": {
     "end_time": "2023-02-16T22:22:49.121933Z",
     "start_time": "2023-02-16T22:22:49.064721Z"
    }
   },
   "outputs": [
    {
     "data": {
      "text/plain": [
       "customer_id       0\n",
       "gross_revenue    91\n",
       "recency_days     91\n",
       "dtype: int64"
      ]
     },
     "execution_count": 19,
     "metadata": {},
     "output_type": "execute_result"
    }
   ],
   "source": [
    "# Recency - Last Day Purchase for each customer\n",
    "df_recency = df2_purchases[['customer_id', 'invoice_date']].groupby('customer_id').max().reset_index()\n",
    "\n",
    "# Calculating number of days since last purchase\n",
    "df_recency['recency_days'] = (df2_purchases['invoice_date'].max() - df_recency['invoice_date']).dt.days\n",
    "df_recency = df_recency[['customer_id', 'recency_days']]\n",
    "\n",
    "# Merging dataframes\n",
    "df_ref = pd.merge(df_ref, df_recency, on='customer_id', how='left')\n",
    "df_ref.isna().sum()"
   ]
  },
  {
   "cell_type": "markdown",
   "id": "46ad18a8",
   "metadata": {},
   "source": [
    "### 3.1.3 Quantity of Purchases"
   ]
  },
  {
   "cell_type": "code",
   "execution_count": 20,
   "id": "84fa0fc2",
   "metadata": {
    "ExecuteTime": {
     "end_time": "2023-02-16T22:22:51.250022Z",
     "start_time": "2023-02-16T22:22:51.129464Z"
    }
   },
   "outputs": [
    {
     "data": {
      "text/plain": [
       "customer_id       0\n",
       "gross_revenue    91\n",
       "recency_days     91\n",
       "qty_invoices     91\n",
       "dtype: int64"
      ]
     },
     "execution_count": 20,
     "metadata": {},
     "output_type": "execute_result"
    }
   ],
   "source": [
    "# Number of purchases\n",
    "# Creating dataframe with number of purchases for each customer\n",
    "df_freq = df2_purchases[['customer_id',\n",
    "                         'invoice_no']].drop_duplicates().groupby('customer_id').count().reset_index().rename(columns={'invoice_no':\n",
    "                                                                                                                       'qty_invoices'})\n",
    "\n",
    "# Merging dataframes\n",
    "df_ref = pd.merge(df_ref, df_freq, on='customer_id', how='left')\n",
    "df_ref.isna().sum()"
   ]
  },
  {
   "cell_type": "markdown",
   "id": "a842d974",
   "metadata": {},
   "source": [
    "### 3.1.5 Quantity of Items Purchased"
   ]
  },
  {
   "cell_type": "code",
   "execution_count": 21,
   "id": "6cea6681",
   "metadata": {
    "ExecuteTime": {
     "end_time": "2023-02-16T22:22:53.008038Z",
     "start_time": "2023-02-16T22:22:52.951858Z"
    }
   },
   "outputs": [
    {
     "data": {
      "text/plain": [
       "customer_id       0\n",
       "gross_revenue    91\n",
       "recency_days     91\n",
       "qty_invoices     91\n",
       "qty_items        91\n",
       "dtype: int64"
      ]
     },
     "execution_count": 21,
     "metadata": {},
     "output_type": "execute_result"
    }
   ],
   "source": [
    "# Number of items purchased\n",
    "# Creating dataframe with number of purchases for each customer\n",
    "df_freq = df2_purchases[['customer_id',\n",
    "                         'quantity']].groupby('customer_id').sum().reset_index().rename(columns={'quantity': 'qty_items'})\n",
    "\n",
    "# Merging dataframes\n",
    "df_ref = pd.merge(df_ref, df_freq, on='customer_id', how='left')\n",
    "df_ref.isna().sum()"
   ]
  },
  {
   "cell_type": "markdown",
   "id": "987f34c0",
   "metadata": {},
   "source": [
    "### 3.1.8 Frequency"
   ]
  },
  {
   "cell_type": "code",
   "execution_count": 22,
   "id": "47a6b1bf",
   "metadata": {
    "ExecuteTime": {
     "end_time": "2023-02-16T22:22:58.148136Z",
     "start_time": "2023-02-16T22:22:55.465462Z"
    }
   },
   "outputs": [
    {
     "data": {
      "text/plain": [
       "customer_id       0\n",
       "gross_revenue    91\n",
       "recency_days     91\n",
       "qty_invoices     91\n",
       "qty_items        91\n",
       "frequency        91\n",
       "dtype: int64"
      ]
     },
     "execution_count": 22,
     "metadata": {},
     "output_type": "execute_result"
    }
   ],
   "source": [
    "# Aggregating max, min, number of days and number of purchases\n",
    "df_aux = df2_purchases[['customer_id',\n",
    "                        'invoice_no',\n",
    "                        'invoice_date']].drop_duplicates().groupby('customer_id').agg(max_ = ('invoice_date', 'max'),\n",
    "                                                                                      min_ = ('invoice_date', 'min'),\n",
    "                                                                                      days_ = ('invoice_date', \n",
    "                                                                                               lambda x: ((x.max() - x.min()).days)+1),\n",
    "                                                                                      buy_ = ('invoice_no', 'count')\n",
    "                                                                                      ).reset_index()\n",
    "\n",
    "# Frequency\n",
    "df_aux['frequency'] = df_aux[['buy_', 'days_']].apply(lambda x: (x['buy_']/x['days_'])\n",
    "                                                      if x['days_'] != 0 else 0, axis=1)\n",
    "\n",
    "# Merging\n",
    "df_ref = pd.merge(df_ref, df_aux[['customer_id', 'frequency']], on='customer_id', how='left')\n",
    "df_ref.isna().sum()"
   ]
  },
  {
   "cell_type": "markdown",
   "id": "a7af372b",
   "metadata": {},
   "source": [
    "### 3.1.9 Number of Returns"
   ]
  },
  {
   "cell_type": "code",
   "execution_count": 23,
   "id": "07cc1376",
   "metadata": {
    "ExecuteTime": {
     "end_time": "2023-02-16T22:23:00.429442Z",
     "start_time": "2023-02-16T22:23:00.392636Z"
    }
   },
   "outputs": [
    {
     "data": {
      "text/plain": [
       "customer_id       0\n",
       "gross_revenue    91\n",
       "recency_days     91\n",
       "qty_invoices     91\n",
       "qty_items        91\n",
       "frequency        91\n",
       "qty_returns       0\n",
       "dtype: int64"
      ]
     },
     "execution_count": 23,
     "metadata": {},
     "output_type": "execute_result"
    }
   ],
   "source": [
    "# Number of Returns\n",
    "df_returns = df2_returns[['customer_id', 'quantity']].groupby('customer_id').sum().reset_index().rename(columns={'quantity': \n",
    "                                                                                                                 'qty_returns'})\n",
    "\n",
    "df_returns['qty_returns'] = df_returns['qty_returns']*-1\n",
    "\n",
    "# Merging dataframes\n",
    "df_ref = pd.merge(df_ref, df_returns, on='customer_id', how='left')\n",
    "df_ref.loc[df_ref['qty_returns'].isna(), 'qty_returns'] = 0\n",
    "df_ref.isna().sum()"
   ]
  },
  {
   "cell_type": "markdown",
   "id": "31bd5aa7",
   "metadata": {},
   "source": [
    "# 4.0 ANÁLISE EXPLORATÓRIA DOS DADOS (EDA)"
   ]
  },
  {
   "cell_type": "code",
   "execution_count": 24,
   "id": "a1fead84",
   "metadata": {
    "ExecuteTime": {
     "end_time": "2023-02-16T22:23:03.146694Z",
     "start_time": "2023-02-16T22:23:03.132271Z"
    }
   },
   "outputs": [],
   "source": [
    "df4 = df_ref.dropna().copy()"
   ]
  },
  {
   "cell_type": "markdown",
   "id": "2d5990a6",
   "metadata": {},
   "source": [
    "## 4.3 Estudo do Espaço"
   ]
  },
  {
   "cell_type": "code",
   "execution_count": 25,
   "id": "d4f315b3",
   "metadata": {
    "ExecuteTime": {
     "end_time": "2023-02-16T22:23:08.767473Z",
     "start_time": "2023-02-16T22:23:08.752913Z"
    }
   },
   "outputs": [],
   "source": [
    "cols_selected = ['customer_id', 'gross_revenue', 'qty_invoices', 'recency_days', 'qty_items', 'frequency', 'qty_returns']\n",
    "\n",
    "df43 = df_ref[cols_selected].dropna().copy()"
   ]
  },
  {
   "cell_type": "markdown",
   "id": "827e8b0a",
   "metadata": {},
   "source": [
    "### Encoding"
   ]
  },
  {
   "cell_type": "code",
   "execution_count": 26,
   "id": "7215c567",
   "metadata": {
    "ExecuteTime": {
     "end_time": "2023-02-16T22:23:14.267719Z",
     "start_time": "2023-02-16T22:23:11.258287Z"
    }
   },
   "outputs": [],
   "source": [
    "# Applying log to normalize the revenue\n",
    "df43['gross_revenue'] = np.log1p(df43[['gross_revenue']])\n",
    "\n",
    "# Getting access to s3\n",
    "fs = s3fs.S3FileSystem(anon=False, key=AWS_ACCESS_KEY_ID, secret=AWS_SECRET_ACCESS_KEY)\n",
    "\n",
    "# Encoding features with Min Max Scaler\n",
    "\n",
    "recency_days_scaler = pickle.load(fs.open(path_s3 + 'recency_days_scaler.pkl', 'rb'))\n",
    "df43['recency_days'] = recency_days_scaler.transform(df43[['recency_days']])\n",
    "\n",
    "qty_invoices_scaler = pickle.load(fs.open(path_s3 + 'qty_invoices_scaler.pkl', 'rb'))\n",
    "df43['qty_invoices'] = qty_invoices_scaler.transform(df43[['qty_invoices']])\n",
    "\n",
    "qty_items_scaler = pickle.load(fs.open(path_s3 + 'qty_items_scaler.pkl', 'rb'))\n",
    "df43['qty_items'] = qty_items_scaler.transform(df43[['qty_items']])\n",
    "\n",
    "frequency_scaler = pickle.load(fs.open(path_s3 + 'frequency_scaler.pkl', 'rb'))\n",
    "df43['frequency'] = frequency_scaler.transform(df43[['frequency']])\n",
    "\n",
    "qty_returns_scaler = pickle.load(fs.open(path_s3 + 'qty_returns_scaler.pkl', 'rb'))\n",
    "df43['qty_returns'] = qty_returns_scaler.transform(df43[['qty_returns']])"
   ]
  },
  {
   "cell_type": "markdown",
   "id": "e463c35d",
   "metadata": {},
   "source": [
    "### 4.3.4 Tree-Based Embedding"
   ]
  },
  {
   "cell_type": "code",
   "execution_count": 28,
   "id": "15fe3083",
   "metadata": {
    "ExecuteTime": {
     "end_time": "2023-02-16T22:25:04.333797Z",
     "start_time": "2023-02-16T22:23:39.984677Z"
    }
   },
   "outputs": [],
   "source": [
    "# Decision Tree doesn't require Scalers\n",
    "X = df43.drop(columns=['customer_id', 'gross_revenue'], axis=1)\n",
    "\n",
    "# Defining Gross Revenue as target\n",
    "y = df43['gross_revenue']\n",
    "\n",
    "# Model definition\n",
    "rf_model = pickle.load(fs.open(path_s3 + 'rf_model.pkl', 'rb'))\n",
    "\n",
    "# Leafs\n",
    "df_leaf = pd.DataFrame(rf_model.apply(X))"
   ]
  },
  {
   "cell_type": "code",
   "execution_count": 29,
   "id": "ee734f1a",
   "metadata": {
    "ExecuteTime": {
     "end_time": "2023-02-16T22:25:53.472657Z",
     "start_time": "2023-02-16T22:25:07.855540Z"
    }
   },
   "outputs": [],
   "source": [
    "# with UMAP\n",
    "reducer = pickle.load(fs.open(path_s3 + 'umap_reducer.pkl', 'rb'))\n",
    "\n",
    "embedding = reducer.transform(df_leaf)\n",
    "\n",
    "# Embedding\n",
    "df_tree = pd.DataFrame()\n",
    "df_tree['embedding_x'] = embedding[:, 0]\n",
    "df_tree['embedding_y'] = embedding[:, 1]"
   ]
  },
  {
   "cell_type": "markdown",
   "id": "1d44b10b",
   "metadata": {},
   "source": [
    "# 8.0 MODEL TRAINING"
   ]
  },
  {
   "cell_type": "code",
   "execution_count": 31,
   "id": "33e6ed62",
   "metadata": {
    "ExecuteTime": {
     "end_time": "2023-02-16T22:26:32.811416Z",
     "start_time": "2023-02-16T22:26:32.806048Z"
    }
   },
   "outputs": [],
   "source": [
    "# embedded dataset\n",
    "df8 = df_tree.copy()"
   ]
  },
  {
   "cell_type": "markdown",
   "id": "ec83b734",
   "metadata": {},
   "source": [
    "## 8.1 K-Means"
   ]
  },
  {
   "cell_type": "code",
   "execution_count": 32,
   "id": "96b3eb7b",
   "metadata": {
    "ExecuteTime": {
     "end_time": "2023-02-16T22:26:36.586431Z",
     "start_time": "2023-02-16T22:26:35.448487Z"
    },
    "hide_input": false
   },
   "outputs": [],
   "source": [
    "# Model definition\n",
    "kmeans = pickle.load(fs.open(path_s3 + 'kmeans_model.pkl', 'rb'))\n",
    "\n",
    "# Model training\n",
    "kmeans.predict(df8)\n",
    "\n",
    "# Clustering\n",
    "labels = kmeans.labels_"
   ]
  },
  {
   "cell_type": "markdown",
   "id": "b8988097",
   "metadata": {},
   "source": [
    "## 8.2 Cluster Validation"
   ]
  },
  {
   "cell_type": "code",
   "execution_count": 45,
   "id": "5acaf0b8",
   "metadata": {
    "ExecuteTime": {
     "end_time": "2023-02-16T23:03:05.461218Z",
     "start_time": "2023-02-16T23:03:03.865268Z"
    },
    "hide_input": false
   },
   "outputs": [
    {
     "name": "stdout",
     "output_type": "stream",
     "text": [
      "WSS value: 33372.0703125\n",
      "Silhouette Score: 0.585281252861023\n"
     ]
    }
   ],
   "source": [
    "# WSS (Within-Cluster Sum of Squares)\n",
    "print(f'WSS value: {kmeans.inertia_}')\n",
    "\n",
    "# SS (Silhouette Score)\n",
    "print('Silhouette Score: {}'.format(m.silhouette_score(df8, labels, metric='euclidean')))"
   ]
  },
  {
   "cell_type": "markdown",
   "id": "e9f435f6",
   "metadata": {
    "hide_input": false
   },
   "source": [
    "# 9.0 CLUSTER ANALYSIS"
   ]
  },
  {
   "cell_type": "code",
   "execution_count": 46,
   "id": "30887f02",
   "metadata": {
    "ExecuteTime": {
     "end_time": "2023-02-16T23:03:06.702722Z",
     "start_time": "2023-02-16T23:03:06.694423Z"
    }
   },
   "outputs": [],
   "source": [
    "df9 = df_ref[cols_selected].dropna().copy()\n",
    "df9['cluster'] = labels"
   ]
  },
  {
   "cell_type": "markdown",
   "id": "efad2670",
   "metadata": {},
   "source": [
    "# 10.0 DEPLOY TO PRODUCTION"
   ]
  },
  {
   "cell_type": "code",
   "execution_count": 48,
   "id": "260eb516",
   "metadata": {
    "ExecuteTime": {
     "end_time": "2023-02-16T23:03:15.378555Z",
     "start_time": "2023-02-16T23:03:15.330581Z"
    }
   },
   "outputs": [
    {
     "data": {
      "text/html": [
       "<div>\n",
       "<style scoped>\n",
       "    .dataframe tbody tr th:only-of-type {\n",
       "        vertical-align: middle;\n",
       "    }\n",
       "\n",
       "    .dataframe tbody tr th {\n",
       "        vertical-align: top;\n",
       "    }\n",
       "\n",
       "    .dataframe thead th {\n",
       "        text-align: right;\n",
       "    }\n",
       "</style>\n",
       "<table border=\"1\" class=\"dataframe\">\n",
       "  <thead>\n",
       "    <tr style=\"text-align: right;\">\n",
       "      <th></th>\n",
       "      <th>customer_id</th>\n",
       "      <th>gross_revenue</th>\n",
       "      <th>qty_invoices</th>\n",
       "      <th>recency_days</th>\n",
       "      <th>qty_items</th>\n",
       "      <th>frequency</th>\n",
       "      <th>qty_returns</th>\n",
       "      <th>cluster</th>\n",
       "      <th>cluster_name</th>\n",
       "    </tr>\n",
       "  </thead>\n",
       "  <tbody>\n",
       "    <tr>\n",
       "      <th>0</th>\n",
       "      <td>17850</td>\n",
       "      <td>5391.21</td>\n",
       "      <td>34.0</td>\n",
       "      <td>372.0</td>\n",
       "      <td>1733.0</td>\n",
       "      <td>17.000000</td>\n",
       "      <td>40.0</td>\n",
       "      <td>7</td>\n",
       "      <td>Leais</td>\n",
       "    </tr>\n",
       "    <tr>\n",
       "      <th>1</th>\n",
       "      <td>13047</td>\n",
       "      <td>3232.59</td>\n",
       "      <td>9.0</td>\n",
       "      <td>56.0</td>\n",
       "      <td>1390.0</td>\n",
       "      <td>0.028302</td>\n",
       "      <td>35.0</td>\n",
       "      <td>7</td>\n",
       "      <td>Leais</td>\n",
       "    </tr>\n",
       "    <tr>\n",
       "      <th>2</th>\n",
       "      <td>12583</td>\n",
       "      <td>6705.38</td>\n",
       "      <td>15.0</td>\n",
       "      <td>2.0</td>\n",
       "      <td>5028.0</td>\n",
       "      <td>0.040323</td>\n",
       "      <td>50.0</td>\n",
       "      <td>2</td>\n",
       "      <td>Insiders</td>\n",
       "    </tr>\n",
       "    <tr>\n",
       "      <th>3</th>\n",
       "      <td>13748</td>\n",
       "      <td>948.25</td>\n",
       "      <td>5.0</td>\n",
       "      <td>95.0</td>\n",
       "      <td>439.0</td>\n",
       "      <td>0.017921</td>\n",
       "      <td>0.0</td>\n",
       "      <td>8</td>\n",
       "      <td>Novos</td>\n",
       "    </tr>\n",
       "    <tr>\n",
       "      <th>4</th>\n",
       "      <td>15100</td>\n",
       "      <td>876.00</td>\n",
       "      <td>3.0</td>\n",
       "      <td>333.0</td>\n",
       "      <td>80.0</td>\n",
       "      <td>0.073171</td>\n",
       "      <td>22.0</td>\n",
       "      <td>6</td>\n",
       "      <td>Prestes a perder</td>\n",
       "    </tr>\n",
       "  </tbody>\n",
       "</table>\n",
       "</div>"
      ],
      "text/plain": [
       "   customer_id  gross_revenue  qty_invoices  recency_days  qty_items  \\\n",
       "0        17850        5391.21          34.0         372.0     1733.0   \n",
       "1        13047        3232.59           9.0          56.0     1390.0   \n",
       "2        12583        6705.38          15.0           2.0     5028.0   \n",
       "3        13748         948.25           5.0          95.0      439.0   \n",
       "4        15100         876.00           3.0         333.0       80.0   \n",
       "\n",
       "   frequency  qty_returns  cluster      cluster_name  \n",
       "0  17.000000         40.0        7             Leais  \n",
       "1   0.028302         35.0        7             Leais  \n",
       "2   0.040323         50.0        2          Insiders  \n",
       "3   0.017921          0.0        8             Novos  \n",
       "4   0.073171         22.0        6  Prestes a perder  "
      ]
     },
     "execution_count": 48,
     "metadata": {},
     "output_type": "execute_result"
    }
   ],
   "source": [
    "# Label for each cluster\n",
    "df9['cluster_name'] = df9['cluster'].apply(lambda x: 'Insiders' if x == 2 \n",
    "                                                    else 'Leais' if x == 7\n",
    "                                                    else 'Potenciais' if x == 0\n",
    "                                                    else 'Novos' if x == 8\n",
    "                                                    else 'Acompanhar' if x == 3\n",
    "                                                    else 'Promissor' if x == 5\n",
    "                                                    else 'Prestes a perder' if x == 6\n",
    "                                                    else 'Perdendo' if x == 4\n",
    "                                                    else 'Hibernando')\n",
    "df9.head()"
   ]
  },
  {
   "cell_type": "markdown",
   "id": "d3e48bd2",
   "metadata": {},
   "source": [
    "## 11.1 Insert into Postgres"
   ]
  },
  {
   "cell_type": "code",
   "execution_count": 53,
   "id": "bf15d791",
   "metadata": {
    "ExecuteTime": {
     "end_time": "2023-02-16T23:20:42.822108Z",
     "start_time": "2023-02-16T23:20:37.767313Z"
    }
   },
   "outputs": [],
   "source": [
    "# database connection\n",
    "\n",
    "POSTGRES_PWD = os.getenv(\"POSTGRES_PWD\")\n",
    "\n",
    "endpoint = 'postgresql://matheus:' + POSTGRES_PWD + '@database-insiders.czzhco95lj75.us-east-1.rds.amazonaws.com:5432/postgres'\n",
    "\n",
    "engine = create_engine(endpoint)\n",
    "\n",
    "# Inserting data to database\n",
    "with engine.connect() as connection:\n",
    "    df9.to_sql('insiders', con=connection, if_exists='append', index=False)"
   ]
  },
  {
   "cell_type": "code",
   "execution_count": null,
   "id": "1011ba40",
   "metadata": {},
   "outputs": [],
   "source": []
  }
 ],
 "metadata": {
  "kernelspec": {
   "display_name": "Python 3 (ipykernel)",
   "language": "python",
   "name": "python3"
  },
  "language_info": {
   "codemirror_mode": {
    "name": "ipython",
    "version": 3
   },
   "file_extension": ".py",
   "mimetype": "text/x-python",
   "name": "python",
   "nbconvert_exporter": "python",
   "pygments_lexer": "ipython3",
   "version": "3.8.12"
  }
 },
 "nbformat": 4,
 "nbformat_minor": 5
}
