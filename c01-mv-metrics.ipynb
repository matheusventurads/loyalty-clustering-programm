{
 "cells": [
  {
   "cell_type": "markdown",
   "id": "92fd61b8",
   "metadata": {},
   "source": [
    "# High Value Customer Identification (Insiders)"
   ]
  },
  {
   "cell_type": "markdown",
   "id": "424a5f41",
   "metadata": {},
   "source": [
    "# 0.0 Planejamento da Solução (IOT)"
   ]
  },
  {
   "cell_type": "markdown",
   "id": "9ededdd9",
   "metadata": {
    "heading_collapsed": true
   },
   "source": [
    "## Input (Entrada)"
   ]
  },
  {
   "cell_type": "markdown",
   "id": "5979c1e1",
   "metadata": {
    "hidden": true
   },
   "source": [
    "**1. Problema de Negócio**\n",
    "* Selecionar os clientes mais valiosos para integrar um programa de fidelização.\n",
    "\n",
    "**2. Conjunto de Dados**\n",
    "* Vendas de um e-commerce online, durante o período de um ano."
   ]
  },
  {
   "cell_type": "markdown",
   "id": "dc15d9a8",
   "metadata": {
    "heading_collapsed": true
   },
   "source": [
    "## Output (Saída)"
   ]
  },
  {
   "cell_type": "markdown",
   "id": "49251da5",
   "metadata": {
    "hidden": true
   },
   "source": [
    "**1. A indicação das pessoas que farão parte do programa de fidelização**\n",
    "* Lista: com client_id | is_insider\n",
    "\n",
    "**2. Relatório com as respostas para as perguntas de negócio**\n",
    "* Quem são as pessoas elegíveis para participar do programa de Insiders?\n",
    "* Quantos clientes farão parte do grupo?\n",
    "* Quais as principais características desses clientes?\n",
    "* Qual a porcentagem de contribuição do faturamento, vida dos Insiders?\n",
    "* Qual a expectativa de faturamento desse grupo para os próximos meses?\n",
    "* Quais as condições para uma pessoa ser elegível ao Insiders?\n",
    "* Quais as condições para uma pessoa ser removida dos Insiders?\n",
    "* Qual a garantia que o programa Insiders é melhor que o restante da base?\n",
    "* Quais ações o time de Marketing pode tomar para aumentar o faturamento?"
   ]
  },
  {
   "cell_type": "markdown",
   "id": "4b0b03ca",
   "metadata": {
    "heading_collapsed": true
   },
   "source": [
    "## Tasks (Tarefas)"
   ]
  },
  {
   "cell_type": "markdown",
   "id": "9a83c733",
   "metadata": {
    "ExecuteTime": {
     "end_time": "2023-01-01T00:41:38.508942Z",
     "start_time": "2023-01-01T00:41:38.479654Z"
    },
    "hidden": true
   },
   "source": [
    "**1. Quem são as pessoas elegíveis para participar do programa de Insiders?**\n",
    "\n",
    "O que é ser elegível?\n",
    "\n",
    "O que são clientes de maior \"valor\"?\n",
    "- Faturamento\n",
    "    * Alto ticket médio\n",
    "    * Alto LTV (LifeTime Value)\n",
    "    * Baixa Recência\n",
    "    * Alto Basket size\n",
    "    * Baixa probabilidade de Churn\n",
    "    * Previsão de LTV\n",
    "    * Alta propensão de compra\n",
    "- Custo\n",
    "    * Baixa taxa de devolução\n",
    "- Experiência de compra\n",
    "    * Média alta das avaliações\n",
    "\n",
    "**2. Quantos clientes farão parte do grupo?**\n",
    "- Número total de clientes\n",
    "- % do grupo Insiders\n",
    "\n",
    "**3. Quais as principais características desses clientes?**\n",
    "\n",
    "* Escrever características dos clientes\n",
    "    - Idade\n",
    "    - Localização\n",
    "* Escrever características do hábito de consumo\n",
    "* Atributos da clusterização\n",
    "\n",
    "**4. Qual a porcentagem de contribuição do faturamento, vida dos Insiders?**\n",
    "\n",
    "* Faturamento total do ano\n",
    "* Faturamento do grupo Insiders\n",
    "\n",
    "**5. Qual a expectativa de faturamento desse grupo para os próximos meses?**\n",
    "\n",
    "* LTV do grupo Insiders\n",
    "* Análise de Cohort\n",
    "\n",
    "**6. Quais as condições para uma pessoa ser elegível ao Insiders?**\n",
    "\n",
    "* Definir a periodicidade\n",
    "* A pesso precisa ser disimilar com uma pessoa do grupo\n",
    "\n",
    "**7. Quais as condições para uma pessoa ser removida dos Insiders?**\n",
    "\n",
    "* Definir a periodicidade\n",
    "* A pesso precisa ser similar/parecida com uma pessoa do grupo\n",
    "\n",
    "**8. Qual a garantia que o programa Insiders é melhor que o restante da base?**\n",
    "* Teste A/B\n",
    "* Teste A/B Bayesiano\n",
    "* Teste de Hipóteses\n",
    "\n",
    "**9. Quais ações o time de Marketing pode tomar para aumentar o faturamento?**\n",
    "* Desconto\n",
    "* Preferência de compra\n",
    "* Frete\n",
    "* Visita a empresa"
   ]
  },
  {
   "cell_type": "markdown",
   "id": "ce3841d4",
   "metadata": {
    "heading_collapsed": true
   },
   "source": [
    "## Benchamarking de soluções"
   ]
  },
  {
   "cell_type": "markdown",
   "id": "db82f91b",
   "metadata": {
    "hidden": true
   },
   "source": [
    "### 1. Desk Research"
   ]
  },
  {
   "cell_type": "markdown",
   "id": "4c569d00",
   "metadata": {
    "ExecuteTime": {
     "end_time": "2023-01-01T00:52:00.284281Z",
     "start_time": "2023-01-01T00:52:00.277074Z"
    },
    "hidden": true
   },
   "source": [
    "**RFM Model**\n",
    "\n",
    "_Recency_\n",
    "* Tempo desde a última compra\n",
    "* Responsividade\n",
    "\n",
    "_Frequency_\n",
    "* Tempo médio entre as transações\n",
    "* Engajamento\n",
    "\n",
    "_Monetary_\n",
    "* Total gasto, faturamento\n",
    "* \"High-Value Purchases\"\n",
    "\n",
    "Modelo muito tradicional para empresas que tem CRM (Customer Relationship Management)"
   ]
  },
  {
   "cell_type": "markdown",
   "id": "97c4c34f",
   "metadata": {},
   "source": [
    "## 0.1 Imports"
   ]
  },
  {
   "cell_type": "code",
   "execution_count": 4,
   "id": "30ca7ed8",
   "metadata": {
    "ExecuteTime": {
     "end_time": "2023-01-03T13:46:40.615479Z",
     "start_time": "2023-01-03T13:46:39.769742Z"
    }
   },
   "outputs": [],
   "source": [
    "import pandas  as pd\n",
    "import numpy   as np\n",
    "import seaborn as sns\n",
    "\n",
    "from matplotlib      import pyplot as plt\n",
    "from IPython.display import HTML"
   ]
  },
  {
   "cell_type": "markdown",
   "id": "036bc4bb",
   "metadata": {},
   "source": [
    "## 0.2 Helper Functions"
   ]
  },
  {
   "cell_type": "code",
   "execution_count": 5,
   "id": "37969e88",
   "metadata": {
    "ExecuteTime": {
     "end_time": "2023-01-03T13:46:49.581060Z",
     "start_time": "2023-01-03T13:46:49.568186Z"
    }
   },
   "outputs": [],
   "source": [
    "def jupyter_settings():\n",
    "    %matplotlib inline\n",
    "    %pylab inline\n",
    "    \n",
    "    plt.style.use( 'bmh' )\n",
    "    plt.rcParams['figure.figsize'] = [25, 12]\n",
    "    plt.rcParams['font.size'] = 24\n",
    "    \n",
    "    display( HTML( '<style>.container { width:100% !important; }</style>') )\n",
    "    pd.options.display.max_columns = None\n",
    "    pd.options.display.max_rows = None\n",
    "    pd.set_option( 'display.expand_frame_repr', False )\n",
    "    \n",
    "    sns.set()"
   ]
  },
  {
   "cell_type": "code",
   "execution_count": 7,
   "id": "86b0d49e",
   "metadata": {
    "ExecuteTime": {
     "end_time": "2023-01-03T13:46:57.441917Z",
     "start_time": "2023-01-03T13:46:57.418626Z"
    }
   },
   "outputs": [
    {
     "name": "stdout",
     "output_type": "stream",
     "text": [
      "%pylab is deprecated, use %matplotlib inline and import the required libraries.\n",
      "Populating the interactive namespace from numpy and matplotlib\n"
     ]
    },
    {
     "data": {
      "text/html": [
       "<style>.container { width:100% !important; }</style>"
      ],
      "text/plain": [
       "<IPython.core.display.HTML object>"
      ]
     },
     "metadata": {},
     "output_type": "display_data"
    }
   ],
   "source": [
    "jupyter_settings()"
   ]
  },
  {
   "cell_type": "markdown",
   "id": "fecb3197",
   "metadata": {},
   "source": [
    "## 0.2 Load Dataset"
   ]
  },
  {
   "cell_type": "code",
   "execution_count": 14,
   "id": "e7d07b6e",
   "metadata": {
    "ExecuteTime": {
     "end_time": "2023-01-03T14:02:09.076063Z",
     "start_time": "2023-01-03T14:02:08.194997Z"
    }
   },
   "outputs": [],
   "source": [
    "data_raw = pd.read_csv('data/raw/Ecommerce.csv', encoding='unicode_escape')"
   ]
  },
  {
   "cell_type": "code",
   "execution_count": 16,
   "id": "949ae0b6",
   "metadata": {
    "ExecuteTime": {
     "end_time": "2023-01-03T14:02:27.037549Z",
     "start_time": "2023-01-03T14:02:27.025624Z"
    }
   },
   "outputs": [
    {
     "data": {
      "text/plain": [
       "(541909, 9)"
      ]
     },
     "execution_count": 16,
     "metadata": {},
     "output_type": "execute_result"
    }
   ],
   "source": [
    "data_raw.shape"
   ]
  },
  {
   "cell_type": "markdown",
   "id": "3826b637",
   "metadata": {},
   "source": [
    "# 1.0 DESCRIÇÃO DOS DADOS"
   ]
  },
  {
   "cell_type": "markdown",
   "id": "a541bee7",
   "metadata": {},
   "source": [
    "# 2.0 FEATURE ENGINEERING"
   ]
  },
  {
   "cell_type": "markdown",
   "id": "b2628a9f",
   "metadata": {},
   "source": [
    "# 3.0 FILTRAGEM DAS VARIÁVEIS"
   ]
  },
  {
   "cell_type": "markdown",
   "id": "31bd5aa7",
   "metadata": {},
   "source": [
    "# 4.0 ANÁLISE EXPLORATÓRIA DOS DADOS (EDA)"
   ]
  },
  {
   "cell_type": "markdown",
   "id": "5300e76e",
   "metadata": {
    "ExecuteTime": {
     "end_time": "2023-01-03T13:37:26.887504Z",
     "start_time": "2023-01-03T13:37:26.882112Z"
    }
   },
   "source": [
    "# 5.0 DATA PREPARATION"
   ]
  },
  {
   "cell_type": "markdown",
   "id": "feb91a68",
   "metadata": {},
   "source": [
    "# 6.0 FEATURE SELECTION"
   ]
  },
  {
   "cell_type": "markdown",
   "id": "fc8cecf4",
   "metadata": {},
   "source": [
    "# 7.0 HYPERPARAMETER FINE-TUNNING "
   ]
  },
  {
   "cell_type": "markdown",
   "id": "1d44b10b",
   "metadata": {},
   "source": [
    "# 8.0 MODEL TRAINING"
   ]
  },
  {
   "cell_type": "markdown",
   "id": "e9f435f6",
   "metadata": {},
   "source": [
    "# 9.0 CLUSTER ANALYSIS"
   ]
  },
  {
   "cell_type": "markdown",
   "id": "efad2670",
   "metadata": {},
   "source": [
    "# 10.0 DEPLOY TO PRODUCTION"
   ]
  },
  {
   "cell_type": "code",
   "execution_count": null,
   "id": "8e10ceb6",
   "metadata": {},
   "outputs": [],
   "source": []
  }
 ],
 "metadata": {
  "kernelspec": {
   "display_name": "Python 3 (ipykernel)",
   "language": "python",
   "name": "python3"
  },
  "language_info": {
   "codemirror_mode": {
    "name": "ipython",
    "version": 3
   },
   "file_extension": ".py",
   "mimetype": "text/x-python",
   "name": "python",
   "nbconvert_exporter": "python",
   "pygments_lexer": "ipython3",
   "version": "3.8.12"
  }
 },
 "nbformat": 4,
 "nbformat_minor": 5
}
