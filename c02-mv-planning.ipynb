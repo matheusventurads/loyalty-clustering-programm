{
 "cells": [
  {
   "cell_type": "markdown",
   "id": "92fd61b8",
   "metadata": {},
   "source": [
    "# High Value Customer Identification (Insiders)"
   ]
  },
  {
   "cell_type": "markdown",
   "id": "424a5f41",
   "metadata": {},
   "source": [
    "# 0.0 Planejamento da Solução (IOT)"
   ]
  },
  {
   "cell_type": "markdown",
   "id": "9ededdd9",
   "metadata": {},
   "source": [
    "## Input (Entrada)"
   ]
  },
  {
   "cell_type": "markdown",
   "id": "5979c1e1",
   "metadata": {},
   "source": [
    "**1. Problema de Negócio**\n",
    "* Selecionar os clientes mais valiosos para integrar um programa de fidelização.\n",
    "\n",
    "**2. Conjunto de Dados**\n",
    "* Vendas de um e-commerce online, durante o período de um ano."
   ]
  },
  {
   "cell_type": "markdown",
   "id": "dc15d9a8",
   "metadata": {},
   "source": [
    "## Output (Saída)"
   ]
  },
  {
   "cell_type": "markdown",
   "id": "49251da5",
   "metadata": {},
   "source": [
    "**1. A indicação das pessoas que farão parte do programa de fidelização**\n",
    "* Lista: com client_id | is_insider\n",
    "\n",
    "**2. Relatório com as respostas para as perguntas de negócio**\n",
    "* Quem são as pessoas elegíveis para participar do programa de Insiders?\n",
    "* Quantos clientes farão parte do grupo?\n",
    "* Quais as principais características desses clientes?\n",
    "* Qual a porcentagem de contribuição do faturamento, vida dos Insiders?\n",
    "* Qual a expectativa de faturamento desse grupo para os próximos meses?\n",
    "* Quais as condições para uma pessoa ser elegível ao Insiders?\n",
    "* Quais as condições para uma pessoa ser removida dos Insiders?\n",
    "* Qual a garantia que o programa Insiders é melhor que o restante da base?\n",
    "* Quais ações o time de Marketing pode tomar para aumentar o faturamento?"
   ]
  },
  {
   "cell_type": "markdown",
   "id": "4b0b03ca",
   "metadata": {},
   "source": [
    "## Tasks (Tarefas)"
   ]
  },
  {
   "cell_type": "markdown",
   "id": "9a83c733",
   "metadata": {
    "ExecuteTime": {
     "end_time": "2023-01-01T00:41:38.508942Z",
     "start_time": "2023-01-01T00:41:38.479654Z"
    }
   },
   "source": [
    "**1. Quem são as pessoas elegíveis para participar do programa de Insiders?**\n",
    "\n",
    "O que é ser elegível?\n",
    "\n",
    "O que são clientes de maior \"valor\"?\n",
    "- Faturamento\n",
    "    * Alto ticket médio\n",
    "    * Alto LTV (LifeTime Value)\n",
    "    * Baixa Recência\n",
    "    * Alto Basket size\n",
    "    * Baixa probabilidade de Churn\n",
    "    * Previsão de LTV\n",
    "    * Alta propensão de compra\n",
    "- Custo\n",
    "    * Baixa taxa de devolução\n",
    "- Experiência de compra\n",
    "    * Média alta das avaliações\n",
    "\n",
    "**2. Quantos clientes farão parte do grupo?**\n",
    "- Número total de clientes\n",
    "- % do grupo Insiders\n",
    "\n",
    "**3. Quais as principais características desses clientes?**\n",
    "\n",
    "* Escrever características dos clientes\n",
    "    - Idade\n",
    "    - Localização\n",
    "* Escrever características do hábito de consumo\n",
    "* Atributos da clusterização\n",
    "\n",
    "**4. Qual a porcentagem de contribuição do faturamento, vida dos Insiders?**\n",
    "\n",
    "* Faturamento total do ano\n",
    "* Faturamento do grupo Insiders\n",
    "\n",
    "**5. Qual a expectativa de faturamento desse grupo para os próximos meses?**\n",
    "\n",
    "* LTV do grupo Insiders\n",
    "* Análise de Cohort\n",
    "\n",
    "**6. Quais as condições para uma pessoa ser elegível ao Insiders?**\n",
    "\n",
    "* Definir a periodicidade\n",
    "* A pesso precisa ser disimilar com uma pessoa do grupo\n",
    "\n",
    "**7. Quais as condições para uma pessoa ser removida dos Insiders?**\n",
    "\n",
    "* Definir a periodicidade\n",
    "* A pesso precisa ser similar/parecida com uma pessoa do grupo\n",
    "\n",
    "**8. Qual a garantia que o programa Insiders é melhor que o restante da base?**\n",
    "* Teste A/B\n",
    "* Teste A/B Bayesiano\n",
    "* Teste de Hipóteses\n",
    "\n",
    "**9. Quais ações o time de Marketing pode tomar para aumentar o faturamento?**\n",
    "* Desconto\n",
    "* Preferência de compra\n",
    "* Frete\n",
    "* Visita a empresa"
   ]
  },
  {
   "cell_type": "markdown",
   "id": "ce3841d4",
   "metadata": {},
   "source": [
    "## Benchamarking de soluções"
   ]
  },
  {
   "cell_type": "markdown",
   "id": "db82f91b",
   "metadata": {},
   "source": [
    "### 1. Desk Research"
   ]
  },
  {
   "cell_type": "markdown",
   "id": "4c569d00",
   "metadata": {
    "ExecuteTime": {
     "end_time": "2023-01-01T00:52:00.284281Z",
     "start_time": "2023-01-01T00:52:00.277074Z"
    }
   },
   "source": [
    "**RFM Model**\n",
    "\n",
    "_Recency_\n",
    "* Tempo desde a última compra\n",
    "* Responsividade\n",
    "\n",
    "_Frequency_\n",
    "* Tempo médio entre as transações\n",
    "* Engajamento\n",
    "\n",
    "_Monetary_\n",
    "* Total gasto, faturamento\n",
    "* \"High-Value Purchases\"\n",
    "\n",
    "Modelo muito tradicional para empresas que tem CRM (Customer Relationship Management)"
   ]
  },
  {
   "cell_type": "code",
   "execution_count": null,
   "id": "d631f3c3",
   "metadata": {},
   "outputs": [],
   "source": []
  }
 ],
 "metadata": {
  "kernelspec": {
   "display_name": "Python 3 (ipykernel)",
   "language": "python",
   "name": "python3"
  },
  "language_info": {
   "codemirror_mode": {
    "name": "ipython",
    "version": 3
   },
   "file_extension": ".py",
   "mimetype": "text/x-python",
   "name": "python",
   "nbconvert_exporter": "python",
   "pygments_lexer": "ipython3",
   "version": "3.8.12"
  }
 },
 "nbformat": 4,
 "nbformat_minor": 5
}
