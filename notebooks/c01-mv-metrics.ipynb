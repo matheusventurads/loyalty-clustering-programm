{
 "cells": [
  {
   "cell_type": "markdown",
   "id": "92fd61b8",
   "metadata": {},
   "source": [
    "# High Value Customer Identification (Insiders)"
   ]
  },
  {
   "cell_type": "markdown",
   "id": "424a5f41",
   "metadata": {
    "heading_collapsed": true
   },
   "source": [
    "# 0.0 Planejamento da Solução (IOT)"
   ]
  },
  {
   "cell_type": "markdown",
   "id": "9ededdd9",
   "metadata": {
    "heading_collapsed": true,
    "hidden": true
   },
   "source": [
    "## Input (Entrada)"
   ]
  },
  {
   "cell_type": "markdown",
   "id": "5979c1e1",
   "metadata": {
    "hidden": true
   },
   "source": [
    "**1. Problema de Negócio**\n",
    "* Selecionar os clientes mais valiosos para integrar um programa de fidelização.\n",
    "\n",
    "**2. Conjunto de Dados**\n",
    "* Vendas de um e-commerce online, durante o período de um ano (Nov 2015 - Dez 2017)"
   ]
  },
  {
   "cell_type": "markdown",
   "id": "dc15d9a8",
   "metadata": {
    "heading_collapsed": true,
    "hidden": true
   },
   "source": [
    "## Output (Saída)"
   ]
  },
  {
   "cell_type": "markdown",
   "id": "49251da5",
   "metadata": {
    "hidden": true
   },
   "source": [
    "**1. A indicação das pessoas que farão parte do programa de fidelização**\n",
    "* Lista: com client_id | is_insider\n",
    "\n",
    "**2. Relatório com as respostas para as perguntas de negócio**\n",
    "* Quem são as pessoas elegíveis para participar do programa de Insiders?\n",
    "* Quantos clientes farão parte do grupo?\n",
    "* Quais as principais características desses clientes?\n",
    "* Qual a porcentagem de contribuição do faturamento, vida dos Insiders?\n",
    "* Qual a expectativa de faturamento desse grupo para os próximos meses?\n",
    "* Quais as condições para uma pessoa ser elegível ao Insiders?\n",
    "* Quais as condições para uma pessoa ser removida dos Insiders?\n",
    "* Qual a garantia que o programa Insiders é melhor que o restante da base?\n",
    "* Quais ações o time de Marketing pode tomar para aumentar o faturamento?"
   ]
  },
  {
   "cell_type": "markdown",
   "id": "4b0b03ca",
   "metadata": {
    "heading_collapsed": true,
    "hidden": true
   },
   "source": [
    "## Tasks (Tarefas)"
   ]
  },
  {
   "cell_type": "markdown",
   "id": "9a83c733",
   "metadata": {
    "ExecuteTime": {
     "end_time": "2023-01-01T00:41:38.508942Z",
     "start_time": "2023-01-01T00:41:38.479654Z"
    },
    "hidden": true
   },
   "source": [
    "**1. Quem são as pessoas elegíveis para participar do programa de Insiders?**\n",
    "\n",
    "O que é ser elegível?\n",
    "\n",
    "O que são clientes de maior \"valor\"?\n",
    "- Faturamento\n",
    "    * Alto ticket médio\n",
    "    * Alto LTV (LifeTime Value)\n",
    "    * Baixa Recência\n",
    "    * Alto Basket size\n",
    "    * Baixa probabilidade de Churn\n",
    "    * Previsão de LTV\n",
    "    * Alta propensão de compra\n",
    "- Custo\n",
    "    * Baixa taxa de devolução\n",
    "- Experiência de compra\n",
    "    * Média alta das avaliações\n",
    "\n",
    "**2. Quantos clientes farão parte do grupo?**\n",
    "- Número total de clientes\n",
    "- % do grupo Insiders\n",
    "\n",
    "**3. Quais as principais características desses clientes?**\n",
    "\n",
    "* Escrever características dos clientes\n",
    "    - Idade\n",
    "    - Localização\n",
    "* Escrever características do hábito de consumo\n",
    "* Atributos da clusterização\n",
    "\n",
    "**4. Qual a porcentagem de contribuição do faturamento, vida dos Insiders?**\n",
    "\n",
    "* Faturamento total do ano\n",
    "* Faturamento do grupo Insiders\n",
    "\n",
    "**5. Qual a expectativa de faturamento desse grupo para os próximos meses?**\n",
    "\n",
    "* LTV do grupo Insiders\n",
    "* Análise de Cohort\n",
    "\n",
    "**6. Quais as condições para uma pessoa ser elegível ao Insiders?**\n",
    "\n",
    "* Definir a periodicidade\n",
    "* A pesso precisa ser disimilar com uma pessoa do grupo\n",
    "\n",
    "**7. Quais as condições para uma pessoa ser removida dos Insiders?**\n",
    "\n",
    "* Definir a periodicidade\n",
    "* A pesso precisa ser similar/parecida com uma pessoa do grupo\n",
    "\n",
    "**8. Qual a garantia que o programa Insiders é melhor que o restante da base?**\n",
    "* Teste A/B\n",
    "* Teste A/B Bayesiano\n",
    "* Teste de Hipóteses\n",
    "\n",
    "**9. Quais ações o time de Marketing pode tomar para aumentar o faturamento?**\n",
    "* Desconto\n",
    "* Preferência de compra\n",
    "* Frete\n",
    "* Visita a empresa"
   ]
  },
  {
   "cell_type": "markdown",
   "id": "ce3841d4",
   "metadata": {
    "heading_collapsed": true,
    "hidden": true
   },
   "source": [
    "## Benchamarking de soluções"
   ]
  },
  {
   "cell_type": "markdown",
   "id": "db82f91b",
   "metadata": {
    "hidden": true
   },
   "source": [
    "### 1. Desk Research"
   ]
  },
  {
   "cell_type": "markdown",
   "id": "4c569d00",
   "metadata": {
    "ExecuteTime": {
     "end_time": "2023-01-01T00:52:00.284281Z",
     "start_time": "2023-01-01T00:52:00.277074Z"
    },
    "hidden": true
   },
   "source": [
    "**RFM Model**\n",
    "\n",
    "_Recency_\n",
    "* Tempo desde a última compra\n",
    "* Responsividade\n",
    "\n",
    "_Frequency_\n",
    "* Tempo médio entre as transações\n",
    "* Engajamento\n",
    "\n",
    "_Monetary_\n",
    "* Total gasto, faturamento\n",
    "* \"High-Value Purchases\"\n",
    "\n",
    "Modelo muito tradicional para empresas que tem CRM (Customer Relationship Management)"
   ]
  },
  {
   "cell_type": "markdown",
   "id": "97c4c34f",
   "metadata": {},
   "source": [
    "# 0.0 Imports"
   ]
  },
  {
   "cell_type": "code",
   "execution_count": 39,
   "id": "30ca7ed8",
   "metadata": {
    "ExecuteTime": {
     "end_time": "2023-01-04T13:03:34.167522Z",
     "start_time": "2023-01-04T13:03:34.090707Z"
    }
   },
   "outputs": [],
   "source": [
    "import pandas  as pd\n",
    "import numpy   as np\n",
    "import seaborn as sns\n",
    "\n",
    "from matplotlib          import pyplot as plt\n",
    "from IPython.display     import HTML\n",
    "from yellowbrick.cluster import KElbowVisualizer\n",
    "\n",
    "from sklearn import cluster as c"
   ]
  },
  {
   "cell_type": "markdown",
   "id": "036bc4bb",
   "metadata": {},
   "source": [
    "## 0.1 Helper Functions"
   ]
  },
  {
   "cell_type": "code",
   "execution_count": 2,
   "id": "37969e88",
   "metadata": {
    "ExecuteTime": {
     "end_time": "2023-01-04T12:22:39.595684Z",
     "start_time": "2023-01-04T12:22:39.584075Z"
    }
   },
   "outputs": [],
   "source": [
    "def jupyter_settings():\n",
    "    %matplotlib inline\n",
    "    %pylab inline\n",
    "    \n",
    "    plt.style.use( 'bmh' )\n",
    "    plt.rcParams['figure.figsize'] = [25, 12]\n",
    "    plt.rcParams['font.size'] = 24\n",
    "    \n",
    "    display( HTML( '<style>.container { width:100% !important; }</style>') )\n",
    "    pd.options.display.max_columns = None\n",
    "    #pd.options.display.max_rows = None\n",
    "    pd.set_option( 'display.expand_frame_repr', False )\n",
    "    \n",
    "    sns.set()"
   ]
  },
  {
   "cell_type": "code",
   "execution_count": 23,
   "id": "86b0d49e",
   "metadata": {
    "ExecuteTime": {
     "end_time": "2023-01-04T12:35:27.913074Z",
     "start_time": "2023-01-04T12:35:27.883822Z"
    }
   },
   "outputs": [
    {
     "name": "stdout",
     "output_type": "stream",
     "text": [
      "%pylab is deprecated, use %matplotlib inline and import the required libraries.\n",
      "Populating the interactive namespace from numpy and matplotlib\n"
     ]
    },
    {
     "data": {
      "text/html": [
       "<style>.container { width:100% !important; }</style>"
      ],
      "text/plain": [
       "<IPython.core.display.HTML object>"
      ]
     },
     "metadata": {},
     "output_type": "display_data"
    }
   ],
   "source": [
    "jupyter_settings()"
   ]
  },
  {
   "cell_type": "markdown",
   "id": "fecb3197",
   "metadata": {},
   "source": [
    "## 0.2 Load Dataset"
   ]
  },
  {
   "cell_type": "code",
   "execution_count": 4,
   "id": "e7d07b6e",
   "metadata": {
    "ExecuteTime": {
     "end_time": "2023-01-04T12:22:45.799677Z",
     "start_time": "2023-01-04T12:22:44.828179Z"
    }
   },
   "outputs": [],
   "source": [
    "data_raw = pd.read_csv('../data/raw/Ecommerce.csv', encoding='unicode_escape')\n",
    "data_raw = data_raw.drop(columns=['Unnamed: 8'])"
   ]
  },
  {
   "cell_type": "code",
   "execution_count": 6,
   "id": "949ae0b6",
   "metadata": {
    "ExecuteTime": {
     "end_time": "2023-01-04T12:23:04.561656Z",
     "start_time": "2023-01-04T12:23:04.540740Z"
    }
   },
   "outputs": [
    {
     "data": {
      "text/html": [
       "<div>\n",
       "<style scoped>\n",
       "    .dataframe tbody tr th:only-of-type {\n",
       "        vertical-align: middle;\n",
       "    }\n",
       "\n",
       "    .dataframe tbody tr th {\n",
       "        vertical-align: top;\n",
       "    }\n",
       "\n",
       "    .dataframe thead th {\n",
       "        text-align: right;\n",
       "    }\n",
       "</style>\n",
       "<table border=\"1\" class=\"dataframe\">\n",
       "  <thead>\n",
       "    <tr style=\"text-align: right;\">\n",
       "      <th></th>\n",
       "      <th>InvoiceNo</th>\n",
       "      <th>StockCode</th>\n",
       "      <th>Description</th>\n",
       "      <th>Quantity</th>\n",
       "      <th>InvoiceDate</th>\n",
       "      <th>UnitPrice</th>\n",
       "      <th>CustomerID</th>\n",
       "      <th>Country</th>\n",
       "    </tr>\n",
       "  </thead>\n",
       "  <tbody>\n",
       "    <tr>\n",
       "      <th>0</th>\n",
       "      <td>536365</td>\n",
       "      <td>85123A</td>\n",
       "      <td>WHITE HANGING HEART T-LIGHT HOLDER</td>\n",
       "      <td>6</td>\n",
       "      <td>29-Nov-16</td>\n",
       "      <td>2.55</td>\n",
       "      <td>17850.0</td>\n",
       "      <td>United Kingdom</td>\n",
       "    </tr>\n",
       "    <tr>\n",
       "      <th>1</th>\n",
       "      <td>536365</td>\n",
       "      <td>71053</td>\n",
       "      <td>WHITE METAL LANTERN</td>\n",
       "      <td>6</td>\n",
       "      <td>29-Nov-16</td>\n",
       "      <td>3.39</td>\n",
       "      <td>17850.0</td>\n",
       "      <td>United Kingdom</td>\n",
       "    </tr>\n",
       "    <tr>\n",
       "      <th>2</th>\n",
       "      <td>536365</td>\n",
       "      <td>84406B</td>\n",
       "      <td>CREAM CUPID HEARTS COAT HANGER</td>\n",
       "      <td>8</td>\n",
       "      <td>29-Nov-16</td>\n",
       "      <td>2.75</td>\n",
       "      <td>17850.0</td>\n",
       "      <td>United Kingdom</td>\n",
       "    </tr>\n",
       "    <tr>\n",
       "      <th>3</th>\n",
       "      <td>536365</td>\n",
       "      <td>84029G</td>\n",
       "      <td>KNITTED UNION FLAG HOT WATER BOTTLE</td>\n",
       "      <td>6</td>\n",
       "      <td>29-Nov-16</td>\n",
       "      <td>3.39</td>\n",
       "      <td>17850.0</td>\n",
       "      <td>United Kingdom</td>\n",
       "    </tr>\n",
       "    <tr>\n",
       "      <th>4</th>\n",
       "      <td>536365</td>\n",
       "      <td>84029E</td>\n",
       "      <td>RED WOOLLY HOTTIE WHITE HEART.</td>\n",
       "      <td>6</td>\n",
       "      <td>29-Nov-16</td>\n",
       "      <td>3.39</td>\n",
       "      <td>17850.0</td>\n",
       "      <td>United Kingdom</td>\n",
       "    </tr>\n",
       "  </tbody>\n",
       "</table>\n",
       "</div>"
      ],
      "text/plain": [
       "  InvoiceNo StockCode                          Description  Quantity InvoiceDate  UnitPrice  CustomerID         Country\n",
       "0    536365    85123A   WHITE HANGING HEART T-LIGHT HOLDER         6   29-Nov-16       2.55     17850.0  United Kingdom\n",
       "1    536365     71053                  WHITE METAL LANTERN         6   29-Nov-16       3.39     17850.0  United Kingdom\n",
       "2    536365    84406B       CREAM CUPID HEARTS COAT HANGER         8   29-Nov-16       2.75     17850.0  United Kingdom\n",
       "3    536365    84029G  KNITTED UNION FLAG HOT WATER BOTTLE         6   29-Nov-16       3.39     17850.0  United Kingdom\n",
       "4    536365    84029E       RED WOOLLY HOTTIE WHITE HEART.         6   29-Nov-16       3.39     17850.0  United Kingdom"
      ]
     },
     "execution_count": 6,
     "metadata": {},
     "output_type": "execute_result"
    }
   ],
   "source": [
    "data_raw.head()"
   ]
  },
  {
   "cell_type": "markdown",
   "id": "3826b637",
   "metadata": {
    "heading_collapsed": true
   },
   "source": [
    "# 1.0 DESCRIÇÃO DOS DADOS"
   ]
  },
  {
   "cell_type": "code",
   "execution_count": 7,
   "id": "27e7b44e",
   "metadata": {
    "ExecuteTime": {
     "end_time": "2023-01-04T12:23:07.299273Z",
     "start_time": "2023-01-04T12:23:07.295781Z"
    },
    "hidden": true
   },
   "outputs": [],
   "source": [
    "df1 = data_raw"
   ]
  },
  {
   "cell_type": "markdown",
   "id": "c9b1a3d4",
   "metadata": {
    "hidden": true
   },
   "source": [
    "## 1.1 Rename columns"
   ]
  },
  {
   "cell_type": "code",
   "execution_count": 8,
   "id": "80d87104",
   "metadata": {
    "ExecuteTime": {
     "end_time": "2023-01-04T12:23:08.561330Z",
     "start_time": "2023-01-04T12:23:08.551421Z"
    },
    "hidden": true
   },
   "outputs": [],
   "source": [
    "# Columns names in snake case\n",
    "cols_new = ['invoice_no', 'stock_code', 'description', 'quantity', \n",
    "            'invoice_date', 'unit_price', 'customer_id', 'country']\n",
    "\n",
    "# Renaming columns\n",
    "df1.columns = cols_new"
   ]
  },
  {
   "cell_type": "markdown",
   "id": "5d3f3d6e",
   "metadata": {
    "hidden": true
   },
   "source": [
    "## 1.2 Data dimensions"
   ]
  },
  {
   "cell_type": "code",
   "execution_count": 9,
   "id": "25a93ccc",
   "metadata": {
    "ExecuteTime": {
     "end_time": "2023-01-04T12:23:11.475496Z",
     "start_time": "2023-01-04T12:23:11.470768Z"
    },
    "hidden": true
   },
   "outputs": [
    {
     "name": "stdout",
     "output_type": "stream",
     "text": [
      "Number of lines: 541909\n",
      "Number of columns: 8\n"
     ]
    }
   ],
   "source": [
    "# Information about shape\n",
    "print(f'Number of lines: {df1.shape[0]}')\n",
    "print(f'Number of columns: {df1.shape[1]}')"
   ]
  },
  {
   "cell_type": "markdown",
   "id": "803731e3",
   "metadata": {
    "ExecuteTime": {
     "end_time": "2023-01-04T11:52:34.428845Z",
     "start_time": "2023-01-04T11:52:34.425354Z"
    },
    "hidden": true
   },
   "source": [
    "## 1.3 Data types"
   ]
  },
  {
   "cell_type": "code",
   "execution_count": 10,
   "id": "a9f88350",
   "metadata": {
    "ExecuteTime": {
     "end_time": "2023-01-04T12:23:15.151884Z",
     "start_time": "2023-01-04T12:23:15.144088Z"
    },
    "hidden": true
   },
   "outputs": [
    {
     "data": {
      "text/plain": [
       "invoice_no       object\n",
       "stock_code       object\n",
       "description      object\n",
       "quantity          int64\n",
       "invoice_date     object\n",
       "unit_price      float64\n",
       "customer_id     float64\n",
       "country          object\n",
       "dtype: object"
      ]
     },
     "execution_count": 10,
     "metadata": {},
     "output_type": "execute_result"
    }
   ],
   "source": [
    "df1.dtypes"
   ]
  },
  {
   "cell_type": "markdown",
   "id": "6b68d321",
   "metadata": {
    "hidden": true
   },
   "source": [
    "## 1.4 Check NA"
   ]
  },
  {
   "cell_type": "code",
   "execution_count": 11,
   "id": "c5e83522",
   "metadata": {
    "ExecuteTime": {
     "end_time": "2023-01-04T12:23:18.405854Z",
     "start_time": "2023-01-04T12:23:17.864098Z"
    },
    "hidden": true
   },
   "outputs": [
    {
     "data": {
      "text/plain": [
       "invoice_no           0\n",
       "stock_code           0\n",
       "description       1454\n",
       "quantity             0\n",
       "invoice_date         0\n",
       "unit_price           0\n",
       "customer_id     135080\n",
       "country              0\n",
       "dtype: int64"
      ]
     },
     "execution_count": 11,
     "metadata": {},
     "output_type": "execute_result"
    }
   ],
   "source": [
    "# Sum of null values\n",
    "df1.isna().sum()"
   ]
  },
  {
   "cell_type": "markdown",
   "id": "c44fdca4",
   "metadata": {
    "hidden": true
   },
   "source": [
    "## 1.5 Replace NA"
   ]
  },
  {
   "cell_type": "code",
   "execution_count": 12,
   "id": "9266d8ce",
   "metadata": {
    "ExecuteTime": {
     "end_time": "2023-01-04T12:23:21.560005Z",
     "start_time": "2023-01-04T12:23:21.343107Z"
    },
    "hidden": true
   },
   "outputs": [
    {
     "name": "stdout",
     "output_type": "stream",
     "text": [
      "Removed data: 0.25\n"
     ]
    }
   ],
   "source": [
    "# Removing null values for initial analysis\n",
    "df1 = df1.dropna(subset=['description', 'customer_id'])\n",
    "print(f'Removed data: {1-(df1.shape[0]/data_raw.shape[0]):.2f}')"
   ]
  },
  {
   "cell_type": "markdown",
   "id": "fd1b7aac",
   "metadata": {
    "hidden": true
   },
   "source": [
    "## 1.6 Change dtypes"
   ]
  },
  {
   "cell_type": "code",
   "execution_count": 13,
   "id": "64c88b0e",
   "metadata": {
    "ExecuteTime": {
     "end_time": "2023-01-04T12:23:24.364324Z",
     "start_time": "2023-01-04T12:23:24.255838Z"
    },
    "hidden": true
   },
   "outputs": [
    {
     "name": "stderr",
     "output_type": "stream",
     "text": [
      "/tmp/ipykernel_21511/2300041256.py:2: SettingWithCopyWarning: \n",
      "A value is trying to be set on a copy of a slice from a DataFrame.\n",
      "Try using .loc[row_indexer,col_indexer] = value instead\n",
      "\n",
      "See the caveats in the documentation: https://pandas.pydata.org/pandas-docs/stable/user_guide/indexing.html#returning-a-view-versus-a-copy\n",
      "  df1['invoice_date'] = pd.to_datetime(df1['invoice_date'], format='%d-%b-%y')\n",
      "/tmp/ipykernel_21511/2300041256.py:5: SettingWithCopyWarning: \n",
      "A value is trying to be set on a copy of a slice from a DataFrame.\n",
      "Try using .loc[row_indexer,col_indexer] = value instead\n",
      "\n",
      "See the caveats in the documentation: https://pandas.pydata.org/pandas-docs/stable/user_guide/indexing.html#returning-a-view-versus-a-copy\n",
      "  df1['customer_id'] = df1['customer_id'].astype(int)\n"
     ]
    }
   ],
   "source": [
    "# Changing date time\n",
    "df1['invoice_date'] = pd.to_datetime(df1['invoice_date'], format='%d-%b-%y')\n",
    "\n",
    "# Changing customer id to integer\n",
    "df1['customer_id'] = df1['customer_id'].astype(int)"
   ]
  },
  {
   "cell_type": "markdown",
   "id": "f26653a6",
   "metadata": {
    "hidden": true
   },
   "source": [
    "## 1.7 Descripte Statistics"
   ]
  },
  {
   "cell_type": "markdown",
   "id": "158132ac",
   "metadata": {
    "hidden": true
   },
   "source": [
    "Skipped in initial analysis"
   ]
  },
  {
   "cell_type": "markdown",
   "id": "a541bee7",
   "metadata": {
    "heading_collapsed": true
   },
   "source": [
    "# 2.0 FEATURE ENGINEERING"
   ]
  },
  {
   "cell_type": "code",
   "execution_count": 30,
   "id": "01392f68",
   "metadata": {
    "ExecuteTime": {
     "end_time": "2023-01-04T12:51:26.326998Z",
     "start_time": "2023-01-04T12:51:26.306604Z"
    },
    "hidden": true
   },
   "outputs": [],
   "source": [
    "df2 = df1.copy()"
   ]
  },
  {
   "cell_type": "code",
   "execution_count": 31,
   "id": "a7cf0e4f",
   "metadata": {
    "ExecuteTime": {
     "end_time": "2023-01-04T12:51:28.402339Z",
     "start_time": "2023-01-04T12:51:28.228163Z"
    },
    "hidden": true
   },
   "outputs": [],
   "source": [
    "# Creating a dataframe with unique customer ids\n",
    "df_ref = pd.DataFrame({'customer_id': df2['customer_id']}).drop_duplicates(ignore_index=True)\n",
    "\n",
    "# Creating RFM features\n",
    "# Gross Revenue (quantity * unity price)\n",
    "df2['gross_revenue'] = df2['quantity']*df2['unit_price']\n",
    "\n",
    "# Monetary\n",
    "df_monetary = df2[['customer_id', 'gross_revenue']].groupby('customer_id').sum().reset_index()\n",
    "\n",
    "# Merging dataframes\n",
    "df_ref = pd.merge(df_ref, df_monetary, on='customer_id', how='left')\n",
    "\n",
    "# Recency - Last Day Purchase for each customer\n",
    "df_recency = df2[['customer_id', 'invoice_date']].groupby('customer_id').max().reset_index()\n",
    "\n",
    "# Calculating number of days since last purchase\n",
    "df_recency['recency_days'] = (df2['invoice_date'].max() - df_recency['invoice_date']).dt.days\n",
    "df_recency = df_recency[['customer_id', 'recency_days']]\n",
    "\n",
    "# Merging dataframes\n",
    "df_ref = pd.merge(df_ref, df_recency, on='customer_id', how='left')\n",
    "\n",
    "# Frequency\n",
    "# Creating dataframe with number of purchases for each customer\n",
    "df_freq = df2[['customer_id', 'invoice_no']].drop_duplicates().groupby('customer_id').count().reset_index()\n",
    "\n",
    "# Merging dataframes\n",
    "df_ref = pd.merge(df_ref, df_freq, on='customer_id', how='left')"
   ]
  },
  {
   "cell_type": "code",
   "execution_count": 32,
   "id": "7e6c91f9",
   "metadata": {
    "ExecuteTime": {
     "end_time": "2023-01-04T12:51:29.618383Z",
     "start_time": "2023-01-04T12:51:29.600736Z"
    },
    "hidden": true
   },
   "outputs": [
    {
     "data": {
      "text/html": [
       "<div>\n",
       "<style scoped>\n",
       "    .dataframe tbody tr th:only-of-type {\n",
       "        vertical-align: middle;\n",
       "    }\n",
       "\n",
       "    .dataframe tbody tr th {\n",
       "        vertical-align: top;\n",
       "    }\n",
       "\n",
       "    .dataframe thead th {\n",
       "        text-align: right;\n",
       "    }\n",
       "</style>\n",
       "<table border=\"1\" class=\"dataframe\">\n",
       "  <thead>\n",
       "    <tr style=\"text-align: right;\">\n",
       "      <th></th>\n",
       "      <th>customer_id</th>\n",
       "      <th>gross_revenue</th>\n",
       "      <th>recency_days</th>\n",
       "      <th>invoice_no</th>\n",
       "    </tr>\n",
       "  </thead>\n",
       "  <tbody>\n",
       "    <tr>\n",
       "      <th>0</th>\n",
       "      <td>17850</td>\n",
       "      <td>5288.63</td>\n",
       "      <td>302</td>\n",
       "      <td>35</td>\n",
       "    </tr>\n",
       "    <tr>\n",
       "      <th>1</th>\n",
       "      <td>13047</td>\n",
       "      <td>3079.10</td>\n",
       "      <td>31</td>\n",
       "      <td>18</td>\n",
       "    </tr>\n",
       "    <tr>\n",
       "      <th>2</th>\n",
       "      <td>12583</td>\n",
       "      <td>7187.34</td>\n",
       "      <td>2</td>\n",
       "      <td>18</td>\n",
       "    </tr>\n",
       "    <tr>\n",
       "      <th>3</th>\n",
       "      <td>13748</td>\n",
       "      <td>948.25</td>\n",
       "      <td>95</td>\n",
       "      <td>5</td>\n",
       "    </tr>\n",
       "    <tr>\n",
       "      <th>4</th>\n",
       "      <td>15100</td>\n",
       "      <td>635.10</td>\n",
       "      <td>330</td>\n",
       "      <td>6</td>\n",
       "    </tr>\n",
       "  </tbody>\n",
       "</table>\n",
       "</div>"
      ],
      "text/plain": [
       "   customer_id  gross_revenue  recency_days  invoice_no\n",
       "0        17850        5288.63           302          35\n",
       "1        13047        3079.10            31          18\n",
       "2        12583        7187.34             2          18\n",
       "3        13748         948.25            95           5\n",
       "4        15100         635.10           330           6"
      ]
     },
     "execution_count": 32,
     "metadata": {},
     "output_type": "execute_result"
    }
   ],
   "source": [
    "df_ref.head()"
   ]
  },
  {
   "cell_type": "markdown",
   "id": "b2628a9f",
   "metadata": {
    "heading_collapsed": true
   },
   "source": [
    "# 3.0 FILTRAGEM DAS VARIÁVEIS"
   ]
  },
  {
   "cell_type": "markdown",
   "id": "f5522ba9",
   "metadata": {
    "hidden": true
   },
   "source": [
    "Skipped in initial analysis"
   ]
  },
  {
   "cell_type": "markdown",
   "id": "2a1277ef",
   "metadata": {
    "hidden": true
   },
   "source": [
    "Skipped in initial analysis"
   ]
  },
  {
   "cell_type": "markdown",
   "id": "31bd5aa7",
   "metadata": {
    "heading_collapsed": true
   },
   "source": [
    "# 4.0 ANÁLISE EXPLORATÓRIA DOS DADOS (EDA)"
   ]
  },
  {
   "cell_type": "markdown",
   "id": "0a4326cb",
   "metadata": {
    "hidden": true
   },
   "source": [
    "Skipped in initial analysis"
   ]
  },
  {
   "cell_type": "markdown",
   "id": "5300e76e",
   "metadata": {
    "ExecuteTime": {
     "end_time": "2023-01-03T13:37:26.887504Z",
     "start_time": "2023-01-03T13:37:26.882112Z"
    },
    "heading_collapsed": true
   },
   "source": [
    "# 5.0 DATA PREPARATION"
   ]
  },
  {
   "cell_type": "markdown",
   "id": "6d4d7622",
   "metadata": {
    "hidden": true
   },
   "source": [
    "Skipped in initial analysis"
   ]
  },
  {
   "cell_type": "markdown",
   "id": "feb91a68",
   "metadata": {
    "heading_collapsed": true
   },
   "source": [
    "# 6.0 FEATURE SELECTION"
   ]
  },
  {
   "cell_type": "markdown",
   "id": "e70a5089",
   "metadata": {
    "hidden": true
   },
   "source": [
    "Skipped in initial analysis"
   ]
  },
  {
   "cell_type": "markdown",
   "id": "fc8cecf4",
   "metadata": {},
   "source": [
    "# 7.0 HYPERPARAMETER FINE-TUNNING "
   ]
  },
  {
   "cell_type": "code",
   "execution_count": 33,
   "id": "cf725d61",
   "metadata": {
    "ExecuteTime": {
     "end_time": "2023-01-04T12:51:38.561711Z",
     "start_time": "2023-01-04T12:51:38.549648Z"
    }
   },
   "outputs": [],
   "source": [
    "df7 = df_ref.drop(columns=['customer_id'])"
   ]
  },
  {
   "cell_type": "code",
   "execution_count": 34,
   "id": "18eb6c2c",
   "metadata": {
    "ExecuteTime": {
     "end_time": "2023-01-04T12:51:40.523079Z",
     "start_time": "2023-01-04T12:51:40.511297Z"
    }
   },
   "outputs": [],
   "source": [
    "clusters = [2, 3, 4, 5, 6]"
   ]
  },
  {
   "cell_type": "markdown",
   "id": "cc164d7e",
   "metadata": {},
   "source": [
    "## 7.1 Within-Cluster Sum of Square (WSS)"
   ]
  },
  {
   "cell_type": "code",
   "execution_count": 36,
   "id": "40717ae3",
   "metadata": {
    "ExecuteTime": {
     "end_time": "2023-01-04T12:51:56.917728Z",
     "start_time": "2023-01-04T12:51:55.818673Z"
    },
    "cell_style": "split",
    "hide_input": false,
    "scrolled": false
   },
   "outputs": [
    {
     "data": {
      "image/png": "[encoded data removed]",
      "text/plain": [
       "<Figure size 2500x1200 with 1 Axes>"
      ]
     },
     "metadata": {},
     "output_type": "display_data"
    }
   ],
   "source": [
    "wss = []\n",
    "for k in clusters:\n",
    "    # Model definition\n",
    "    kmeans = c.KMeans(init='random', n_clusters=k, n_init=10, max_iter=300, random_state=42)\n",
    "    \n",
    "    # Model training\n",
    "    kmeans.fit(df7)\n",
    "    \n",
    "    # Validation\n",
    "    wss.append(kmeans.inertia_)\n",
    "    \n",
    "# Ploting wss\n",
    "plt.plot(clusters, wss, linestyle='--', marker='o', color='b')\n",
    "plt.xlabel('K')\n",
    "plt.ylabel('Within-Cluster Sum of Square')\n",
    "plt.title('WSS vs K');"
   ]
  },
  {
   "cell_type": "code",
   "execution_count": 41,
   "id": "ce25a121",
   "metadata": {
    "ExecuteTime": {
     "end_time": "2023-01-04T13:08:08.680173Z",
     "start_time": "2023-01-04T13:08:03.773304Z"
    },
    "cell_style": "split"
   },
   "outputs": [
    {
     "data": {
      "image/png": "[encoded data removed]",
      "text/plain": [
       "<Figure size 800x550 with 1 Axes>"
      ]
     },
     "metadata": {},
     "output_type": "display_data"
    },
    {
     "data": {
      "text/plain": [
       "<AxesSubplot: title={'center': 'Distortion Score Elbow for KMeans Clustering'}, xlabel='k', ylabel='distortion score'>"
      ]
     },
     "execution_count": 41,
     "metadata": {},
     "output_type": "execute_result"
    }
   ],
   "source": [
    "# Using Yellowbrick Visualizer\n",
    "# Model definition\n",
    "kmeans = KElbowVisualizer(c.KMeans(n_init=10), k=clusters, timings=False)\n",
    "\n",
    "# Model training\n",
    "kmeans.fit(df7)\n",
    "kmeans.show()"
   ]
  },
  {
   "cell_type": "markdown",
   "id": "e751935f",
   "metadata": {},
   "source": [
    "## 7.2 Silhouette Score"
   ]
  },
  {
   "cell_type": "code",
   "execution_count": 43,
   "id": "916bb127",
   "metadata": {
    "ExecuteTime": {
     "end_time": "2023-01-04T14:27:52.698443Z",
     "start_time": "2023-01-04T14:27:43.956253Z"
    }
   },
   "outputs": [
    {
     "data": {
      "image/png": "[encoded data removed]",
      "text/plain": [
       "<Figure size 800x550 with 1 Axes>"
      ]
     },
     "metadata": {},
     "output_type": "display_data"
    },
    {
     "data": {
      "text/plain": [
       "<AxesSubplot: title={'center': 'Silhouette Score Elbow for KMeans Clustering'}, xlabel='k', ylabel='silhouette score'>"
      ]
     },
     "execution_count": 43,
     "metadata": {},
     "output_type": "execute_result"
    }
   ],
   "source": [
    "# Using Yellowbrick Visualizer\n",
    "# Model definition\n",
    "kmeans = KElbowVisualizer(c.KMeans(n_init=10), metric='silhouette', k=clusters, timings=False)\n",
    "\n",
    "# Model training\n",
    "kmeans.fit(df7)\n",
    "kmeans.show()"
   ]
  },
  {
   "cell_type": "markdown",
   "id": "1d44b10b",
   "metadata": {},
   "source": [
    "# 8.0 MODEL TRAINING"
   ]
  },
  {
   "cell_type": "markdown",
   "id": "e9f435f6",
   "metadata": {},
   "source": [
    "# 9.0 CLUSTER ANALYSIS"
   ]
  },
  {
   "cell_type": "markdown",
   "id": "efad2670",
   "metadata": {},
   "source": [
    "# 10.0 DEPLOY TO PRODUCTION"
   ]
  },
  {
   "cell_type": "code",
   "execution_count": null,
   "id": "8e10ceb6",
   "metadata": {},
   "outputs": [],
   "source": []
  }
 ],
 "metadata": {
  "kernelspec": {
   "display_name": "Python 3 (ipykernel)",
   "language": "python",
   "name": "python3"
  },
  "language_info": {
   "codemirror_mode": {
    "name": "ipython",
    "version": 3
   },
   "file_extension": ".py",
   "mimetype": "text/x-python",
   "name": "python",
   "nbconvert_exporter": "python",
   "pygments_lexer": "ipython3",
   "version": "3.8.12"
  }
 },
 "nbformat": 4,
 "nbformat_minor": 5
}
