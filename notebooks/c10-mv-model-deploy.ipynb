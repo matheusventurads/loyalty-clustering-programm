{
 "cells": [
  {
   "cell_type": "markdown",
   "id": "92fd61b8",
   "metadata": {
    "heading_collapsed": true
   },
   "source": [
    "# High Value Customer Identification (Insiders)"
   ]
  },
  {
   "cell_type": "code",
   "execution_count": 38,
   "id": "30ca7ed8",
   "metadata": {
    "ExecuteTime": {
     "end_time": "2023-02-09T13:57:44.974054Z",
     "start_time": "2023-02-09T13:57:44.967349Z"
    },
    "hidden": true
   },
   "outputs": [],
   "source": [
    "import re\n",
    "import sqlite3\n",
    "import pandas     as pd\n",
    "import numpy      as np\n",
    "import seaborn    as sns\n",
    "\n",
    "from sqlalchemy import create_engine, text\n",
    "\n",
    "from sklearn    import cluster       as c\n",
    "from sklearn    import metrics       as m\n",
    "from matplotlib import pyplot        as plt\n",
    "from sklearn    import preprocessing as pp"
   ]
  },
  {
   "cell_type": "markdown",
   "id": "036bc4bb",
   "metadata": {
    "heading_collapsed": true,
    "hidden": true
   },
   "source": [
    "## 0.1 Helper Functions"
   ]
  },
  {
   "cell_type": "code",
   "execution_count": 39,
   "id": "37969e88",
   "metadata": {
    "ExecuteTime": {
     "end_time": "2023-02-09T13:57:45.026640Z",
     "start_time": "2023-02-09T13:57:44.979812Z"
    },
    "hidden": true
   },
   "outputs": [],
   "source": [
    "def descriptive_analysis(num_attributes):\n",
    "    # Tendência Central - média, mediana\n",
    "    ct1 = pd.DataFrame(num_attributes.apply(np.mean)).T\n",
    "    ct2 = pd.DataFrame(num_attributes.apply(np.median)).T\n",
    "\n",
    "    # Dispersão - std, min, max, range, skew, kurtosis\n",
    "    d1 = pd.DataFrame(num_attributes.apply(np.std)).T\n",
    "    d2 = pd.DataFrame(num_attributes.apply(min)).T\n",
    "    d3 = pd.DataFrame(num_attributes.apply(max)).T\n",
    "    d4 = pd.DataFrame(num_attributes.apply(lambda x: x.max() - x.min())).T\n",
    "    d5 = pd.DataFrame(num_attributes.apply(lambda x: x.skew())).T\n",
    "    d6 = pd.DataFrame(num_attributes.apply(lambda x: x.kurtosis())).T\n",
    "\n",
    "    # Concate\n",
    "    m = pd.concat([d2, d3, d4, ct1, ct2, d1, d5, d6]).T.reset_index()\n",
    "    m.columns = (['attributes', 'min', 'max', 'range', 'mean', 'median', 'std', 'skew', 'kurtosis'])\n",
    "    \n",
    "    return m"
   ]
  },
  {
   "cell_type": "markdown",
   "id": "fecb3197",
   "metadata": {
    "heading_collapsed": true,
    "hidden": true
   },
   "source": [
    "## 0.2 Load Dataset"
   ]
  },
  {
   "cell_type": "code",
   "execution_count": 79,
   "id": "e7d07b6e",
   "metadata": {
    "ExecuteTime": {
     "end_time": "2023-02-09T14:01:05.939170Z",
     "start_time": "2023-02-09T14:01:04.817347Z"
    },
    "hidden": true
   },
   "outputs": [],
   "source": [
    "patch = '/home/matheus/repos/loyalty-clustering-programm'\n",
    "\n",
    "data_raw = pd.read_csv(patch + '/data/raw/Ecommerce.csv', encoding='unicode_escape')\n",
    "data_raw = data_raw.drop(columns=['Unnamed: 8'])"
   ]
  },
  {
   "cell_type": "markdown",
   "id": "3826b637",
   "metadata": {
    "heading_collapsed": true
   },
   "source": [
    "# 1.0 DESCRIÇÃO DOS DADOS"
   ]
  },
  {
   "cell_type": "code",
   "execution_count": 41,
   "id": "27e7b44e",
   "metadata": {
    "ExecuteTime": {
     "end_time": "2023-02-09T13:57:46.127932Z",
     "start_time": "2023-02-09T13:57:46.100998Z"
    },
    "hidden": true
   },
   "outputs": [],
   "source": [
    "df1 = data_raw"
   ]
  },
  {
   "cell_type": "markdown",
   "id": "c9b1a3d4",
   "metadata": {
    "heading_collapsed": true,
    "hidden": true
   },
   "source": [
    "## 1.1 Rename columns"
   ]
  },
  {
   "cell_type": "code",
   "execution_count": 42,
   "id": "80d87104",
   "metadata": {
    "ExecuteTime": {
     "end_time": "2023-02-09T13:57:46.146703Z",
     "start_time": "2023-02-09T13:57:46.135317Z"
    },
    "hidden": true
   },
   "outputs": [],
   "source": [
    "# Columns names in snake case\n",
    "cols_new = ['invoice_no', 'stock_code', 'description', 'quantity', \n",
    "            'invoice_date', 'unit_price', 'customer_id', 'country']\n",
    "\n",
    "# Renaming columns\n",
    "df1.columns = cols_new"
   ]
  },
  {
   "cell_type": "markdown",
   "id": "5d3f3d6e",
   "metadata": {
    "heading_collapsed": true,
    "hidden": true
   },
   "source": [
    "## 1.2 Data dimensions"
   ]
  },
  {
   "cell_type": "code",
   "execution_count": 43,
   "id": "25a93ccc",
   "metadata": {
    "ExecuteTime": {
     "end_time": "2023-02-09T13:57:46.168056Z",
     "start_time": "2023-02-09T13:57:46.153968Z"
    },
    "hidden": true
   },
   "outputs": [
    {
     "name": "stdout",
     "output_type": "stream",
     "text": [
      "Number of lines: 541909\n",
      "Number of columns: 8\n"
     ]
    }
   ],
   "source": [
    "# Information about shape\n",
    "print(f'Number of lines: {df1.shape[0]}')\n",
    "print(f'Number of columns: {df1.shape[1]}')"
   ]
  },
  {
   "cell_type": "markdown",
   "id": "803731e3",
   "metadata": {
    "ExecuteTime": {
     "end_time": "2023-01-04T11:52:34.428845Z",
     "start_time": "2023-01-04T11:52:34.425354Z"
    },
    "heading_collapsed": true,
    "hidden": true
   },
   "source": [
    "## 1.3 Data types"
   ]
  },
  {
   "cell_type": "code",
   "execution_count": 44,
   "id": "a9f88350",
   "metadata": {
    "ExecuteTime": {
     "end_time": "2023-02-09T13:57:46.183778Z",
     "start_time": "2023-02-09T13:57:46.171915Z"
    },
    "hidden": true
   },
   "outputs": [
    {
     "data": {
      "text/plain": [
       "invoice_no       object\n",
       "stock_code       object\n",
       "description      object\n",
       "quantity          int64\n",
       "invoice_date     object\n",
       "unit_price      float64\n",
       "customer_id     float64\n",
       "country          object\n",
       "dtype: object"
      ]
     },
     "execution_count": 44,
     "metadata": {},
     "output_type": "execute_result"
    }
   ],
   "source": [
    "df1.dtypes"
   ]
  },
  {
   "cell_type": "markdown",
   "id": "6b68d321",
   "metadata": {
    "heading_collapsed": true,
    "hidden": true
   },
   "source": [
    "## 1.4 Check NA"
   ]
  },
  {
   "cell_type": "code",
   "execution_count": 45,
   "id": "c5e83522",
   "metadata": {
    "ExecuteTime": {
     "end_time": "2023-02-09T13:57:46.666702Z",
     "start_time": "2023-02-09T13:57:46.187223Z"
    },
    "hidden": true
   },
   "outputs": [
    {
     "data": {
      "text/plain": [
       "invoice_no           0\n",
       "stock_code           0\n",
       "description       1454\n",
       "quantity             0\n",
       "invoice_date         0\n",
       "unit_price           0\n",
       "customer_id     135080\n",
       "country              0\n",
       "dtype: int64"
      ]
     },
     "execution_count": 45,
     "metadata": {},
     "output_type": "execute_result"
    }
   ],
   "source": [
    "# Sum of null values\n",
    "df1.isna().sum()"
   ]
  },
  {
   "cell_type": "markdown",
   "id": "c44fdca4",
   "metadata": {
    "heading_collapsed": true,
    "hidden": true
   },
   "source": [
    "## 1.5 Replace NA"
   ]
  },
  {
   "cell_type": "code",
   "execution_count": 46,
   "id": "0542f735",
   "metadata": {
    "ExecuteTime": {
     "end_time": "2023-02-09T13:57:46.762643Z",
     "start_time": "2023-02-09T13:57:46.682252Z"
    },
    "hidden": true
   },
   "outputs": [],
   "source": [
    "# Separating null values for customer id\n",
    "df_missing = df1.loc[df1['customer_id'].isna(), :]\n",
    "df_not_missing = df1.loc[~df1['customer_id'].isna(), :]"
   ]
  },
  {
   "cell_type": "markdown",
   "id": "4539832d",
   "metadata": {
    "heading_collapsed": true,
    "hidden": true
   },
   "source": [
    "### Creating Customer ID"
   ]
  },
  {
   "cell_type": "code",
   "execution_count": 47,
   "id": "5f53888e",
   "metadata": {
    "ExecuteTime": {
     "end_time": "2023-02-09T13:57:47.549330Z",
     "start_time": "2023-02-09T13:57:46.765435Z"
    },
    "hidden": true
   },
   "outputs": [
    {
     "data": {
      "text/plain": [
       "invoice_no         0\n",
       "stock_code         0\n",
       "description     1454\n",
       "quantity           0\n",
       "invoice_date       0\n",
       "unit_price         0\n",
       "country            0\n",
       "customer_id        0\n",
       "dtype: int64"
      ]
     },
     "execution_count": 47,
     "metadata": {},
     "output_type": "execute_result"
    }
   ],
   "source": [
    "# Creating reference\n",
    "df_backup = pd.DataFrame(df_missing['invoice_no'].drop_duplicates())\n",
    "df_backup['customer_id'] = np.arange(19000, 19000+len(df_backup),1)\n",
    "\n",
    "# Merging dataframes\n",
    "df1 = pd.merge(df1, df_backup, on='invoice_no', how='left')\n",
    "\n",
    "# Coalesce\n",
    "df1['customer_id'] = df1['customer_id_x'].combine_first(df1['customer_id_y'])\n",
    "\n",
    "df1 = df1.drop(columns=['customer_id_x', 'customer_id_y'], axis=1)\n",
    "\n",
    "df1.isna().sum()"
   ]
  },
  {
   "cell_type": "markdown",
   "id": "fd1b7aac",
   "metadata": {
    "heading_collapsed": true,
    "hidden": true
   },
   "source": [
    "## 1.6 Change dtypes"
   ]
  },
  {
   "cell_type": "code",
   "execution_count": 48,
   "id": "64c88b0e",
   "metadata": {
    "ExecuteTime": {
     "end_time": "2023-02-09T13:57:47.648090Z",
     "start_time": "2023-02-09T13:57:47.554121Z"
    },
    "hidden": true
   },
   "outputs": [],
   "source": [
    "# Changing date time\n",
    "df1['invoice_date'] = pd.to_datetime(df1['invoice_date'], format='%d-%b-%y')\n",
    "\n",
    "# Changing customer id to integer\n",
    "df1['customer_id'] = df1['customer_id'].astype(int)"
   ]
  },
  {
   "cell_type": "markdown",
   "id": "f26653a6",
   "metadata": {
    "heading_collapsed": true,
    "hidden": true
   },
   "source": [
    "## 1.7 Descripte Statistics"
   ]
  },
  {
   "cell_type": "code",
   "execution_count": 49,
   "id": "b827def5",
   "metadata": {
    "ExecuteTime": {
     "end_time": "2023-02-09T13:57:47.740695Z",
     "start_time": "2023-02-09T13:57:47.651168Z"
    },
    "hidden": true
   },
   "outputs": [],
   "source": [
    "# Separating numerical and categorical attributes\n",
    "num_attributes = df1.select_dtypes(include=['int64', 'float64'])\n",
    "cat_attributes = df1.select_dtypes(exclude=['int64', 'float64', 'datetime64[ns]'])"
   ]
  },
  {
   "cell_type": "markdown",
   "id": "8b12cfb3",
   "metadata": {
    "heading_collapsed": true,
    "hidden": true
   },
   "source": [
    "### 1.7.1 Numerical Attributes"
   ]
  },
  {
   "cell_type": "code",
   "execution_count": 50,
   "id": "0d31a86b",
   "metadata": {
    "ExecuteTime": {
     "end_time": "2023-02-09T13:57:48.265515Z",
     "start_time": "2023-02-09T13:57:47.743486Z"
    },
    "hidden": true
   },
   "outputs": [
    {
     "data": {
      "text/html": [
       "<div>\n",
       "<style scoped>\n",
       "    .dataframe tbody tr th:only-of-type {\n",
       "        vertical-align: middle;\n",
       "    }\n",
       "\n",
       "    .dataframe tbody tr th {\n",
       "        vertical-align: top;\n",
       "    }\n",
       "\n",
       "    .dataframe thead th {\n",
       "        text-align: right;\n",
       "    }\n",
       "</style>\n",
       "<table border=\"1\" class=\"dataframe\">\n",
       "  <thead>\n",
       "    <tr style=\"text-align: right;\">\n",
       "      <th></th>\n",
       "      <th>attributes</th>\n",
       "      <th>min</th>\n",
       "      <th>max</th>\n",
       "      <th>range</th>\n",
       "      <th>mean</th>\n",
       "      <th>median</th>\n",
       "      <th>std</th>\n",
       "      <th>skew</th>\n",
       "      <th>kurtosis</th>\n",
       "    </tr>\n",
       "  </thead>\n",
       "  <tbody>\n",
       "    <tr>\n",
       "      <th>0</th>\n",
       "      <td>quantity</td>\n",
       "      <td>-80995.00</td>\n",
       "      <td>80995.0</td>\n",
       "      <td>161990.00</td>\n",
       "      <td>9.552250</td>\n",
       "      <td>3.00</td>\n",
       "      <td>218.080957</td>\n",
       "      <td>-0.264076</td>\n",
       "      <td>119769.160031</td>\n",
       "    </tr>\n",
       "    <tr>\n",
       "      <th>1</th>\n",
       "      <td>unit_price</td>\n",
       "      <td>-11062.06</td>\n",
       "      <td>38970.0</td>\n",
       "      <td>50032.06</td>\n",
       "      <td>4.611114</td>\n",
       "      <td>2.08</td>\n",
       "      <td>96.759764</td>\n",
       "      <td>186.506972</td>\n",
       "      <td>59005.719097</td>\n",
       "    </tr>\n",
       "    <tr>\n",
       "      <th>2</th>\n",
       "      <td>customer_id</td>\n",
       "      <td>12346.00</td>\n",
       "      <td>22709.0</td>\n",
       "      <td>10363.00</td>\n",
       "      <td>16688.840453</td>\n",
       "      <td>16249.00</td>\n",
       "      <td>2911.408666</td>\n",
       "      <td>0.487449</td>\n",
       "      <td>-0.804287</td>\n",
       "    </tr>\n",
       "  </tbody>\n",
       "</table>\n",
       "</div>"
      ],
      "text/plain": [
       "    attributes       min      max      range          mean    median  \\\n",
       "0     quantity -80995.00  80995.0  161990.00      9.552250      3.00   \n",
       "1   unit_price -11062.06  38970.0   50032.06      4.611114      2.08   \n",
       "2  customer_id  12346.00  22709.0   10363.00  16688.840453  16249.00   \n",
       "\n",
       "           std        skew       kurtosis  \n",
       "0   218.080957   -0.264076  119769.160031  \n",
       "1    96.759764  186.506972   59005.719097  \n",
       "2  2911.408666    0.487449      -0.804287  "
      ]
     },
     "execution_count": 50,
     "metadata": {},
     "output_type": "execute_result"
    }
   ],
   "source": [
    "descriptive_analysis(num_attributes)"
   ]
  },
  {
   "cell_type": "code",
   "execution_count": 51,
   "id": "f1fafc73",
   "metadata": {
    "ExecuteTime": {
     "end_time": "2023-02-09T13:57:48.316841Z",
     "start_time": "2023-02-09T13:57:48.271281Z"
    },
    "hidden": true
   },
   "outputs": [
    {
     "data": {
      "text/html": [
       "<div>\n",
       "<style scoped>\n",
       "    .dataframe tbody tr th:only-of-type {\n",
       "        vertical-align: middle;\n",
       "    }\n",
       "\n",
       "    .dataframe tbody tr th {\n",
       "        vertical-align: top;\n",
       "    }\n",
       "\n",
       "    .dataframe thead th {\n",
       "        text-align: right;\n",
       "    }\n",
       "</style>\n",
       "<table border=\"1\" class=\"dataframe\">\n",
       "  <thead>\n",
       "    <tr style=\"text-align: right;\">\n",
       "      <th></th>\n",
       "      <th>invoice_no</th>\n",
       "      <th>stock_code</th>\n",
       "      <th>description</th>\n",
       "      <th>country</th>\n",
       "    </tr>\n",
       "  </thead>\n",
       "  <tbody>\n",
       "    <tr>\n",
       "      <th>105984</th>\n",
       "      <td>545302</td>\n",
       "      <td>22283</td>\n",
       "      <td>6 EGG HOUSE PAINTED WOOD</td>\n",
       "      <td>United Kingdom</td>\n",
       "    </tr>\n",
       "    <tr>\n",
       "      <th>194342</th>\n",
       "      <td>553572</td>\n",
       "      <td>22414</td>\n",
       "      <td>DOORMAT NEIGHBOURHOOD WITCH</td>\n",
       "      <td>United Kingdom</td>\n",
       "    </tr>\n",
       "    <tr>\n",
       "      <th>391611</th>\n",
       "      <td>570672</td>\n",
       "      <td>85183B</td>\n",
       "      <td>CHARLIE &amp; LOLA WASTEPAPER BIN FLORA</td>\n",
       "      <td>France</td>\n",
       "    </tr>\n",
       "    <tr>\n",
       "      <th>31060</th>\n",
       "      <td>538890</td>\n",
       "      <td>21213</td>\n",
       "      <td>PACK OF 72 SKULL CAKE CASES</td>\n",
       "      <td>United Kingdom</td>\n",
       "    </tr>\n",
       "    <tr>\n",
       "      <th>115585</th>\n",
       "      <td>546136</td>\n",
       "      <td>21181</td>\n",
       "      <td>PLEASE ONE PERSON METAL SIGN</td>\n",
       "      <td>United Kingdom</td>\n",
       "    </tr>\n",
       "    <tr>\n",
       "      <th>290312</th>\n",
       "      <td>562373</td>\n",
       "      <td>22630</td>\n",
       "      <td>DOLLY GIRL LUNCH BOX</td>\n",
       "      <td>United Kingdom</td>\n",
       "    </tr>\n",
       "    <tr>\n",
       "      <th>158703</th>\n",
       "      <td>550310</td>\n",
       "      <td>20754</td>\n",
       "      <td>RETROSPOT RED WASHING UP GLOVES</td>\n",
       "      <td>United Kingdom</td>\n",
       "    </tr>\n",
       "    <tr>\n",
       "      <th>438144</th>\n",
       "      <td>574307</td>\n",
       "      <td>20749</td>\n",
       "      <td>ASSORTED COLOUR MINI CASES</td>\n",
       "      <td>United Kingdom</td>\n",
       "    </tr>\n",
       "    <tr>\n",
       "      <th>28517</th>\n",
       "      <td>538640</td>\n",
       "      <td>22082</td>\n",
       "      <td>RIBBON REEL STRIPES DESIGN</td>\n",
       "      <td>United Kingdom</td>\n",
       "    </tr>\n",
       "    <tr>\n",
       "      <th>222738</th>\n",
       "      <td>556459</td>\n",
       "      <td>21155</td>\n",
       "      <td>RED RETROSPOT PEG BAG</td>\n",
       "      <td>United Kingdom</td>\n",
       "    </tr>\n",
       "  </tbody>\n",
       "</table>\n",
       "</div>"
      ],
      "text/plain": [
       "       invoice_no stock_code                          description  \\\n",
       "105984     545302      22283             6 EGG HOUSE PAINTED WOOD   \n",
       "194342     553572      22414         DOORMAT NEIGHBOURHOOD WITCH    \n",
       "391611     570672     85183B  CHARLIE & LOLA WASTEPAPER BIN FLORA   \n",
       "31060      538890      21213          PACK OF 72 SKULL CAKE CASES   \n",
       "115585     546136      21181         PLEASE ONE PERSON METAL SIGN   \n",
       "290312     562373      22630                 DOLLY GIRL LUNCH BOX   \n",
       "158703     550310      20754      RETROSPOT RED WASHING UP GLOVES   \n",
       "438144     574307      20749           ASSORTED COLOUR MINI CASES   \n",
       "28517      538640      22082          RIBBON REEL STRIPES DESIGN    \n",
       "222738     556459      21155                RED RETROSPOT PEG BAG   \n",
       "\n",
       "               country  \n",
       "105984  United Kingdom  \n",
       "194342  United Kingdom  \n",
       "391611          France  \n",
       "31060   United Kingdom  \n",
       "115585  United Kingdom  \n",
       "290312  United Kingdom  \n",
       "158703  United Kingdom  \n",
       "438144  United Kingdom  \n",
       "28517   United Kingdom  \n",
       "222738  United Kingdom  "
      ]
     },
     "execution_count": 51,
     "metadata": {},
     "output_type": "execute_result"
    }
   ],
   "source": [
    "cat_attributes.sample(10)"
   ]
  },
  {
   "cell_type": "markdown",
   "id": "56587e05",
   "metadata": {
    "heading_collapsed": true,
    "hidden": true
   },
   "source": [
    "### Country"
   ]
  },
  {
   "cell_type": "code",
   "execution_count": 52,
   "id": "3aa433be",
   "metadata": {
    "ExecuteTime": {
     "end_time": "2023-02-09T13:57:48.400062Z",
     "start_time": "2023-02-09T13:57:48.321007Z"
    },
    "hidden": true
   },
   "outputs": [
    {
     "data": {
      "text/plain": [
       "array(['United Kingdom', 'France', 'Australia', 'Netherlands', 'Germany',\n",
       "       'Norway', 'EIRE', 'Switzerland', 'Spain', 'Poland', 'Portugal',\n",
       "       'Italy', 'Belgium', 'Lithuania', 'Japan', 'Iceland',\n",
       "       'Channel Islands', 'Denmark', 'Cyprus', 'Sweden', 'Austria',\n",
       "       'Israel', 'Finland', 'Bahrain', 'Greece', 'Hong Kong', 'Singapore',\n",
       "       'Lebanon', 'United Arab Emirates', 'Saudi Arabia',\n",
       "       'Czech Republic', 'Canada', 'Unspecified', 'Brazil', 'USA',\n",
       "       'European Community', 'Malta', 'RSA'], dtype=object)"
      ]
     },
     "execution_count": 52,
     "metadata": {},
     "output_type": "execute_result"
    }
   ],
   "source": [
    "cat_attributes['country'].unique()"
   ]
  },
  {
   "cell_type": "code",
   "execution_count": 53,
   "id": "ca0aa646",
   "metadata": {
    "ExecuteTime": {
     "end_time": "2023-02-09T13:57:48.558478Z",
     "start_time": "2023-02-09T13:57:48.410933Z"
    },
    "hidden": true
   },
   "outputs": [
    {
     "data": {
      "text/html": [
       "<div>\n",
       "<style scoped>\n",
       "    .dataframe tbody tr th:only-of-type {\n",
       "        vertical-align: middle;\n",
       "    }\n",
       "\n",
       "    .dataframe tbody tr th {\n",
       "        vertical-align: top;\n",
       "    }\n",
       "\n",
       "    .dataframe thead th {\n",
       "        text-align: right;\n",
       "    }\n",
       "</style>\n",
       "<table border=\"1\" class=\"dataframe\">\n",
       "  <thead>\n",
       "    <tr style=\"text-align: right;\">\n",
       "      <th></th>\n",
       "      <th>country</th>\n",
       "      <th>customer_id</th>\n",
       "    </tr>\n",
       "  </thead>\n",
       "  <tbody>\n",
       "    <tr>\n",
       "      <th>36</th>\n",
       "      <td>United Kingdom</td>\n",
       "      <td>7587</td>\n",
       "    </tr>\n",
       "    <tr>\n",
       "      <th>14</th>\n",
       "      <td>Germany</td>\n",
       "      <td>95</td>\n",
       "    </tr>\n",
       "    <tr>\n",
       "      <th>13</th>\n",
       "      <td>France</td>\n",
       "      <td>90</td>\n",
       "    </tr>\n",
       "    <tr>\n",
       "      <th>10</th>\n",
       "      <td>EIRE</td>\n",
       "      <td>44</td>\n",
       "    </tr>\n",
       "    <tr>\n",
       "      <th>31</th>\n",
       "      <td>Spain</td>\n",
       "      <td>31</td>\n",
       "    </tr>\n",
       "  </tbody>\n",
       "</table>\n",
       "</div>"
      ],
      "text/plain": [
       "           country  customer_id\n",
       "36  United Kingdom         7587\n",
       "14         Germany           95\n",
       "13          France           90\n",
       "10            EIRE           44\n",
       "31           Spain           31"
      ]
     },
     "execution_count": 53,
     "metadata": {},
     "output_type": "execute_result"
    }
   ],
   "source": [
    "df1[['customer_id', 'country']].drop_duplicates().groupby('country').count().reset_index().sort_values('customer_id', ascending=False).head()"
   ]
  },
  {
   "cell_type": "markdown",
   "id": "b2628a9f",
   "metadata": {
    "heading_collapsed": true
   },
   "source": [
    "# 2.0 FILTRAGEM DAS VARIÁVEIS"
   ]
  },
  {
   "cell_type": "code",
   "execution_count": 54,
   "id": "7379a26b",
   "metadata": {
    "ExecuteTime": {
     "end_time": "2023-02-09T13:57:48.583048Z",
     "start_time": "2023-02-09T13:57:48.562483Z"
    },
    "hidden": true
   },
   "outputs": [],
   "source": [
    "df2 = df1.copy()"
   ]
  },
  {
   "cell_type": "code",
   "execution_count": 55,
   "id": "676a965d",
   "metadata": {
    "ExecuteTime": {
     "end_time": "2023-02-09T13:57:48.896626Z",
     "start_time": "2023-02-09T13:57:48.587310Z"
    },
    "hidden": true
   },
   "outputs": [],
   "source": [
    "# unit_price\n",
    "df2 = df2[df2['unit_price'] > 0.04]\n",
    "\n",
    "# stock_code\n",
    "df2 = df2[~df2['stock_code'].isin(['POST', 'D', 'DOT', 'M', 'S', 'AMAZONFEE', 'm', 'DCGSSBOY',\n",
    "                                   'DCGSSGIRL', 'PADS', 'B', 'CRUK'])]\n",
    "\n",
    "# description\n",
    "df2 = df2.drop(columns='description', axis=1)\n",
    "\n",
    "# country\n",
    "df2 = df2[~df2['country'].isin(['European Community', 'Unspecified'])]\n",
    "\n",
    "# quantity\n",
    "df2_returns = df2[df2['quantity'] < 0]\n",
    "df2_purchases = df2[df2['quantity'] >= 0]\n",
    "\n",
    "# Removing bad users\n",
    "df2 = df2[~df2['customer_id'].isin([16446])]"
   ]
  },
  {
   "cell_type": "markdown",
   "id": "a541bee7",
   "metadata": {
    "heading_collapsed": true
   },
   "source": [
    "# 3.0 FEATURE ENGINEERING"
   ]
  },
  {
   "cell_type": "code",
   "execution_count": 56,
   "id": "01392f68",
   "metadata": {
    "ExecuteTime": {
     "end_time": "2023-02-09T13:57:48.925611Z",
     "start_time": "2023-02-09T13:57:48.899141Z"
    },
    "hidden": true
   },
   "outputs": [],
   "source": [
    "df3 = df2.copy()"
   ]
  },
  {
   "cell_type": "markdown",
   "id": "da3f590b",
   "metadata": {
    "ExecuteTime": {
     "end_time": "2023-01-09T15:02:42.152928Z",
     "start_time": "2023-01-09T15:02:42.115497Z"
    },
    "heading_collapsed": true,
    "hidden": true
   },
   "source": [
    "## 3.1 Feature Creation"
   ]
  },
  {
   "cell_type": "code",
   "execution_count": 57,
   "id": "b7657863",
   "metadata": {
    "ExecuteTime": {
     "end_time": "2023-02-09T13:57:48.975439Z",
     "start_time": "2023-02-09T13:57:48.929263Z"
    },
    "hidden": true
   },
   "outputs": [],
   "source": [
    "# Creating a dataframe with unique customer ids\n",
    "df_ref = pd.DataFrame({'customer_id': df3['customer_id']}).drop_duplicates(ignore_index=True)"
   ]
  },
  {
   "cell_type": "markdown",
   "id": "b097b77f",
   "metadata": {
    "heading_collapsed": true,
    "hidden": true
   },
   "source": [
    "### 3.1.1 Gross Revenue"
   ]
  },
  {
   "cell_type": "code",
   "execution_count": 58,
   "id": "bbd3a482",
   "metadata": {
    "ExecuteTime": {
     "end_time": "2023-02-09T13:57:49.043876Z",
     "start_time": "2023-02-09T13:57:48.978697Z"
    },
    "hidden": true
   },
   "outputs": [
    {
     "data": {
      "text/plain": [
       "customer_id       0\n",
       "gross_revenue    91\n",
       "dtype: int64"
      ]
     },
     "execution_count": 58,
     "metadata": {},
     "output_type": "execute_result"
    }
   ],
   "source": [
    "# Creating RFM features\n",
    "# Gross Revenue (quantity * unity price)\n",
    "df2_purchases['gross_revenue'] = df2_purchases['quantity']*df2_purchases['unit_price']\n",
    "\n",
    "# Monetary\n",
    "df_monetary = df2_purchases.loc[:, ['customer_id', 'gross_revenue']].groupby('customer_id').sum().reset_index()\n",
    "\n",
    "# Merging dataframes\n",
    "df_ref = pd.merge(df_ref, df_monetary, on='customer_id', how='left')\n",
    "df_ref.isna().sum()"
   ]
  },
  {
   "cell_type": "markdown",
   "id": "b1a32d91",
   "metadata": {
    "heading_collapsed": true,
    "hidden": true
   },
   "source": [
    "### 3.1.2 Recency - Day From Last Purchase"
   ]
  },
  {
   "cell_type": "code",
   "execution_count": 59,
   "id": "bb316513",
   "metadata": {
    "ExecuteTime": {
     "end_time": "2023-02-09T13:57:49.116058Z",
     "start_time": "2023-02-09T13:57:49.047402Z"
    },
    "hidden": true
   },
   "outputs": [
    {
     "data": {
      "text/plain": [
       "customer_id       0\n",
       "gross_revenue    91\n",
       "recency_days     91\n",
       "dtype: int64"
      ]
     },
     "execution_count": 59,
     "metadata": {},
     "output_type": "execute_result"
    }
   ],
   "source": [
    "# Recency - Last Day Purchase for each customer\n",
    "df_recency = df2_purchases[['customer_id', 'invoice_date']].groupby('customer_id').max().reset_index()\n",
    "\n",
    "# Calculating number of days since last purchase\n",
    "df_recency['recency_days'] = (df2_purchases['invoice_date'].max() - df_recency['invoice_date']).dt.days\n",
    "df_recency = df_recency[['customer_id', 'recency_days']]\n",
    "\n",
    "# Merging dataframes\n",
    "df_ref = pd.merge(df_ref, df_recency, on='customer_id', how='left')\n",
    "df_ref.isna().sum()"
   ]
  },
  {
   "cell_type": "markdown",
   "id": "6185ea10",
   "metadata": {
    "heading_collapsed": true,
    "hidden": true
   },
   "source": [
    "### 3.1.4 Quantity of Products Purchased"
   ]
  },
  {
   "cell_type": "code",
   "execution_count": 60,
   "id": "45528e3f",
   "metadata": {
    "ExecuteTime": {
     "end_time": "2023-02-09T13:57:49.311865Z",
     "start_time": "2023-02-09T13:57:49.120936Z"
    },
    "hidden": true
   },
   "outputs": [
    {
     "data": {
      "text/plain": [
       "customer_id       0\n",
       "gross_revenue    91\n",
       "recency_days     91\n",
       "qty_products     91\n",
       "dtype: int64"
      ]
     },
     "execution_count": 60,
     "metadata": {},
     "output_type": "execute_result"
    }
   ],
   "source": [
    "# Number of products purchased\n",
    "# Creating dataframe with number of purchases for each customer\n",
    "df_freq = df2_purchases[['customer_id',\n",
    "                         'stock_code']].groupby('customer_id').count().reset_index().rename(columns={'stock_code': 'qty_products'})\n",
    "\n",
    "# Merging dataframes\n",
    "df_ref = pd.merge(df_ref, df_freq, on='customer_id', how='left')\n",
    "df_ref.isna().sum()"
   ]
  },
  {
   "cell_type": "markdown",
   "id": "987f34c0",
   "metadata": {
    "heading_collapsed": true,
    "hidden": true
   },
   "source": [
    "### 3.1.8 Frequency"
   ]
  },
  {
   "cell_type": "code",
   "execution_count": 61,
   "id": "47a6b1bf",
   "metadata": {
    "ExecuteTime": {
     "end_time": "2023-02-09T13:57:51.086565Z",
     "start_time": "2023-02-09T13:57:49.328034Z"
    },
    "hidden": true
   },
   "outputs": [
    {
     "data": {
      "text/plain": [
       "customer_id       0\n",
       "gross_revenue    91\n",
       "recency_days     91\n",
       "qty_products     91\n",
       "frequency        91\n",
       "dtype: int64"
      ]
     },
     "execution_count": 61,
     "metadata": {},
     "output_type": "execute_result"
    }
   ],
   "source": [
    "# Aggregating max, min, number of days and number of purchases\n",
    "df_aux = df2_purchases[['customer_id',\n",
    "                        'invoice_no',\n",
    "                        'invoice_date']].drop_duplicates().groupby('customer_id').agg(max_ = ('invoice_date', 'max'),\n",
    "                                                                                      min_ = ('invoice_date', 'min'),\n",
    "                                                                                      days_ = ('invoice_date', \n",
    "                                                                                               lambda x: ((x.max() - x.min()).days)+1),\n",
    "                                                                                      buy_ = ('invoice_no', 'count')\n",
    "                                                                                      ).reset_index()\n",
    "\n",
    "# Frequency\n",
    "df_aux['frequency'] = df_aux[['buy_', 'days_']].apply(lambda x: (x['buy_']/x['days_'])\n",
    "                                                      if x['days_'] != 0 else 0, axis=1)\n",
    "\n",
    "# Merging\n",
    "df_ref = pd.merge(df_ref, df_aux[['customer_id', 'frequency']], on='customer_id', how='left')\n",
    "df_ref.isna().sum()"
   ]
  },
  {
   "cell_type": "markdown",
   "id": "a7af372b",
   "metadata": {
    "heading_collapsed": true,
    "hidden": true
   },
   "source": [
    "### 3.1.9 Number of Returns"
   ]
  },
  {
   "cell_type": "code",
   "execution_count": 62,
   "id": "07cc1376",
   "metadata": {
    "ExecuteTime": {
     "end_time": "2023-02-09T13:57:51.127545Z",
     "start_time": "2023-02-09T13:57:51.090574Z"
    },
    "hidden": true
   },
   "outputs": [
    {
     "data": {
      "text/plain": [
       "customer_id       0\n",
       "gross_revenue    91\n",
       "recency_days     91\n",
       "qty_products     91\n",
       "frequency        91\n",
       "qty_returns       0\n",
       "dtype: int64"
      ]
     },
     "execution_count": 62,
     "metadata": {},
     "output_type": "execute_result"
    }
   ],
   "source": [
    "# Number of Returns\n",
    "df_returns = df2_returns[['customer_id', 'quantity']].groupby('customer_id').sum().reset_index().rename(columns={'quantity': \n",
    "                                                                                                                 'qty_returns'})\n",
    "\n",
    "df_returns['qty_returns'] = df_returns['qty_returns']*-1\n",
    "\n",
    "# Merging dataframes\n",
    "df_ref = pd.merge(df_ref, df_returns, on='customer_id', how='left')\n",
    "df_ref.loc[df_ref['qty_returns'].isna(), 'qty_returns'] = 0\n",
    "df_ref.isna().sum()"
   ]
  },
  {
   "cell_type": "markdown",
   "id": "31bd5aa7",
   "metadata": {
    "heading_collapsed": true
   },
   "source": [
    "# 4.0 ANÁLISE EXPLORATÓRIA DOS DADOS (EDA)"
   ]
  },
  {
   "cell_type": "code",
   "execution_count": 63,
   "id": "a1fead84",
   "metadata": {
    "ExecuteTime": {
     "end_time": "2023-02-09T13:57:51.149764Z",
     "start_time": "2023-02-09T13:57:51.131234Z"
    },
    "hidden": true
   },
   "outputs": [],
   "source": [
    "df4 = df_ref.dropna().copy()"
   ]
  },
  {
   "cell_type": "markdown",
   "id": "5300e76e",
   "metadata": {
    "ExecuteTime": {
     "end_time": "2023-01-03T13:37:26.887504Z",
     "start_time": "2023-01-03T13:37:26.882112Z"
    },
    "heading_collapsed": true
   },
   "source": [
    "# 5.0 DATA PREPARATION"
   ]
  },
  {
   "cell_type": "code",
   "execution_count": 64,
   "id": "1ad3a518",
   "metadata": {
    "ExecuteTime": {
     "end_time": "2023-02-09T13:57:51.163621Z",
     "start_time": "2023-02-09T13:57:51.153792Z"
    },
    "hidden": true
   },
   "outputs": [],
   "source": [
    "cols_selected = ['customer_id', 'gross_revenue', 'recency_days', 'qty_products', 'frequency', 'qty_returns']\n",
    "df5 = df_ref[cols_selected].dropna().copy()"
   ]
  },
  {
   "cell_type": "code",
   "execution_count": 65,
   "id": "a17116d3",
   "metadata": {
    "ExecuteTime": {
     "end_time": "2023-02-09T13:57:51.205263Z",
     "start_time": "2023-02-09T13:57:51.169674Z"
    },
    "hidden": true
   },
   "outputs": [],
   "source": [
    "# Encoding features with Min Max Scaler\n",
    "mm = pp.MinMaxScaler()\n",
    "\n",
    "df5['gross_revenue'] = mm.fit_transform(df5[['gross_revenue']])\n",
    "df5['recency_days']  = mm.fit_transform(df5[['recency_days']])\n",
    "df5['qty_products']  = mm.fit_transform(df5[['qty_products']])\n",
    "df5['frequency']     = mm.fit_transform(df5[['frequency']])\n",
    "df5['qty_returns']   = mm.fit_transform(df5[['qty_returns']])"
   ]
  },
  {
   "cell_type": "code",
   "execution_count": 66,
   "id": "6b5b4bdd",
   "metadata": {
    "ExecuteTime": {
     "end_time": "2023-02-09T13:57:51.292669Z",
     "start_time": "2023-02-09T13:57:51.209128Z"
    },
    "hidden": true
   },
   "outputs": [],
   "source": [
    "df5.to_csv('../src/data/data_scaled.csv', index=False)"
   ]
  },
  {
   "cell_type": "markdown",
   "id": "fc8cecf4",
   "metadata": {
    "heading_collapsed": true
   },
   "source": [
    "# 7.0 HYPERPARAMETER FINE-TUNNING "
   ]
  },
  {
   "cell_type": "code",
   "execution_count": 67,
   "id": "cf725d61",
   "metadata": {
    "ExecuteTime": {
     "end_time": "2023-02-09T13:57:51.305140Z",
     "start_time": "2023-02-09T13:57:51.296337Z"
    },
    "hidden": true
   },
   "outputs": [],
   "source": [
    "df7 = df5.drop(columns=['customer_id']).copy()"
   ]
  },
  {
   "cell_type": "markdown",
   "id": "1d44b10b",
   "metadata": {
    "heading_collapsed": true
   },
   "source": [
    "# 8.0 MODEL TRAINING"
   ]
  },
  {
   "cell_type": "code",
   "execution_count": 68,
   "id": "33e6ed62",
   "metadata": {
    "ExecuteTime": {
     "end_time": "2023-02-09T13:57:51.345463Z",
     "start_time": "2023-02-09T13:57:51.309512Z"
    },
    "hidden": true
   },
   "outputs": [],
   "source": [
    "df8 = df7.copy()"
   ]
  },
  {
   "cell_type": "markdown",
   "id": "ec83b734",
   "metadata": {
    "heading_collapsed": true,
    "hidden": true
   },
   "source": [
    "## 8.1 Final Model"
   ]
  },
  {
   "cell_type": "code",
   "execution_count": 69,
   "id": "96b3eb7b",
   "metadata": {
    "ExecuteTime": {
     "end_time": "2023-02-09T13:57:54.319133Z",
     "start_time": "2023-02-09T13:57:51.349587Z"
    },
    "hidden": true,
    "hide_input": false
   },
   "outputs": [],
   "source": [
    "# Model definition\n",
    "k = 7\n",
    "kmeans = c.KMeans(init='random', n_clusters=k, n_init=300, max_iter=300, random_state=42)\n",
    "\n",
    "# Model training\n",
    "kmeans.fit(df8)\n",
    "\n",
    "# Clustering\n",
    "labels = kmeans.labels_"
   ]
  },
  {
   "cell_type": "markdown",
   "id": "b8988097",
   "metadata": {
    "heading_collapsed": true,
    "hidden": true
   },
   "source": [
    "## 8.2 Cluster Validation"
   ]
  },
  {
   "cell_type": "code",
   "execution_count": 70,
   "id": "5acaf0b8",
   "metadata": {
    "ExecuteTime": {
     "end_time": "2023-02-09T13:57:55.359171Z",
     "start_time": "2023-02-09T13:57:54.321667Z"
    },
    "hidden": true,
    "hide_input": false
   },
   "outputs": [
    {
     "name": "stdout",
     "output_type": "stream",
     "text": [
      "WSS value: 21.303788785308136\n",
      "Silhouette Score: 0.49730354526511994\n"
     ]
    }
   ],
   "source": [
    "# WSS (Within-Cluster Sum of Squares)\n",
    "print(f'WSS value: {kmeans.inertia_}')\n",
    "\n",
    "# SS (Silhouette Score)\n",
    "print('Silhouette Score: {}'.format(m.silhouette_score(df8, labels, metric='euclidean')))"
   ]
  },
  {
   "cell_type": "markdown",
   "id": "e9f435f6",
   "metadata": {
    "heading_collapsed": true,
    "hide_input": false
   },
   "source": [
    "# 9.0 CLUSTER ANALYSIS"
   ]
  },
  {
   "cell_type": "code",
   "execution_count": 71,
   "id": "30887f02",
   "metadata": {
    "ExecuteTime": {
     "end_time": "2023-02-09T13:57:55.386807Z",
     "start_time": "2023-02-09T13:57:55.363417Z"
    },
    "hidden": true
   },
   "outputs": [],
   "source": [
    "df9 = df_ref[cols_selected].dropna().copy()\n",
    "df9['cluster'] = labels\n",
    "\n",
    "# change dtypes\n",
    "df9['recency_days'] = df9['recency_days'].astype(int)\n",
    "df9['qty_products'] = df9['qty_products'].astype(int)\n",
    "df9['qty_returns'] = df9['qty_returns'].astype(int)"
   ]
  },
  {
   "cell_type": "code",
   "execution_count": 72,
   "id": "dffa61af",
   "metadata": {
    "ExecuteTime": {
     "end_time": "2023-02-09T13:57:55.503445Z",
     "start_time": "2023-02-09T13:57:55.391311Z"
    },
    "cell_style": "center",
    "hidden": true,
    "scrolled": true
   },
   "outputs": [
    {
     "data": {
      "text/html": [
       "<div>\n",
       "<style scoped>\n",
       "    .dataframe tbody tr th:only-of-type {\n",
       "        vertical-align: middle;\n",
       "    }\n",
       "\n",
       "    .dataframe tbody tr th {\n",
       "        vertical-align: top;\n",
       "    }\n",
       "\n",
       "    .dataframe thead th {\n",
       "        text-align: right;\n",
       "    }\n",
       "</style>\n",
       "<table border=\"1\" class=\"dataframe\">\n",
       "  <thead>\n",
       "    <tr style=\"text-align: right;\">\n",
       "      <th></th>\n",
       "      <th>cluster</th>\n",
       "      <th>customer_id</th>\n",
       "      <th>perc_customer</th>\n",
       "      <th>gross_revenue</th>\n",
       "      <th>recency_days</th>\n",
       "      <th>qty_products</th>\n",
       "      <th>frequency</th>\n",
       "      <th>qty_returns</th>\n",
       "    </tr>\n",
       "  </thead>\n",
       "  <tbody>\n",
       "    <tr>\n",
       "      <th>1</th>\n",
       "      <td>1</td>\n",
       "      <td>12</td>\n",
       "      <td>0.210711</td>\n",
       "      <td>121075.380833</td>\n",
       "      <td>4.333333</td>\n",
       "      <td>2773.250000</td>\n",
       "      <td>0.240823</td>\n",
       "      <td>824.000000</td>\n",
       "    </tr>\n",
       "    <tr>\n",
       "      <th>2</th>\n",
       "      <td>2</td>\n",
       "      <td>2089</td>\n",
       "      <td>36.681299</td>\n",
       "      <td>2658.026438</td>\n",
       "      <td>16.576831</td>\n",
       "      <td>138.081379</td>\n",
       "      <td>0.254557</td>\n",
       "      <td>31.580182</td>\n",
       "    </tr>\n",
       "    <tr>\n",
       "      <th>4</th>\n",
       "      <td>4</td>\n",
       "      <td>1167</td>\n",
       "      <td>20.491659</td>\n",
       "      <td>1053.075561</td>\n",
       "      <td>64.710368</td>\n",
       "      <td>63.405313</td>\n",
       "      <td>0.507442</td>\n",
       "      <td>8.130249</td>\n",
       "    </tr>\n",
       "    <tr>\n",
       "      <th>5</th>\n",
       "      <td>5</td>\n",
       "      <td>529</td>\n",
       "      <td>9.288850</td>\n",
       "      <td>956.755350</td>\n",
       "      <td>342.926276</td>\n",
       "      <td>67.996219</td>\n",
       "      <td>0.987029</td>\n",
       "      <td>142.345936</td>\n",
       "    </tr>\n",
       "    <tr>\n",
       "      <th>6</th>\n",
       "      <td>6</td>\n",
       "      <td>619</td>\n",
       "      <td>10.869183</td>\n",
       "      <td>865.318045</td>\n",
       "      <td>130.050081</td>\n",
       "      <td>62.550889</td>\n",
       "      <td>0.639263</td>\n",
       "      <td>3.568659</td>\n",
       "    </tr>\n",
       "    <tr>\n",
       "      <th>3</th>\n",
       "      <td>3</td>\n",
       "      <td>641</td>\n",
       "      <td>11.255487</td>\n",
       "      <td>657.559984</td>\n",
       "      <td>193.840874</td>\n",
       "      <td>45.485179</td>\n",
       "      <td>0.772596</td>\n",
       "      <td>4.659906</td>\n",
       "    </tr>\n",
       "    <tr>\n",
       "      <th>0</th>\n",
       "      <td>0</td>\n",
       "      <td>638</td>\n",
       "      <td>11.202809</td>\n",
       "      <td>637.307163</td>\n",
       "      <td>265.747649</td>\n",
       "      <td>43.534483</td>\n",
       "      <td>0.904259</td>\n",
       "      <td>19.167712</td>\n",
       "    </tr>\n",
       "  </tbody>\n",
       "</table>\n",
       "</div>"
      ],
      "text/plain": [
       "   cluster  customer_id  perc_customer  gross_revenue  recency_days  \\\n",
       "1        1           12       0.210711  121075.380833      4.333333   \n",
       "2        2         2089      36.681299    2658.026438     16.576831   \n",
       "4        4         1167      20.491659    1053.075561     64.710368   \n",
       "5        5          529       9.288850     956.755350    342.926276   \n",
       "6        6          619      10.869183     865.318045    130.050081   \n",
       "3        3          641      11.255487     657.559984    193.840874   \n",
       "0        0          638      11.202809     637.307163    265.747649   \n",
       "\n",
       "   qty_products  frequency  qty_returns  \n",
       "1   2773.250000   0.240823   824.000000  \n",
       "2    138.081379   0.254557    31.580182  \n",
       "4     63.405313   0.507442     8.130249  \n",
       "5     67.996219   0.987029   142.345936  \n",
       "6     62.550889   0.639263     3.568659  \n",
       "3     45.485179   0.772596     4.659906  \n",
       "0     43.534483   0.904259    19.167712  "
      ]
     },
     "execution_count": 72,
     "metadata": {},
     "output_type": "execute_result"
    }
   ],
   "source": [
    "# Number of customers\n",
    "df_cluster = df9[['customer_id', 'cluster']].groupby('cluster').count().reset_index()\n",
    "df_cluster['perc_customer'] = df_cluster['customer_id']/df_cluster['customer_id'].sum()*100\n",
    "\n",
    "# Avg Gross Revenue\n",
    "df_avg_gross_revenue = df9[['gross_revenue', 'cluster']].groupby('cluster').mean().reset_index()\n",
    "df_cluster = pd.merge(df_cluster, df_avg_gross_revenue, how='inner', on='cluster')\n",
    "\n",
    "# Avg Recency Days\n",
    "df_avg_recency_days= df9[['recency_days', 'cluster']].groupby('cluster').mean().reset_index()\n",
    "df_cluster = pd.merge(df_cluster, df_avg_recency_days, how='inner', on='cluster')\n",
    "\n",
    "# Avg Products quantity\n",
    "df_avg_qty_products = df9[['qty_products', 'cluster']].groupby('cluster').mean().reset_index()\n",
    "df_cluster = pd.merge(df_cluster, df_avg_qty_products, how='inner', on='cluster')\n",
    "\n",
    "# Frequency\n",
    "df_avg_frequency = df9[['frequency', 'cluster']].groupby('cluster').mean().reset_index()\n",
    "df_cluster = pd.merge(df_cluster, df_avg_frequency, how='inner', on='cluster')\n",
    "\n",
    "# Returns\n",
    "df_avg_qty_returns = df9[['qty_returns', 'cluster']].groupby('cluster').mean().reset_index()\n",
    "df_cluster = pd.merge(df_cluster, df_avg_qty_returns, how='inner', on='cluster')\n",
    "\n",
    "df_cluster.sort_values('gross_revenue', ascending=False)"
   ]
  },
  {
   "cell_type": "markdown",
   "id": "6875a0e6",
   "metadata": {
    "heading_collapsed": true,
    "hidden": true
   },
   "source": [
    "## Clusters"
   ]
  },
  {
   "cell_type": "markdown",
   "id": "cdf18bd1",
   "metadata": {
    "cell_style": "center",
    "hidden": true
   },
   "source": [
    "* **Cluster 1:** Insiders\n",
    "    - Número de customers: 12 (0,21% dos costumers)\n",
    "    - Receita: 12.1075,38\n",
    "    - Recência em média: 4 dias\n",
    "    - Quantidade média de produtos comprados: 2773\n",
    "    - Frequência de compra: 0,24\n",
    "    - Quantidade média de produtos retornados: 824\n",
    "\n",
    "\n",
    "* **Cluster 2:**\n",
    "    - Número de customers: 2089 (36,68% dos costumers)\n",
    "    - Receita: 2658,03\n",
    "    - Recência em média: 17 dias\n",
    "    - Quantidade média de produtos comprados: 138\n",
    "    - Frequência de compra: 0,25\n",
    "    - Quantidade média de produtos retornados: 32\n",
    "\n",
    "\n",
    "* **Cluster 4:**\n",
    "    - Número de customers: 1167 (20,49% dos costumers)\n",
    "    - Receita: 1053,08\n",
    "    - Recência em média: 65 dias\n",
    "    - Quantidade média de produtos comprados: 63\n",
    "    - Frequência de compra: 0,51\n",
    "    - Quantidade média de produtos retornados: 8\n",
    "    \n",
    "\n",
    "* **Cluster 5:**\n",
    "    - Número de customers: 529 (9,29% dos costumers)\n",
    "    - Receita: 956,76\n",
    "    - Recência em média: 342 dias\n",
    "    - Quantidade média de produtos comprados: 68\n",
    "    - Frequência de compra: 0,98\n",
    "    - Quantidade média de produtos retornados: 142\n",
    "    \n",
    "    \n",
    "* **Cluster 6:**\n",
    "    - Número de customers: 619 (10,87% dos costumers)\n",
    "    - Receita: 865,32\n",
    "    - Recência em média: 130 dias\n",
    "    - Quantidade média de produtos comprados: 63\n",
    "    - Frequência de compra: 0,64\n",
    "    - Quantidade média de produtos retornados: 4\n",
    "    \n",
    "    \n",
    "* **Cluster 3:**\n",
    "    - Número de customers: 641 (11,26% dos costumers)\n",
    "    - Receita: 657,56\n",
    "    - Recência em média: 194 dias\n",
    "    - Quantidade média de produtos comprados: 45\n",
    "    - Frequência de compra: 0,77\n",
    "    - Quantidade média de produtos retornados: 5\n",
    "    \n",
    "    \n",
    "* **Cluster 0:**\n",
    "    - Número de customers: 638 (11,2% dos costumers)\n",
    "    - Receita: 637,31\n",
    "    - Recência em média: 266 dias\n",
    "    - Quantidade média de produtos comprados: 44\n",
    "    - Frequência de compra: 0,9\n",
    "    - Quantidade média de produtos retornados: 19"
   ]
  },
  {
   "cell_type": "markdown",
   "id": "efad2670",
   "metadata": {
    "heading_collapsed": true
   },
   "source": [
    "# 11.0 DEPLOY TO PRODUCTION"
   ]
  },
  {
   "cell_type": "code",
   "execution_count": 73,
   "id": "260eb516",
   "metadata": {
    "ExecuteTime": {
     "end_time": "2023-02-09T13:57:55.521568Z",
     "start_time": "2023-02-09T13:57:55.507586Z"
    },
    "hidden": true
   },
   "outputs": [
    {
     "data": {
      "text/plain": [
       "customer_id        int64\n",
       "gross_revenue    float64\n",
       "recency_days       int64\n",
       "qty_products       int64\n",
       "frequency        float64\n",
       "qty_returns        int64\n",
       "cluster            int32\n",
       "dtype: object"
      ]
     },
     "execution_count": 73,
     "metadata": {},
     "output_type": "execute_result"
    }
   ],
   "source": [
    "df9.dtypes"
   ]
  },
  {
   "cell_type": "markdown",
   "id": "d3e48bd2",
   "metadata": {
    "heading_collapsed": true,
    "hidden": true
   },
   "source": [
    "## 11.1 Insert into SQLite"
   ]
  },
  {
   "cell_type": "code",
   "execution_count": 74,
   "id": "bf15d791",
   "metadata": {
    "ExecuteTime": {
     "end_time": "2023-02-09T13:57:55.572438Z",
     "start_time": "2023-02-09T13:57:55.526066Z"
    },
    "hidden": true
   },
   "outputs": [],
   "source": [
    "# # Create Table\n",
    "# query_create_table_insiders = \"\"\"\n",
    "#     CREATE TABLE insiders(\n",
    "#         customer_id   INTEGER,\n",
    "#         gross_revenue REAL,\n",
    "#         recency_days  INTEGER,\n",
    "#         qty_products  INTEGER,\n",
    "#         frequency     REAL,\n",
    "#         qty_returns   INTEGER,\n",
    "#         cluster       INTEGER\n",
    "#     )      \n",
    "# \"\"\"\n",
    "\n",
    "# conn = sqlite3.connect('insiders_db.sqlite')\n",
    "# conn.execute(query_create_table_insiders)\n",
    "# conn.commit()\n",
    "# conn.close()\n",
    "\n",
    "# # Insert Data\n",
    "# conn = create_engine('sqlite:///insiders_db.sqlite')\n",
    "\n",
    "# df9.to_sql('insiders', con=conn, if_exists='append', index=False)"
   ]
  },
  {
   "cell_type": "code",
   "execution_count": 75,
   "id": "b200570e",
   "metadata": {
    "ExecuteTime": {
     "end_time": "2023-02-09T13:57:55.822253Z",
     "start_time": "2023-02-09T13:57:55.580380Z"
    },
    "hidden": true
   },
   "outputs": [],
   "source": [
    "# Consulting Database\n",
    "query = \"\"\"\n",
    "    SELECT * FROM insiders\n",
    "\"\"\"\n",
    "\n",
    "conn = create_engine('sqlite:///insiders_db.sqlite')\n",
    "\n",
    "df =pd.read_sql_query(con=conn.connect(), sql=text(query))"
   ]
  },
  {
   "cell_type": "code",
   "execution_count": 76,
   "id": "7662a655",
   "metadata": {
    "ExecuteTime": {
     "end_time": "2023-02-09T13:57:55.852909Z",
     "start_time": "2023-02-09T13:57:55.826443Z"
    },
    "hidden": true
   },
   "outputs": [
    {
     "data": {
      "text/html": [
       "<div>\n",
       "<style scoped>\n",
       "    .dataframe tbody tr th:only-of-type {\n",
       "        vertical-align: middle;\n",
       "    }\n",
       "\n",
       "    .dataframe tbody tr th {\n",
       "        vertical-align: top;\n",
       "    }\n",
       "\n",
       "    .dataframe thead th {\n",
       "        text-align: right;\n",
       "    }\n",
       "</style>\n",
       "<table border=\"1\" class=\"dataframe\">\n",
       "  <thead>\n",
       "    <tr style=\"text-align: right;\">\n",
       "      <th></th>\n",
       "      <th>customer_id</th>\n",
       "      <th>gross_revenue</th>\n",
       "      <th>recency_days</th>\n",
       "      <th>qty_products</th>\n",
       "      <th>frequency</th>\n",
       "      <th>qty_returns</th>\n",
       "      <th>cluster</th>\n",
       "    </tr>\n",
       "  </thead>\n",
       "  <tbody>\n",
       "    <tr>\n",
       "      <th>0</th>\n",
       "      <td>17850</td>\n",
       "      <td>5391.21</td>\n",
       "      <td>372</td>\n",
       "      <td>297</td>\n",
       "      <td>17.000000</td>\n",
       "      <td>40</td>\n",
       "      <td>5</td>\n",
       "    </tr>\n",
       "    <tr>\n",
       "      <th>1</th>\n",
       "      <td>13047</td>\n",
       "      <td>3232.59</td>\n",
       "      <td>56</td>\n",
       "      <td>171</td>\n",
       "      <td>0.028302</td>\n",
       "      <td>35</td>\n",
       "      <td>4</td>\n",
       "    </tr>\n",
       "    <tr>\n",
       "      <th>2</th>\n",
       "      <td>12583</td>\n",
       "      <td>6705.38</td>\n",
       "      <td>2</td>\n",
       "      <td>232</td>\n",
       "      <td>0.040323</td>\n",
       "      <td>50</td>\n",
       "      <td>2</td>\n",
       "    </tr>\n",
       "    <tr>\n",
       "      <th>3</th>\n",
       "      <td>13748</td>\n",
       "      <td>948.25</td>\n",
       "      <td>95</td>\n",
       "      <td>28</td>\n",
       "      <td>0.017921</td>\n",
       "      <td>0</td>\n",
       "      <td>4</td>\n",
       "    </tr>\n",
       "    <tr>\n",
       "      <th>4</th>\n",
       "      <td>15100</td>\n",
       "      <td>876.00</td>\n",
       "      <td>333</td>\n",
       "      <td>3</td>\n",
       "      <td>0.073171</td>\n",
       "      <td>22</td>\n",
       "      <td>5</td>\n",
       "    </tr>\n",
       "    <tr>\n",
       "      <th>...</th>\n",
       "      <td>...</td>\n",
       "      <td>...</td>\n",
       "      <td>...</td>\n",
       "      <td>...</td>\n",
       "      <td>...</td>\n",
       "      <td>...</td>\n",
       "      <td>...</td>\n",
       "    </tr>\n",
       "    <tr>\n",
       "      <th>5690</th>\n",
       "      <td>22706</td>\n",
       "      <td>5699.00</td>\n",
       "      <td>1</td>\n",
       "      <td>634</td>\n",
       "      <td>1.000000</td>\n",
       "      <td>0</td>\n",
       "      <td>2</td>\n",
       "    </tr>\n",
       "    <tr>\n",
       "      <th>5691</th>\n",
       "      <td>22707</td>\n",
       "      <td>6756.06</td>\n",
       "      <td>0</td>\n",
       "      <td>730</td>\n",
       "      <td>1.000000</td>\n",
       "      <td>0</td>\n",
       "      <td>2</td>\n",
       "    </tr>\n",
       "    <tr>\n",
       "      <th>5692</th>\n",
       "      <td>22708</td>\n",
       "      <td>3217.20</td>\n",
       "      <td>0</td>\n",
       "      <td>59</td>\n",
       "      <td>1.000000</td>\n",
       "      <td>0</td>\n",
       "      <td>2</td>\n",
       "    </tr>\n",
       "    <tr>\n",
       "      <th>5693</th>\n",
       "      <td>22709</td>\n",
       "      <td>3950.72</td>\n",
       "      <td>0</td>\n",
       "      <td>217</td>\n",
       "      <td>1.000000</td>\n",
       "      <td>0</td>\n",
       "      <td>2</td>\n",
       "    </tr>\n",
       "    <tr>\n",
       "      <th>5694</th>\n",
       "      <td>12713</td>\n",
       "      <td>794.55</td>\n",
       "      <td>0</td>\n",
       "      <td>37</td>\n",
       "      <td>1.000000</td>\n",
       "      <td>0</td>\n",
       "      <td>2</td>\n",
       "    </tr>\n",
       "  </tbody>\n",
       "</table>\n",
       "<p>5695 rows × 7 columns</p>\n",
       "</div>"
      ],
      "text/plain": [
       "      customer_id  gross_revenue  recency_days  qty_products  frequency  \\\n",
       "0           17850        5391.21           372           297  17.000000   \n",
       "1           13047        3232.59            56           171   0.028302   \n",
       "2           12583        6705.38             2           232   0.040323   \n",
       "3           13748         948.25            95            28   0.017921   \n",
       "4           15100         876.00           333             3   0.073171   \n",
       "...           ...            ...           ...           ...        ...   \n",
       "5690        22706        5699.00             1           634   1.000000   \n",
       "5691        22707        6756.06             0           730   1.000000   \n",
       "5692        22708        3217.20             0            59   1.000000   \n",
       "5693        22709        3950.72             0           217   1.000000   \n",
       "5694        12713         794.55             0            37   1.000000   \n",
       "\n",
       "      qty_returns  cluster  \n",
       "0              40        5  \n",
       "1              35        4  \n",
       "2              50        2  \n",
       "3               0        4  \n",
       "4              22        5  \n",
       "...           ...      ...  \n",
       "5690            0        2  \n",
       "5691            0        2  \n",
       "5692            0        2  \n",
       "5693            0        2  \n",
       "5694            0        2  \n",
       "\n",
       "[5695 rows x 7 columns]"
      ]
     },
     "execution_count": 76,
     "metadata": {},
     "output_type": "execute_result"
    }
   ],
   "source": [
    "df"
   ]
  },
  {
   "cell_type": "code",
   "execution_count": null,
   "id": "9edd31d4",
   "metadata": {
    "hidden": true
   },
   "outputs": [],
   "source": []
  }
 ],
 "metadata": {
  "kernelspec": {
   "display_name": "Python 3 (ipykernel)",
   "language": "python",
   "name": "python3"
  },
  "language_info": {
   "codemirror_mode": {
    "name": "ipython",
    "version": 3
   },
   "file_extension": ".py",
   "mimetype": "text/x-python",
   "name": "python",
   "nbconvert_exporter": "python",
   "pygments_lexer": "ipython3",
   "version": "3.8.12"
  }
 },
 "nbformat": 4,
 "nbformat_minor": 5
}
